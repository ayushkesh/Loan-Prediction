{
  "nbformat": 4,
  "nbformat_minor": 0,
  "metadata": {
    "colab": {
      "name": "Loan Prediction.ipynb",
      "provenance": [],
      "toc_visible": true
    },
    "kernelspec": {
      "display_name": "Python 3",
      "language": "python",
      "name": "python3"
    },
    "language_info": {
      "codemirror_mode": {
        "name": "ipython",
        "version": 3
      },
      "file_extension": ".py",
      "mimetype": "text/x-python",
      "name": "python",
      "nbconvert_exporter": "python",
      "pygments_lexer": "ipython3",
      "version": "3.8.2"
    }
  },
  "cells": [
    {
      "cell_type": "markdown",
      "metadata": {
        "colab_type": "text",
        "id": "JaZC1mbbQUs-"
      },
      "source": [
        "# Loan Approval Prediction\n",
        "Dataset downloaded from the hackathon organised by Analytics Vidhya https://datahack.analyticsvidhya.com/contest/practice-problem-loan-prediction-iii/#ProblemStatement"
      ]
    },
    {
      "cell_type": "markdown",
      "metadata": {
        "colab_type": "text",
        "id": "NT8CMgtEQUtA"
      },
      "source": [
        "# Problem Statement\n",
        "Dream Housing Finance company deals in all kinds of home loans. They have presence across all urban, semi urban and rural areas. Customer first applies for home loan and after that company validates the customer eligibility for loan.\n",
        "\n",
        "Company wants to automate the loan eligibility process (real time) based on customer detail provided while filling online application form. These details are Gender, Marital Status, Education, Number of Dependents, Income, Loan Amount, Credit History and others. To automate this process, they have provided a dataset to identify the customers segments that are eligible for loan amount so that they can specifically target these customers. "
      ]
    },
    {
      "cell_type": "markdown",
      "metadata": {
        "colab_type": "text",
        "id": "zJ-vYbq7QUtC"
      },
      "source": [
        "# Hypothesis Generation\n",
        "\n",
        "- Education - Applicants with higher education level i.e. graduate level should have higher chances of loan approval\n",
        "- Income: Applicants with higher income should have more chances of loan approval\n",
        "- Loan amount: If the loan amount is less, the chances of loan approval should be high\n",
        "- Loan term: Loans with shorter time period should have higher chances of approval\n",
        "- Previous credit history: Applicants who have repayed their previous debts should have higher chances of loan approval\n",
        "- Monthly installment amount: If the monthly installment amount is low, the chances of loan approval should be high\n"
      ]
    },
    {
      "cell_type": "markdown",
      "metadata": {
        "colab_type": "text",
        "id": "KSVki6PHQUtD"
      },
      "source": [
        "# Applying the Pipeline Of Machine Learnig Project\n",
        "- 1. Data Analysis\n",
        "- 2. Feature Engineering\n",
        "- 3. Feature Selection\n",
        "- 4. Model Building\n",
        "- 5. Model Deploymnet (To be deployed later)"
      ]
    },
    {
      "cell_type": "markdown",
      "metadata": {
        "colab_type": "text",
        "id": "i6HcSV6dQUtF"
      },
      "source": [
        "# 1. Data Analysis (EDA)"
      ]
    },
    {
      "cell_type": "code",
      "metadata": {
        "colab_type": "code",
        "id": "Lzmm82g1QUtG",
        "colab": {
          "base_uri": "https://localhost:8080/",
          "height": 70
        },
        "outputId": "422023a6-c5e7-4dce-8ff6-4c0b6b031766"
      },
      "source": [
        "# import the libraries\n",
        "import pandas as pd\n",
        "import numpy as np\n",
        "import matplotlib.pyplot as plt\n",
        "import seaborn as sns\n",
        "import warnings"
      ],
      "execution_count": 1,
      "outputs": [
        {
          "output_type": "stream",
          "text": [
            "/usr/local/lib/python3.6/dist-packages/statsmodels/tools/_testing.py:19: FutureWarning: pandas.util.testing is deprecated. Use the functions in the public API at pandas.testing instead.\n",
            "  import pandas.util.testing as tm\n"
          ],
          "name": "stderr"
        }
      ]
    },
    {
      "cell_type": "code",
      "metadata": {
        "colab_type": "code",
        "id": "dH6kHUnmQUtQ",
        "colab": {}
      },
      "source": [
        "# Load the train and test dataset\n",
        "train = pd.read_csv('train.csv')\n",
        "test = pd.read_csv('test.csv')"
      ],
      "execution_count": 2,
      "outputs": []
    },
    {
      "cell_type": "code",
      "metadata": {
        "colab_type": "code",
        "id": "ICxrtT5FQUtX",
        "colab": {}
      },
      "source": [
        "# copy of original data\n",
        "train_original = train.copy()\n",
        "test_original = test.copy()"
      ],
      "execution_count": 3,
      "outputs": []
    },
    {
      "cell_type": "code",
      "metadata": {
        "colab_type": "code",
        "id": "g9ubwFFxQUtd",
        "colab": {
          "base_uri": "https://localhost:8080/",
          "height": 33
        },
        "outputId": "83f48a1d-9a75-4a3e-cd8e-9da43c262d40"
      },
      "source": [
        "train.shape, test.shape"
      ],
      "execution_count": 4,
      "outputs": [
        {
          "output_type": "execute_result",
          "data": {
            "text/plain": [
              "((614, 13), (367, 12))"
            ]
          },
          "metadata": {
            "tags": []
          },
          "execution_count": 4
        }
      ]
    },
    {
      "cell_type": "code",
      "metadata": {
        "colab_type": "code",
        "id": "_yJegoC6QUtk",
        "colab": {
          "base_uri": "https://localhost:8080/",
          "height": 33
        },
        "outputId": "dffb52ab-f4cd-41be-d91a-a2aad43083d6"
      },
      "source": [
        "# train test split ratio\n",
        "train.shape[0]/(train.shape[0]+test.shape[0]), test.shape[0]/(train.shape[0]+test.shape[0])"
      ],
      "execution_count": 5,
      "outputs": [
        {
          "output_type": "execute_result",
          "data": {
            "text/plain": [
              "(0.6258919469928644, 0.37410805300713557)"
            ]
          },
          "metadata": {
            "tags": []
          },
          "execution_count": 5
        }
      ]
    },
    {
      "cell_type": "code",
      "metadata": {
        "colab_type": "code",
        "id": "Iclq7Ao0QUtt",
        "colab": {
          "base_uri": "https://localhost:8080/",
          "height": 234
        },
        "outputId": "bdf398be-8f7a-4b57-9a34-888c167af47f"
      },
      "source": [
        "# have look over train data \n",
        "train.head()"
      ],
      "execution_count": 6,
      "outputs": [
        {
          "output_type": "execute_result",
          "data": {
            "text/html": [
              "<div>\n",
              "<style scoped>\n",
              "    .dataframe tbody tr th:only-of-type {\n",
              "        vertical-align: middle;\n",
              "    }\n",
              "\n",
              "    .dataframe tbody tr th {\n",
              "        vertical-align: top;\n",
              "    }\n",
              "\n",
              "    .dataframe thead th {\n",
              "        text-align: right;\n",
              "    }\n",
              "</style>\n",
              "<table border=\"1\" class=\"dataframe\">\n",
              "  <thead>\n",
              "    <tr style=\"text-align: right;\">\n",
              "      <th></th>\n",
              "      <th>Loan_ID</th>\n",
              "      <th>Gender</th>\n",
              "      <th>Married</th>\n",
              "      <th>Dependents</th>\n",
              "      <th>Education</th>\n",
              "      <th>Self_Employed</th>\n",
              "      <th>ApplicantIncome</th>\n",
              "      <th>CoapplicantIncome</th>\n",
              "      <th>LoanAmount</th>\n",
              "      <th>Loan_Amount_Term</th>\n",
              "      <th>Credit_History</th>\n",
              "      <th>Property_Area</th>\n",
              "      <th>Loan_Status</th>\n",
              "    </tr>\n",
              "  </thead>\n",
              "  <tbody>\n",
              "    <tr>\n",
              "      <th>0</th>\n",
              "      <td>LP001002</td>\n",
              "      <td>Male</td>\n",
              "      <td>No</td>\n",
              "      <td>0</td>\n",
              "      <td>Graduate</td>\n",
              "      <td>No</td>\n",
              "      <td>5849</td>\n",
              "      <td>0.0</td>\n",
              "      <td>NaN</td>\n",
              "      <td>360.0</td>\n",
              "      <td>1.0</td>\n",
              "      <td>Urban</td>\n",
              "      <td>Y</td>\n",
              "    </tr>\n",
              "    <tr>\n",
              "      <th>1</th>\n",
              "      <td>LP001003</td>\n",
              "      <td>Male</td>\n",
              "      <td>Yes</td>\n",
              "      <td>1</td>\n",
              "      <td>Graduate</td>\n",
              "      <td>No</td>\n",
              "      <td>4583</td>\n",
              "      <td>1508.0</td>\n",
              "      <td>128.0</td>\n",
              "      <td>360.0</td>\n",
              "      <td>1.0</td>\n",
              "      <td>Rural</td>\n",
              "      <td>N</td>\n",
              "    </tr>\n",
              "    <tr>\n",
              "      <th>2</th>\n",
              "      <td>LP001005</td>\n",
              "      <td>Male</td>\n",
              "      <td>Yes</td>\n",
              "      <td>0</td>\n",
              "      <td>Graduate</td>\n",
              "      <td>Yes</td>\n",
              "      <td>3000</td>\n",
              "      <td>0.0</td>\n",
              "      <td>66.0</td>\n",
              "      <td>360.0</td>\n",
              "      <td>1.0</td>\n",
              "      <td>Urban</td>\n",
              "      <td>Y</td>\n",
              "    </tr>\n",
              "    <tr>\n",
              "      <th>3</th>\n",
              "      <td>LP001006</td>\n",
              "      <td>Male</td>\n",
              "      <td>Yes</td>\n",
              "      <td>0</td>\n",
              "      <td>Not Graduate</td>\n",
              "      <td>No</td>\n",
              "      <td>2583</td>\n",
              "      <td>2358.0</td>\n",
              "      <td>120.0</td>\n",
              "      <td>360.0</td>\n",
              "      <td>1.0</td>\n",
              "      <td>Urban</td>\n",
              "      <td>Y</td>\n",
              "    </tr>\n",
              "    <tr>\n",
              "      <th>4</th>\n",
              "      <td>LP001008</td>\n",
              "      <td>Male</td>\n",
              "      <td>No</td>\n",
              "      <td>0</td>\n",
              "      <td>Graduate</td>\n",
              "      <td>No</td>\n",
              "      <td>6000</td>\n",
              "      <td>0.0</td>\n",
              "      <td>141.0</td>\n",
              "      <td>360.0</td>\n",
              "      <td>1.0</td>\n",
              "      <td>Urban</td>\n",
              "      <td>Y</td>\n",
              "    </tr>\n",
              "  </tbody>\n",
              "</table>\n",
              "</div>"
            ],
            "text/plain": [
              "    Loan_ID Gender Married  ... Credit_History Property_Area Loan_Status\n",
              "0  LP001002   Male      No  ...            1.0         Urban           Y\n",
              "1  LP001003   Male     Yes  ...            1.0         Rural           N\n",
              "2  LP001005   Male     Yes  ...            1.0         Urban           Y\n",
              "3  LP001006   Male     Yes  ...            1.0         Urban           Y\n",
              "4  LP001008   Male      No  ...            1.0         Urban           Y\n",
              "\n",
              "[5 rows x 13 columns]"
            ]
          },
          "metadata": {
            "tags": []
          },
          "execution_count": 6
        }
      ]
    },
    {
      "cell_type": "code",
      "metadata": {
        "colab_type": "code",
        "id": "O6njZrYyQUt3",
        "colab": {
          "base_uri": "https://localhost:8080/",
          "height": 234
        },
        "outputId": "adb254a9-00e4-497d-8933-7948fd48c7f2"
      },
      "source": [
        "# have look over test Data\n",
        "test.head()"
      ],
      "execution_count": 7,
      "outputs": [
        {
          "output_type": "execute_result",
          "data": {
            "text/html": [
              "<div>\n",
              "<style scoped>\n",
              "    .dataframe tbody tr th:only-of-type {\n",
              "        vertical-align: middle;\n",
              "    }\n",
              "\n",
              "    .dataframe tbody tr th {\n",
              "        vertical-align: top;\n",
              "    }\n",
              "\n",
              "    .dataframe thead th {\n",
              "        text-align: right;\n",
              "    }\n",
              "</style>\n",
              "<table border=\"1\" class=\"dataframe\">\n",
              "  <thead>\n",
              "    <tr style=\"text-align: right;\">\n",
              "      <th></th>\n",
              "      <th>Loan_ID</th>\n",
              "      <th>Gender</th>\n",
              "      <th>Married</th>\n",
              "      <th>Dependents</th>\n",
              "      <th>Education</th>\n",
              "      <th>Self_Employed</th>\n",
              "      <th>ApplicantIncome</th>\n",
              "      <th>CoapplicantIncome</th>\n",
              "      <th>LoanAmount</th>\n",
              "      <th>Loan_Amount_Term</th>\n",
              "      <th>Credit_History</th>\n",
              "      <th>Property_Area</th>\n",
              "    </tr>\n",
              "  </thead>\n",
              "  <tbody>\n",
              "    <tr>\n",
              "      <th>0</th>\n",
              "      <td>LP001015</td>\n",
              "      <td>Male</td>\n",
              "      <td>Yes</td>\n",
              "      <td>0</td>\n",
              "      <td>Graduate</td>\n",
              "      <td>No</td>\n",
              "      <td>5720</td>\n",
              "      <td>0</td>\n",
              "      <td>110.0</td>\n",
              "      <td>360.0</td>\n",
              "      <td>1.0</td>\n",
              "      <td>Urban</td>\n",
              "    </tr>\n",
              "    <tr>\n",
              "      <th>1</th>\n",
              "      <td>LP001022</td>\n",
              "      <td>Male</td>\n",
              "      <td>Yes</td>\n",
              "      <td>1</td>\n",
              "      <td>Graduate</td>\n",
              "      <td>No</td>\n",
              "      <td>3076</td>\n",
              "      <td>1500</td>\n",
              "      <td>126.0</td>\n",
              "      <td>360.0</td>\n",
              "      <td>1.0</td>\n",
              "      <td>Urban</td>\n",
              "    </tr>\n",
              "    <tr>\n",
              "      <th>2</th>\n",
              "      <td>LP001031</td>\n",
              "      <td>Male</td>\n",
              "      <td>Yes</td>\n",
              "      <td>2</td>\n",
              "      <td>Graduate</td>\n",
              "      <td>No</td>\n",
              "      <td>5000</td>\n",
              "      <td>1800</td>\n",
              "      <td>208.0</td>\n",
              "      <td>360.0</td>\n",
              "      <td>1.0</td>\n",
              "      <td>Urban</td>\n",
              "    </tr>\n",
              "    <tr>\n",
              "      <th>3</th>\n",
              "      <td>LP001035</td>\n",
              "      <td>Male</td>\n",
              "      <td>Yes</td>\n",
              "      <td>2</td>\n",
              "      <td>Graduate</td>\n",
              "      <td>No</td>\n",
              "      <td>2340</td>\n",
              "      <td>2546</td>\n",
              "      <td>100.0</td>\n",
              "      <td>360.0</td>\n",
              "      <td>NaN</td>\n",
              "      <td>Urban</td>\n",
              "    </tr>\n",
              "    <tr>\n",
              "      <th>4</th>\n",
              "      <td>LP001051</td>\n",
              "      <td>Male</td>\n",
              "      <td>No</td>\n",
              "      <td>0</td>\n",
              "      <td>Not Graduate</td>\n",
              "      <td>No</td>\n",
              "      <td>3276</td>\n",
              "      <td>0</td>\n",
              "      <td>78.0</td>\n",
              "      <td>360.0</td>\n",
              "      <td>1.0</td>\n",
              "      <td>Urban</td>\n",
              "    </tr>\n",
              "  </tbody>\n",
              "</table>\n",
              "</div>"
            ],
            "text/plain": [
              "    Loan_ID Gender Married  ... Loan_Amount_Term Credit_History Property_Area\n",
              "0  LP001015   Male     Yes  ...            360.0            1.0         Urban\n",
              "1  LP001022   Male     Yes  ...            360.0            1.0         Urban\n",
              "2  LP001031   Male     Yes  ...            360.0            1.0         Urban\n",
              "3  LP001035   Male     Yes  ...            360.0            NaN         Urban\n",
              "4  LP001051   Male      No  ...            360.0            1.0         Urban\n",
              "\n",
              "[5 rows x 12 columns]"
            ]
          },
          "metadata": {
            "tags": []
          },
          "execution_count": 7
        }
      ]
    },
    {
      "cell_type": "code",
      "metadata": {
        "colab_type": "code",
        "id": "9U_OY2q5QUt9",
        "colab": {
          "base_uri": "https://localhost:8080/",
          "height": 250
        },
        "outputId": "56e7515e-0f57-402e-df7e-2cc1d8c22b7f"
      },
      "source": [
        "# Checking the null value in train and test data\n",
        "# train data set\n",
        "train.isnull().sum()"
      ],
      "execution_count": 8,
      "outputs": [
        {
          "output_type": "execute_result",
          "data": {
            "text/plain": [
              "Loan_ID               0\n",
              "Gender               13\n",
              "Married               3\n",
              "Dependents           15\n",
              "Education             0\n",
              "Self_Employed        32\n",
              "ApplicantIncome       0\n",
              "CoapplicantIncome     0\n",
              "LoanAmount           22\n",
              "Loan_Amount_Term     14\n",
              "Credit_History       50\n",
              "Property_Area         0\n",
              "Loan_Status           0\n",
              "dtype: int64"
            ]
          },
          "metadata": {
            "tags": []
          },
          "execution_count": 8
        }
      ]
    },
    {
      "cell_type": "code",
      "metadata": {
        "colab_type": "code",
        "id": "J_-NPktTQUuD",
        "colab": {
          "base_uri": "https://localhost:8080/",
          "height": 233
        },
        "outputId": "baebd877-06d1-4841-a32a-ac8f89f31fa8"
      },
      "source": [
        "# test data set\n",
        "test.isnull().sum()"
      ],
      "execution_count": 9,
      "outputs": [
        {
          "output_type": "execute_result",
          "data": {
            "text/plain": [
              "Loan_ID               0\n",
              "Gender               11\n",
              "Married               0\n",
              "Dependents           10\n",
              "Education             0\n",
              "Self_Employed        23\n",
              "ApplicantIncome       0\n",
              "CoapplicantIncome     0\n",
              "LoanAmount            5\n",
              "Loan_Amount_Term      6\n",
              "Credit_History       29\n",
              "Property_Area         0\n",
              "dtype: int64"
            ]
          },
          "metadata": {
            "tags": []
          },
          "execution_count": 9
        }
      ]
    },
    {
      "cell_type": "code",
      "metadata": {
        "colab_type": "code",
        "id": "8nnnyOV0QUuJ",
        "colab": {
          "base_uri": "https://localhost:8080/",
          "height": 368
        },
        "outputId": "c4e2a46c-427a-4cf2-ae53-cae1bab72a94"
      },
      "source": [
        "# vizualize 'train dataset' null value using heat-map\n",
        "sns.heatmap(train.isnull(), yticklabels = False, cbar = False )"
      ],
      "execution_count": 10,
      "outputs": [
        {
          "output_type": "execute_result",
          "data": {
            "text/plain": [
              "<matplotlib.axes._subplots.AxesSubplot at 0x7f9ba3ab17b8>"
            ]
          },
          "metadata": {
            "tags": []
          },
          "execution_count": 10
        },
        {
          "output_type": "display_data",
          "data": {
            "image/png": "[encoded data removed]",
            "text/plain": [
              "<Figure size 432x288 with 1 Axes>"
            ]
          },
          "metadata": {
            "tags": [],
            "needs_background": "light"
          }
        }
      ]
    },
    {
      "cell_type": "code",
      "metadata": {
        "colab_type": "code",
        "id": "vjHhZRcwQUuP",
        "colab": {
          "base_uri": "https://localhost:8080/",
          "height": 368
        },
        "outputId": "f8e9047b-3426-4b5f-8d3f-acbfab264586"
      },
      "source": [
        "# vizualize 'test dataset' null value using heat-map\n",
        "sns.heatmap(test.isnull(), yticklabels = False, cbar = False )"
      ],
      "execution_count": 11,
      "outputs": [
        {
          "output_type": "execute_result",
          "data": {
            "text/plain": [
              "<matplotlib.axes._subplots.AxesSubplot at 0x7f9b9ffab668>"
            ]
          },
          "metadata": {
            "tags": []
          },
          "execution_count": 11
        },
        {
          "output_type": "display_data",
          "data": {
            "image/png": "[encoded data removed]",
            "text/plain": [
              "<Figure size 432x288 with 1 Axes>"
            ]
          },
          "metadata": {
            "tags": [],
            "needs_background": "light"
          }
        }
      ]
    },
    {
      "cell_type": "markdown",
      "metadata": {
        "colab_type": "text",
        "id": "nBASxBdiQUuY"
      },
      "source": [
        "**Note**: From above graph it can be vizualise that there is lot of null value in our train and test dataset"
      ]
    },
    {
      "cell_type": "code",
      "metadata": {
        "colab_type": "code",
        "id": "4UT9ZDyyQUuZ",
        "colab": {}
      },
      "source": [
        ""
      ],
      "execution_count": 11,
      "outputs": []
    },
    {
      "cell_type": "markdown",
      "metadata": {
        "colab_type": "text",
        "id": "4jmQNa_EQUuf"
      },
      "source": [
        "**Note: ** So we have 13 feature and 614 rows in train dataset and 12 feature and 367 rows in test dataset, and train-test-split ratio of 63% and 37%."
      ]
    },
    {
      "cell_type": "code",
      "metadata": {
        "colab_type": "code",
        "id": "nFoC5AEVQUug",
        "colab": {
          "base_uri": "https://localhost:8080/",
          "height": 250
        },
        "outputId": "11d391e5-6b04-4f98-9ed7-9d91660eee00"
      },
      "source": [
        "# exploring the data types of train and test dataset\n",
        "train.dtypes"
      ],
      "execution_count": 12,
      "outputs": [
        {
          "output_type": "execute_result",
          "data": {
            "text/plain": [
              "Loan_ID               object\n",
              "Gender                object\n",
              "Married               object\n",
              "Dependents            object\n",
              "Education             object\n",
              "Self_Employed         object\n",
              "ApplicantIncome        int64\n",
              "CoapplicantIncome    float64\n",
              "LoanAmount           float64\n",
              "Loan_Amount_Term     float64\n",
              "Credit_History       float64\n",
              "Property_Area         object\n",
              "Loan_Status           object\n",
              "dtype: object"
            ]
          },
          "metadata": {
            "tags": []
          },
          "execution_count": 12
        }
      ]
    },
    {
      "cell_type": "code",
      "metadata": {
        "colab_type": "code",
        "id": "b1t0MeWWQUul",
        "colab": {
          "base_uri": "https://localhost:8080/",
          "height": 233
        },
        "outputId": "e61accaf-aa99-4003-cd11-ec9ee33df145"
      },
      "source": [
        "test.dtypes"
      ],
      "execution_count": 13,
      "outputs": [
        {
          "output_type": "execute_result",
          "data": {
            "text/plain": [
              "Loan_ID               object\n",
              "Gender                object\n",
              "Married               object\n",
              "Dependents            object\n",
              "Education             object\n",
              "Self_Employed         object\n",
              "ApplicantIncome        int64\n",
              "CoapplicantIncome      int64\n",
              "LoanAmount           float64\n",
              "Loan_Amount_Term     float64\n",
              "Credit_History       float64\n",
              "Property_Area         object\n",
              "dtype: object"
            ]
          },
          "metadata": {
            "tags": []
          },
          "execution_count": 13
        }
      ]
    },
    {
      "cell_type": "markdown",
      "metadata": {
        "colab_type": "text",
        "id": "aselmVEeQUus"
      },
      "source": [
        "**Note: ** Three datatypes in dataset\n",
        "- object\n",
        "- int64\n",
        "- float64"
      ]
    },
    {
      "cell_type": "markdown",
      "metadata": {
        "colab_type": "text",
        "id": "EtiQsmXBQUut"
      },
      "source": [
        "# Univariate Analysis\n",
        "Analysing Each variable individually, the key fact is that only one variable is involved.\n"
      ]
    },
    {
      "cell_type": "markdown",
      "metadata": {
        "colab_type": "text",
        "id": "yrB8dvqPQUuu"
      },
      "source": [
        "### Target variable"
      ]
    },
    {
      "cell_type": "code",
      "metadata": {
        "colab_type": "code",
        "id": "GgtrlZdSQUuv",
        "colab": {
          "base_uri": "https://localhost:8080/",
          "height": 0
        },
        "outputId": "66cf24b5-5e19-4b90-a9f7-c7f4b74e2c7c"
      },
      "source": [
        "# target variable\n",
        "train['Loan_Status'].value_counts()"
      ],
      "execution_count": 14,
      "outputs": [
        {
          "output_type": "execute_result",
          "data": {
            "text/plain": [
              "Y    422\n",
              "N    192\n",
              "Name: Loan_Status, dtype: int64"
            ]
          },
          "metadata": {
            "tags": []
          },
          "execution_count": 14
        }
      ]
    },
    {
      "cell_type": "code",
      "metadata": {
        "colab_type": "code",
        "id": "6OK1mGQ7QUu0",
        "colab": {
          "base_uri": "https://localhost:8080/",
          "height": 0
        },
        "outputId": "99400b74-3cfe-47ee-b76d-8dc3c62d2fcf"
      },
      "source": [
        "# percentage distribution of 'Loan_Status'\n",
        "train['Loan_Status'].value_counts(normalize = True)"
      ],
      "execution_count": 15,
      "outputs": [
        {
          "output_type": "execute_result",
          "data": {
            "text/plain": [
              "Y    0.687296\n",
              "N    0.312704\n",
              "Name: Loan_Status, dtype: float64"
            ]
          },
          "metadata": {
            "tags": []
          },
          "execution_count": 15
        }
      ]
    },
    {
      "cell_type": "code",
      "metadata": {
        "colab_type": "code",
        "id": "mBnxgRwcQUu-",
        "colab": {
          "base_uri": "https://localhost:8080/",
          "height": 0
        },
        "outputId": "8cc219ca-015d-43e2-ca59-50c041e22327"
      },
      "source": [
        "#plot to vizualise \n",
        "sns.countplot('Loan_Status', data = train)"
      ],
      "execution_count": 16,
      "outputs": [
        {
          "output_type": "execute_result",
          "data": {
            "text/plain": [
              "<matplotlib.axes._subplots.AxesSubplot at 0x7f9b9fae0b38>"
            ]
          },
          "metadata": {
            "tags": []
          },
          "execution_count": 16
        },
        {
          "output_type": "display_data",
          "data": {
            "image/png": "[encoded data removed]",
            "text/plain": [
              "<Figure size 432x288 with 1 Axes>"
            ]
          },
          "metadata": {
            "tags": [],
            "needs_background": "light"
          }
        }
      ]
    },
    {
      "cell_type": "markdown",
      "metadata": {
        "colab_type": "text",
        "id": "GEqGCHB8QUvD"
      },
      "source": [
        "# Independent Variable (Categorical)"
      ]
    },
    {
      "cell_type": "markdown",
      "metadata": {
        "colab_type": "text",
        "id": "_du2yhmPQUvE"
      },
      "source": [
        "### Gender"
      ]
    },
    {
      "cell_type": "code",
      "metadata": {
        "colab_type": "code",
        "id": "6iCybIR6QUvF",
        "colab": {
          "base_uri": "https://localhost:8080/",
          "height": 0
        },
        "outputId": "824e292f-577a-4203-dc8f-50f2678441f6"
      },
      "source": [
        "# Gender\n",
        "train['Gender'].value_counts(normalize = True)"
      ],
      "execution_count": 17,
      "outputs": [
        {
          "output_type": "execute_result",
          "data": {
            "text/plain": [
              "Male      0.813644\n",
              "Female    0.186356\n",
              "Name: Gender, dtype: float64"
            ]
          },
          "metadata": {
            "tags": []
          },
          "execution_count": 17
        }
      ]
    },
    {
      "cell_type": "code",
      "metadata": {
        "colab_type": "code",
        "id": "RIkHQ5gZQUvL",
        "colab": {
          "base_uri": "https://localhost:8080/",
          "height": 0
        },
        "outputId": "3b596397-d254-435c-dca1-64996462b046"
      },
      "source": [
        "sns.countplot('Gender', data = train)"
      ],
      "execution_count": 18,
      "outputs": [
        {
          "output_type": "execute_result",
          "data": {
            "text/plain": [
              "<matplotlib.axes._subplots.AxesSubplot at 0x7f9b9fa5f358>"
            ]
          },
          "metadata": {
            "tags": []
          },
          "execution_count": 18
        },
        {
          "output_type": "display_data",
          "data": {
            "image/png": "[encoded data removed]",
            "text/plain": [
              "<Figure size 432x288 with 1 Axes>"
            ]
          },
          "metadata": {
            "tags": [],
            "needs_background": "light"
          }
        }
      ]
    },
    {
      "cell_type": "markdown",
      "metadata": {
        "colab_type": "text",
        "id": "1XLleMYHQUvR"
      },
      "source": [
        "### Married"
      ]
    },
    {
      "cell_type": "code",
      "metadata": {
        "colab_type": "code",
        "id": "B1DBN6p1QUvS",
        "colab": {
          "base_uri": "https://localhost:8080/",
          "height": 0
        },
        "outputId": "38a60039-4763-4393-eb5e-9a7a41d91387"
      },
      "source": [
        "# Married\n",
        "sns.countplot('Married', data = train)"
      ],
      "execution_count": 19,
      "outputs": [
        {
          "output_type": "execute_result",
          "data": {
            "text/plain": [
              "<matplotlib.axes._subplots.AxesSubplot at 0x7f9b9fa19470>"
            ]
          },
          "metadata": {
            "tags": []
          },
          "execution_count": 19
        },
        {
          "output_type": "display_data",
          "data": {
            "image/png": "[encoded data removed]",
            "text/plain": [
              "<Figure size 432x288 with 1 Axes>"
            ]
          },
          "metadata": {
            "tags": [],
            "needs_background": "light"
          }
        }
      ]
    },
    {
      "cell_type": "markdown",
      "metadata": {
        "colab_type": "text",
        "id": "woaAWzrPQUvX"
      },
      "source": [
        "### Self Employed"
      ]
    },
    {
      "cell_type": "code",
      "metadata": {
        "colab_type": "code",
        "id": "awBIY-SGQUvY",
        "colab": {
          "base_uri": "https://localhost:8080/",
          "height": 0
        },
        "outputId": "472f44cf-e8a5-4a92-feb2-81c57f14b188"
      },
      "source": [
        "#Self_Employed\n",
        "sns.countplot('Self_Employed', data = train)"
      ],
      "execution_count": 20,
      "outputs": [
        {
          "output_type": "execute_result",
          "data": {
            "text/plain": [
              "<matplotlib.axes._subplots.AxesSubplot at 0x7f9b9f991780>"
            ]
          },
          "metadata": {
            "tags": []
          },
          "execution_count": 20
        },
        {
          "output_type": "display_data",
          "data": {
            "image/png": "[encoded data removed]",
            "text/plain": [
              "<Figure size 432x288 with 1 Axes>"
            ]
          },
          "metadata": {
            "tags": [],
            "needs_background": "light"
          }
        }
      ]
    },
    {
      "cell_type": "code",
      "metadata": {
        "colab_type": "code",
        "id": "Cze0XmbLQUvf",
        "colab": {
          "base_uri": "https://localhost:8080/",
          "height": 0
        },
        "outputId": "4850fa21-47fb-4f28-dfb0-b4e9f959a7a1"
      },
      "source": [
        "train['Self_Employed'].value_counts(normalize = True)"
      ],
      "execution_count": 21,
      "outputs": [
        {
          "output_type": "execute_result",
          "data": {
            "text/plain": [
              "No     0.859107\n",
              "Yes    0.140893\n",
              "Name: Self_Employed, dtype: float64"
            ]
          },
          "metadata": {
            "tags": []
          },
          "execution_count": 21
        }
      ]
    },
    {
      "cell_type": "markdown",
      "metadata": {
        "colab_type": "text",
        "id": "-vOsFx_WQUvq"
      },
      "source": [
        "### Credit History"
      ]
    },
    {
      "cell_type": "code",
      "metadata": {
        "colab_type": "code",
        "id": "I01hSUOlQUvs",
        "colab": {
          "base_uri": "https://localhost:8080/",
          "height": 0
        },
        "outputId": "4a211cb2-681a-41f2-8296-6482d6719755"
      },
      "source": [
        "#Credit_History\n",
        "sns.countplot('Credit_History', data = train)"
      ],
      "execution_count": 22,
      "outputs": [
        {
          "output_type": "execute_result",
          "data": {
            "text/plain": [
              "<matplotlib.axes._subplots.AxesSubplot at 0x7f9b9f962390>"
            ]
          },
          "metadata": {
            "tags": []
          },
          "execution_count": 22
        },
        {
          "output_type": "display_data",
          "data": {
            "image/png": "[encoded data removed]",
            "text/plain": [
              "<Figure size 432x288 with 1 Axes>"
            ]
          },
          "metadata": {
            "tags": [],
            "needs_background": "light"
          }
        }
      ]
    },
    {
      "cell_type": "code",
      "metadata": {
        "colab_type": "code",
        "id": "Az2DdGGmQUv5",
        "colab": {
          "base_uri": "https://localhost:8080/",
          "height": 0
        },
        "outputId": "f8b5a865-df8e-42d6-fd31-489815eb1e1e"
      },
      "source": [
        "train['Credit_History'].value_counts(normalize = True)"
      ],
      "execution_count": 23,
      "outputs": [
        {
          "output_type": "execute_result",
          "data": {
            "text/plain": [
              "1.0    0.842199\n",
              "0.0    0.157801\n",
              "Name: Credit_History, dtype: float64"
            ]
          },
          "metadata": {
            "tags": []
          },
          "execution_count": 23
        }
      ]
    },
    {
      "cell_type": "markdown",
      "metadata": {
        "colab_type": "text",
        "id": "kQpM_G3VQUwB"
      },
      "source": [
        "### Education"
      ]
    },
    {
      "cell_type": "code",
      "metadata": {
        "colab_type": "code",
        "id": "giiaruPhQUwC",
        "colab": {
          "base_uri": "https://localhost:8080/",
          "height": 0
        },
        "outputId": "8cff6e9c-c15c-4d8e-99ab-bba55bc88442"
      },
      "source": [
        "#Education\n",
        "sns.countplot('Education', data = train)"
      ],
      "execution_count": 24,
      "outputs": [
        {
          "output_type": "execute_result",
          "data": {
            "text/plain": [
              "<matplotlib.axes._subplots.AxesSubplot at 0x7f9b9f9625f8>"
            ]
          },
          "metadata": {
            "tags": []
          },
          "execution_count": 24
        },
        {
          "output_type": "display_data",
          "data": {
            "image/png": "[encoded data removed]",
            "text/plain": [
              "<Figure size 432x288 with 1 Axes>"
            ]
          },
          "metadata": {
            "tags": [],
            "needs_background": "light"
          }
        }
      ]
    },
    {
      "cell_type": "code",
      "metadata": {
        "colab_type": "code",
        "id": "hsqVNZA8QUwK",
        "colab": {
          "base_uri": "https://localhost:8080/",
          "height": 0
        },
        "outputId": "bde470e3-2141-4752-cae6-3d3eab3fefc9"
      },
      "source": [
        "train['Education'].value_counts(normalize = True)"
      ],
      "execution_count": 25,
      "outputs": [
        {
          "output_type": "execute_result",
          "data": {
            "text/plain": [
              "Graduate        0.781759\n",
              "Not Graduate    0.218241\n",
              "Name: Education, dtype: float64"
            ]
          },
          "metadata": {
            "tags": []
          },
          "execution_count": 25
        }
      ]
    },
    {
      "cell_type": "markdown",
      "metadata": {
        "colab_type": "text",
        "id": "vqGpl5iaQUwS"
      },
      "source": [
        "So from the above plot and value count analysis it can be says that\n",
        "- 81% applicant are male in dataset\n",
        "- 65% appliant are married in dataset\n",
        "- 15% applicants are self employed.\n",
        "- 85% applicants have credit history.\n",
        "- 80% applicants are Graduate.\n",
        " "
      ]
    },
    {
      "cell_type": "markdown",
      "metadata": {
        "colab_type": "text",
        "id": "AQVWPw9XQUwT"
      },
      "source": [
        "# Ordinal Variable "
      ]
    },
    {
      "cell_type": "markdown",
      "metadata": {
        "colab_type": "text",
        "id": "bofTzjKHQUwU"
      },
      "source": [
        "### Dependents"
      ]
    },
    {
      "cell_type": "code",
      "metadata": {
        "colab_type": "code",
        "id": "0RU37iYDQUwW",
        "colab": {
          "base_uri": "https://localhost:8080/",
          "height": 0
        },
        "outputId": "9d14a47c-b007-40c9-b951-ef5a5dbfdaae"
      },
      "source": [
        "#Dependents\n",
        "sns.countplot('Dependents', data = train)"
      ],
      "execution_count": 26,
      "outputs": [
        {
          "output_type": "execute_result",
          "data": {
            "text/plain": [
              "<matplotlib.axes._subplots.AxesSubplot at 0x7f9b9f87a668>"
            ]
          },
          "metadata": {
            "tags": []
          },
          "execution_count": 26
        },
        {
          "output_type": "display_data",
          "data": {
            "image/png": "[encoded data removed]",
            "text/plain": [
              "<Figure size 432x288 with 1 Axes>"
            ]
          },
          "metadata": {
            "tags": [],
            "needs_background": "light"
          }
        }
      ]
    },
    {
      "cell_type": "markdown",
      "metadata": {
        "colab_type": "text",
        "id": "3XgReiKtQUwg"
      },
      "source": [
        "### Property Area"
      ]
    },
    {
      "cell_type": "code",
      "metadata": {
        "colab_type": "code",
        "id": "OyoXRBzKQUwg",
        "colab": {
          "base_uri": "https://localhost:8080/",
          "height": 0
        },
        "outputId": "5000e44b-ad4b-4956-935e-f558027224de"
      },
      "source": [
        "#Property_Area\n",
        "sns.countplot('Property_Area' ,data = train)"
      ],
      "execution_count": 27,
      "outputs": [
        {
          "output_type": "execute_result",
          "data": {
            "text/plain": [
              "<matplotlib.axes._subplots.AxesSubplot at 0x7f9b9f86f0f0>"
            ]
          },
          "metadata": {
            "tags": []
          },
          "execution_count": 27
        },
        {
          "output_type": "display_data",
          "data": {
            "image/png": "[encoded data removed]",
            "text/plain": [
              "<Figure size 432x288 with 1 Axes>"
            ]
          },
          "metadata": {
            "tags": [],
            "needs_background": "light"
          }
        }
      ]
    },
    {
      "cell_type": "markdown",
      "metadata": {
        "colab_type": "text",
        "id": "9zMhIr5PQUwl"
      },
      "source": [
        "From above it can be concluded that\n",
        "- Most of the applicant have no any dependents\n",
        "- Majority of the applicants belong from SemiUrban region"
      ]
    },
    {
      "cell_type": "markdown",
      "metadata": {
        "colab_type": "text",
        "id": "8pF3xlK9QUwm"
      },
      "source": [
        "# Numerical Variable "
      ]
    },
    {
      "cell_type": "markdown",
      "metadata": {
        "colab_type": "text",
        "id": "tFOQjmW6QUwm"
      },
      "source": [
        "### Applicant Income"
      ]
    },
    {
      "cell_type": "code",
      "metadata": {
        "colab_type": "code",
        "id": "XG9XAKigQUwn",
        "colab": {
          "base_uri": "https://localhost:8080/",
          "height": 0
        },
        "outputId": "9af55b84-3570-4417-f3cd-b315c55b55ca"
      },
      "source": [
        "#ApplicantIncome\n",
        "plt.subplot(121)\n",
        "sns.distplot(train['ApplicantIncome']);\n",
        "\n",
        "plt.subplot(122)\n",
        "train['ApplicantIncome'].plot.box(figsize=(16,5))\n",
        "\n",
        "plt.show()"
      ],
      "execution_count": 28,
      "outputs": [
        {
          "output_type": "display_data",
          "data": {
            "image/png": "[encoded data removed]",
            "text/plain": [
              "<Figure size 1152x360 with 2 Axes>"
            ]
          },
          "metadata": {
            "tags": [],
            "needs_background": "light"
          }
        }
      ]
    },
    {
      "cell_type": "markdown",
      "metadata": {
        "colab_type": "text",
        "id": "K49Yk7D4QUwr"
      },
      "source": [
        "From Above it can be observe applicant income is towards left which means it is not normally distributed. Right skewed distribution.\n",
        "and from boxplot it can be observe that there is lot of outliers."
      ]
    },
    {
      "cell_type": "markdown",
      "metadata": {
        "colab_type": "text",
        "id": "4y5RnV1JQUws"
      },
      "source": [
        "### Coapplicant"
      ]
    },
    {
      "cell_type": "code",
      "metadata": {
        "colab_type": "code",
        "id": "KFpIF4I1QUwt",
        "colab": {
          "base_uri": "https://localhost:8080/",
          "height": 0
        },
        "outputId": "2311a855-e8cc-4f69-e8f5-c20c051fad2c"
      },
      "source": [
        "# Coapplicant income distribution\n",
        "plt.subplot(121)\n",
        "sns.distplot(train['CoapplicantIncome']);\n",
        "\n",
        "plt.subplot(122)\n",
        "train['CoapplicantIncome'].plot.box(figsize=(16,5))\n",
        "\n",
        "plt.show()"
      ],
      "execution_count": 29,
      "outputs": [
        {
          "output_type": "display_data",
          "data": {
            "image/png": "[encoded data removed]",
            "text/plain": [
              "<Figure size 1152x360 with 2 Axes>"
            ]
          },
          "metadata": {
            "tags": [],
            "needs_background": "light"
          }
        }
      ]
    },
    {
      "cell_type": "markdown",
      "metadata": {
        "colab_type": "text",
        "id": "bUjOOPRBQUwy"
      },
      "source": [
        "Same analysis as in previous case"
      ]
    },
    {
      "cell_type": "markdown",
      "metadata": {
        "colab_type": "text",
        "id": "yFMdxVRmQUwz"
      },
      "source": [
        "### Loan_Amount_Term"
      ]
    },
    {
      "cell_type": "code",
      "metadata": {
        "colab_type": "code",
        "id": "bw8cGZbcQUw0",
        "colab": {
          "base_uri": "https://localhost:8080/",
          "height": 0
        },
        "outputId": "29b6428d-f2eb-41a9-bb44-08c9b3f1dd83"
      },
      "source": [
        "#Loan_Amount_Term\n",
        "train['Loan_Amount_Term'].value_counts(normalize = True)"
      ],
      "execution_count": 30,
      "outputs": [
        {
          "output_type": "execute_result",
          "data": {
            "text/plain": [
              "360.0    0.853333\n",
              "180.0    0.073333\n",
              "480.0    0.025000\n",
              "300.0    0.021667\n",
              "84.0     0.006667\n",
              "240.0    0.006667\n",
              "120.0    0.005000\n",
              "36.0     0.003333\n",
              "60.0     0.003333\n",
              "12.0     0.001667\n",
              "Name: Loan_Amount_Term, dtype: float64"
            ]
          },
          "metadata": {
            "tags": []
          },
          "execution_count": 30
        }
      ]
    },
    {
      "cell_type": "code",
      "metadata": {
        "colab_type": "code",
        "id": "6Y4AtG0vQUw5",
        "colab": {
          "base_uri": "https://localhost:8080/",
          "height": 0
        },
        "outputId": "5bc5a3e6-b4c8-471f-aef8-2f5f5ca7c413"
      },
      "source": [
        "train['Loan_Amount_Term'].value_counts()"
      ],
      "execution_count": 31,
      "outputs": [
        {
          "output_type": "execute_result",
          "data": {
            "text/plain": [
              "360.0    512\n",
              "180.0     44\n",
              "480.0     15\n",
              "300.0     13\n",
              "84.0       4\n",
              "240.0      4\n",
              "120.0      3\n",
              "36.0       2\n",
              "60.0       2\n",
              "12.0       1\n",
              "Name: Loan_Amount_Term, dtype: int64"
            ]
          },
          "metadata": {
            "tags": []
          },
          "execution_count": 31
        }
      ]
    },
    {
      "cell_type": "code",
      "metadata": {
        "colab_type": "code",
        "id": "KUa9A00bQUw9",
        "colab": {
          "base_uri": "https://localhost:8080/",
          "height": 0
        },
        "outputId": "2c446ec5-474d-4f8b-eed2-31ba5005a58f"
      },
      "source": [
        "sns.countplot('Loan_Amount_Term', data = train)"
      ],
      "execution_count": 32,
      "outputs": [
        {
          "output_type": "execute_result",
          "data": {
            "text/plain": [
              "<matplotlib.axes._subplots.AxesSubplot at 0x7f9b9fadf748>"
            ]
          },
          "metadata": {
            "tags": []
          },
          "execution_count": 32
        },
        {
          "output_type": "display_data",
          "data": {
            "image/png": "[encoded data removed]",
            "text/plain": [
              "<Figure size 432x288 with 1 Axes>"
            ]
          },
          "metadata": {
            "tags": [],
            "needs_background": "light"
          }
        }
      ]
    },
    {
      "cell_type": "markdown",
      "metadata": {
        "colab_type": "text",
        "id": "2OlQmzcrQUxA"
      },
      "source": [
        "Around 86% Loan term is of 360 month"
      ]
    },
    {
      "cell_type": "code",
      "metadata": {
        "colab_type": "code",
        "id": "K8Zr-u41QUxA",
        "colab": {}
      },
      "source": [
        ""
      ],
      "execution_count": 32,
      "outputs": []
    },
    {
      "cell_type": "markdown",
      "metadata": {
        "colab_type": "text",
        "id": "tfoPEDM1QUxC"
      },
      "source": [
        "# Bivariate Analysis\n",
        "Exploring variable with respect to target variable and categorical Independent variables"
      ]
    },
    {
      "cell_type": "markdown",
      "metadata": {
        "colab_type": "text",
        "id": "_NyNeijMQUxD"
      },
      "source": [
        "## Categorical Independent Variable vs Target Variable"
      ]
    },
    {
      "cell_type": "markdown",
      "metadata": {
        "colab_type": "text",
        "id": "cHumuOUrQUxD"
      },
      "source": [
        "### Gender vs Loan_Status "
      ]
    },
    {
      "cell_type": "code",
      "metadata": {
        "colab_type": "code",
        "id": "9CPV_Et9QUxE",
        "colab": {
          "base_uri": "https://localhost:8080/",
          "height": 0
        },
        "outputId": "1bcfb85e-5386-4b24-9839-44f19d21ff48"
      },
      "source": [
        "#Gender vs Loan_Status\n",
        "sns.countplot(x=\"Gender\",hue=\"Loan_Status\",data=train)"
      ],
      "execution_count": 33,
      "outputs": [
        {
          "output_type": "execute_result",
          "data": {
            "text/plain": [
              "<matplotlib.axes._subplots.AxesSubplot at 0x7f9b9f7867b8>"
            ]
          },
          "metadata": {
            "tags": []
          },
          "execution_count": 33
        },
        {
          "output_type": "display_data",
          "data": {
            "image/png": "[encoded data removed]",
            "text/plain": [
              "<Figure size 432x288 with 1 Axes>"
            ]
          },
          "metadata": {
            "tags": [],
            "needs_background": "light"
          }
        }
      ]
    },
    {
      "cell_type": "code",
      "metadata": {
        "colab_type": "code",
        "id": "zWCD507bQUxG",
        "colab": {
          "base_uri": "https://localhost:8080/",
          "height": 0
        },
        "outputId": "4103a32a-2e39-445b-b371-fa98382c6423"
      },
      "source": [
        "print(pd.crosstab(train['Married'],train['Loan_Status']))\n",
        "sns.countplot('Married', hue ='Loan_Status', data = train)"
      ],
      "execution_count": 34,
      "outputs": [
        {
          "output_type": "stream",
          "text": [
            "Loan_Status    N    Y\n",
            "Married              \n",
            "No            79  134\n",
            "Yes          113  285\n"
          ],
          "name": "stdout"
        },
        {
          "output_type": "execute_result",
          "data": {
            "text/plain": [
              "<matplotlib.axes._subplots.AxesSubplot at 0x7f9b9f693d68>"
            ]
          },
          "metadata": {
            "tags": []
          },
          "execution_count": 34
        },
        {
          "output_type": "display_data",
          "data": {
            "image/png": "[encoded data removed]",
            "text/plain": [
              "<Figure size 432x288 with 1 Axes>"
            ]
          },
          "metadata": {
            "tags": [],
            "needs_background": "light"
          }
        }
      ]
    },
    {
      "cell_type": "markdown",
      "metadata": {
        "colab_type": "text",
        "id": "dOqePUhnQUxK"
      },
      "source": [
        "### Dependents vs Loan_Status"
      ]
    },
    {
      "cell_type": "code",
      "metadata": {
        "colab_type": "code",
        "id": "YQWc4PupQUxK",
        "colab": {
          "base_uri": "https://localhost:8080/",
          "height": 0
        },
        "outputId": "dd64a442-9e35-416f-9276-a2b427e139c8"
      },
      "source": [
        "# Dependents vs Loan_Status\n",
        "print(pd.crosstab(train['Dependents'], train['Loan_Status']))\n",
        "sns.countplot('Dependents', hue ='Loan_Status', data = train)"
      ],
      "execution_count": 35,
      "outputs": [
        {
          "output_type": "stream",
          "text": [
            "Loan_Status    N    Y\n",
            "Dependents           \n",
            "0            107  238\n",
            "1             36   66\n",
            "2             25   76\n",
            "3+            18   33\n"
          ],
          "name": "stdout"
        },
        {
          "output_type": "execute_result",
          "data": {
            "text/plain": [
              "<matplotlib.axes._subplots.AxesSubplot at 0x7f9b9f72ebe0>"
            ]
          },
          "metadata": {
            "tags": []
          },
          "execution_count": 35
        },
        {
          "output_type": "display_data",
          "data": {
            "image/png": "[encoded data removed]",
            "text/plain": [
              "<Figure size 432x288 with 1 Axes>"
            ]
          },
          "metadata": {
            "tags": [],
            "needs_background": "light"
          }
        }
      ]
    },
    {
      "cell_type": "markdown",
      "metadata": {
        "colab_type": "text",
        "id": "hHNcaa5DQUxP"
      },
      "source": [
        "### Education vs Loan_Status"
      ]
    },
    {
      "cell_type": "code",
      "metadata": {
        "colab_type": "code",
        "id": "yR2DoOwmQUxQ",
        "colab": {
          "base_uri": "https://localhost:8080/",
          "height": 0
        },
        "outputId": "07caa483-50d8-494f-8872-6326d1f020e5"
      },
      "source": [
        "# Educatin vs Loan_Status\n",
        "print(pd.crosstab(train['Education'],train['Loan_Status']))\n",
        "sns.countplot('Education', hue ='Loan_Status', data = train)"
      ],
      "execution_count": 36,
      "outputs": [
        {
          "output_type": "stream",
          "text": [
            "Loan_Status     N    Y\n",
            "Education             \n",
            "Graduate      140  340\n",
            "Not Graduate   52   82\n"
          ],
          "name": "stdout"
        },
        {
          "output_type": "execute_result",
          "data": {
            "text/plain": [
              "<matplotlib.axes._subplots.AxesSubplot at 0x7f9b9f495358>"
            ]
          },
          "metadata": {
            "tags": []
          },
          "execution_count": 36
        },
        {
          "output_type": "display_data",
          "data": {
            "image/png": "[encoded data removed]",
            "text/plain": [
              "<Figure size 432x288 with 1 Axes>"
            ]
          },
          "metadata": {
            "tags": [],
            "needs_background": "light"
          }
        }
      ]
    },
    {
      "cell_type": "markdown",
      "metadata": {
        "colab_type": "text",
        "id": "dVGxI8aYQUxS"
      },
      "source": [
        "### Self_Employed vs Loan_Status"
      ]
    },
    {
      "cell_type": "code",
      "metadata": {
        "colab_type": "code",
        "id": "IKuUBw74QUxT",
        "colab": {
          "base_uri": "https://localhost:8080/",
          "height": 0
        },
        "outputId": "35bb7b30-4640-4ef2-b863-3e41c24f739a"
      },
      "source": [
        "# Self_Employed vs Loan_Status\n",
        "print(pd.crosstab(train['Self_Employed'],train['Loan_Status']))\n",
        "sns.countplot('Self_Employed', hue ='Loan_Status', data = train)"
      ],
      "execution_count": 37,
      "outputs": [
        {
          "output_type": "stream",
          "text": [
            "Loan_Status      N    Y\n",
            "Self_Employed          \n",
            "No             157  343\n",
            "Yes             26   56\n"
          ],
          "name": "stdout"
        },
        {
          "output_type": "execute_result",
          "data": {
            "text/plain": [
              "<matplotlib.axes._subplots.AxesSubplot at 0x7f9b9f706dd8>"
            ]
          },
          "metadata": {
            "tags": []
          },
          "execution_count": 37
        },
        {
          "output_type": "display_data",
          "data": {
            "image/png": "[encoded data removed]",
            "text/plain": [
              "<Figure size 432x288 with 1 Axes>"
            ]
          },
          "metadata": {
            "tags": [],
            "needs_background": "light"
          }
        }
      ]
    },
    {
      "cell_type": "markdown",
      "metadata": {
        "colab_type": "text",
        "id": "eBGiLPCJQUxX"
      },
      "source": [
        "### Credit_History vs Loan_Status"
      ]
    },
    {
      "cell_type": "code",
      "metadata": {
        "colab_type": "code",
        "id": "XVrU2yIHQUxX",
        "colab": {
          "base_uri": "https://localhost:8080/",
          "height": 0
        },
        "outputId": "d483f095-d4e6-497e-8013-50677437b39d"
      },
      "source": [
        "# Credit_History vs Loan_Status\n",
        "print(pd.crosstab(train['Credit_History'],train['Loan_Status']))\n",
        "sns.countplot('Credit_History', hue ='Loan_Status', data = train)"
      ],
      "execution_count": 38,
      "outputs": [
        {
          "output_type": "stream",
          "text": [
            "Loan_Status      N    Y\n",
            "Credit_History         \n",
            "0.0             82    7\n",
            "1.0             97  378\n"
          ],
          "name": "stdout"
        },
        {
          "output_type": "execute_result",
          "data": {
            "text/plain": [
              "<matplotlib.axes._subplots.AxesSubplot at 0x7f9b9f3cb748>"
            ]
          },
          "metadata": {
            "tags": []
          },
          "execution_count": 38
        },
        {
          "output_type": "display_data",
          "data": {
            "image/png": "[encoded data removed]",
            "text/plain": [
              "<Figure size 432x288 with 1 Axes>"
            ]
          },
          "metadata": {
            "tags": [],
            "needs_background": "light"
          }
        }
      ]
    },
    {
      "cell_type": "markdown",
      "metadata": {
        "colab_type": "text",
        "id": "GRJRJZpSQUxZ"
      },
      "source": [
        "### Property_Area vs Loan_Status"
      ]
    },
    {
      "cell_type": "code",
      "metadata": {
        "colab_type": "code",
        "id": "YZ9SVFw5QUxa",
        "colab": {
          "base_uri": "https://localhost:8080/",
          "height": 0
        },
        "outputId": "206a123f-ffda-495a-8e28-f782bfacac7b"
      },
      "source": [
        "#Property_Area vs Loan_Status\n",
        "print(pd.crosstab(train['Property_Area'],train['Loan_Status']))\n",
        "sns.countplot('Property_Area', hue ='Loan_Status', data = train)"
      ],
      "execution_count": 39,
      "outputs": [
        {
          "output_type": "stream",
          "text": [
            "Loan_Status     N    Y\n",
            "Property_Area         \n",
            "Rural          69  110\n",
            "Semiurban      54  179\n",
            "Urban          69  133\n"
          ],
          "name": "stdout"
        },
        {
          "output_type": "execute_result",
          "data": {
            "text/plain": [
              "<matplotlib.axes._subplots.AxesSubplot at 0x7f9b9f341e80>"
            ]
          },
          "metadata": {
            "tags": []
          },
          "execution_count": 39
        },
        {
          "output_type": "display_data",
          "data": {
            "image/png": "[encoded data removed]",
            "text/plain": [
              "<Figure size 432x288 with 1 Axes>"
            ]
          },
          "metadata": {
            "tags": [],
            "needs_background": "light"
          }
        }
      ]
    },
    {
      "cell_type": "markdown",
      "metadata": {
        "colab_type": "text",
        "id": "U_zKMjOhQUxe"
      },
      "source": [
        "From the above chart, it can be says that:\n",
        "- proportion of male and female applicants is more or less same for both approved and unapproved loans\n",
        "- proportion of married applicants is higher for the approved loans\n",
        "- distribution of applicants with 1 or 3+ dependents is similar across both the categories of Loan_Status\n",
        "- there is nothing significant we can infer from Self_Employed vs Loan_Status plot.\n",
        "- proportion of loans getting approved for graduates is higher compared to non-graduates\n",
        "- it seems people with credit history as 1 are more likely to get their loans approved\n",
        "- proportion of loans getting approved in semiurban area is higher as compared to that in rural or urban areas."
      ]
    },
    {
      "cell_type": "markdown",
      "metadata": {
        "colab_type": "text",
        "id": "H-B33vrLQUxe"
      },
      "source": [
        "# Numerica vs Target Variable"
      ]
    },
    {
      "cell_type": "code",
      "metadata": {
        "colab_type": "code",
        "id": "gKhBfTHjQUxf",
        "colab": {
          "base_uri": "https://localhost:8080/",
          "height": 0
        },
        "outputId": "9d7de339-c2a1-4e38-c418-9e6c3c660fcc"
      },
      "source": [
        "sns.scatterplot(x=\"LoanAmount\",y=\"ApplicantIncome\",data=train)"
      ],
      "execution_count": 40,
      "outputs": [
        {
          "output_type": "execute_result",
          "data": {
            "text/plain": [
              "<matplotlib.axes._subplots.AxesSubplot at 0x7f9b9f394e48>"
            ]
          },
          "metadata": {
            "tags": []
          },
          "execution_count": 40
        },
        {
          "output_type": "display_data",
          "data": {
            "image/png": "[encoded data removed]",
            "text/plain": [
              "<Figure size 432x288 with 1 Axes>"
            ]
          },
          "metadata": {
            "tags": [],
            "needs_background": "light"
          }
        }
      ]
    },
    {
      "cell_type": "markdown",
      "metadata": {
        "colab_type": "text",
        "id": "pMicrO_nQUxi"
      },
      "source": [
        "# Assigning Flag to categorical variable "
      ]
    },
    {
      "cell_type": "code",
      "metadata": {
        "colab_type": "code",
        "id": "-nuA_-3bQUxi",
        "colab": {
          "base_uri": "https://localhost:8080/",
          "height": 0
        },
        "outputId": "ea1abcd7-5162-4055-da43-03281c78dc65"
      },
      "source": [
        "# Gender\n",
        "train_original['Gender'].unique() "
      ],
      "execution_count": 41,
      "outputs": [
        {
          "output_type": "execute_result",
          "data": {
            "text/plain": [
              "array(['Male', 'Female', nan], dtype=object)"
            ]
          },
          "metadata": {
            "tags": []
          },
          "execution_count": 41
        }
      ]
    },
    {
      "cell_type": "code",
      "metadata": {
        "colab_type": "code",
        "id": "XpLqpVGhQUxl",
        "colab": {}
      },
      "source": [
        "train['Gender'] = train['Gender'].map({'Male':1,'Female':0})"
      ],
      "execution_count": 42,
      "outputs": []
    },
    {
      "cell_type": "code",
      "metadata": {
        "colab_type": "code",
        "id": "TZ8pzZ65QUxn",
        "colab": {
          "base_uri": "https://localhost:8080/",
          "height": 0
        },
        "outputId": "63e532a3-edcf-4f7e-ee1f-a2719ed495e9"
      },
      "source": [
        "# Married\n",
        "train_original['Married'].unique()"
      ],
      "execution_count": 43,
      "outputs": [
        {
          "output_type": "execute_result",
          "data": {
            "text/plain": [
              "array(['No', 'Yes', nan], dtype=object)"
            ]
          },
          "metadata": {
            "tags": []
          },
          "execution_count": 43
        }
      ]
    },
    {
      "cell_type": "code",
      "metadata": {
        "colab_type": "code",
        "id": "exrxTnslQUxq",
        "colab": {}
      },
      "source": [
        "train['Married'] = train['Married'].map({\"Yes\":1,\"No\":0})"
      ],
      "execution_count": 44,
      "outputs": []
    },
    {
      "cell_type": "code",
      "metadata": {
        "colab_type": "code",
        "id": "GqS5HiILQUxt",
        "colab": {}
      },
      "source": [
        "# Dependents\n",
        "train['Dependents'] = train['Dependents'].map({\"0\":0,\"1\":1,\"2\":2,\"3+\":4})"
      ],
      "execution_count": 45,
      "outputs": []
    },
    {
      "cell_type": "code",
      "metadata": {
        "colab_type": "code",
        "id": "REK1SSXeQUxu",
        "colab": {}
      },
      "source": [
        "# Education\n",
        "train['Education'] = train['Education'].map({\"Graduate\":1,\"Not Graduate\":0})"
      ],
      "execution_count": 46,
      "outputs": []
    },
    {
      "cell_type": "code",
      "metadata": {
        "colab_type": "code",
        "id": "YoXqtwXKQUxz",
        "colab": {}
      },
      "source": [
        "# Self Employed\n",
        "train['Self_Employed'] = train['Self_Employed'].map({\"Yes\":1,\"No\":0})"
      ],
      "execution_count": 47,
      "outputs": []
    },
    {
      "cell_type": "code",
      "metadata": {
        "colab_type": "code",
        "id": "TIZJu6VzQUx2",
        "colab": {}
      },
      "source": [
        "# Property Area\n",
        "train['Property_Area'] = train['Property_Area'].map({\"Rural\":1,\"Semiurban\":2,\"Urban\":3})"
      ],
      "execution_count": 48,
      "outputs": []
    },
    {
      "cell_type": "code",
      "metadata": {
        "colab_type": "code",
        "id": "AQxfCCqYQUx5",
        "colab": {}
      },
      "source": [
        "# Loan Status\n",
        "train['Loan_Status'] = train['Loan_Status'].map({\"Y\":1,\"N\":0})"
      ],
      "execution_count": 49,
      "outputs": []
    },
    {
      "cell_type": "markdown",
      "metadata": {
        "colab_type": "text",
        "id": "1WA4uTalQUx7"
      },
      "source": [
        "# Correlation\n",
        "It is important to discover and quantify the degree to which variables in your dataset are dependent upon each other.\n",
        "Correlation values range between -1 and 1. There are two key components of a correlation value:\n",
        "- magnitude – The larger the magnitude (closer to 1 or -1), the stronger the correlation\n",
        "- sign – If negative, there is an inverse correlation. If positive, there is a regular correlation."
      ]
    },
    {
      "cell_type": "code",
      "metadata": {
        "colab_type": "code",
        "id": "fDDJGZD7QUx7",
        "colab": {
          "base_uri": "https://localhost:8080/",
          "height": 0
        },
        "outputId": "e068ee58-7e41-4cbf-c6e0-56d755002bd8"
      },
      "source": [
        "# Correlation Matrix\n",
        "matrix = train.corr()\n",
        "ax = plt.subplots(figsize=(9, 6))\n",
        "sns.heatmap(matrix, vmax=1, square=True, cmap=\"BuPu\", annot=True)\n",
        "matrix"
      ],
      "execution_count": 50,
      "outputs": [
        {
          "output_type": "execute_result",
          "data": {
            "text/html": [
              "<div>\n",
              "<style scoped>\n",
              "    .dataframe tbody tr th:only-of-type {\n",
              "        vertical-align: middle;\n",
              "    }\n",
              "\n",
              "    .dataframe tbody tr th {\n",
              "        vertical-align: top;\n",
              "    }\n",
              "\n",
              "    .dataframe thead th {\n",
              "        text-align: right;\n",
              "    }\n",
              "</style>\n",
              "<table border=\"1\" class=\"dataframe\">\n",
              "  <thead>\n",
              "    <tr style=\"text-align: right;\">\n",
              "      <th></th>\n",
              "      <th>Gender</th>\n",
              "      <th>Married</th>\n",
              "      <th>Dependents</th>\n",
              "      <th>Education</th>\n",
              "      <th>Self_Employed</th>\n",
              "      <th>ApplicantIncome</th>\n",
              "      <th>CoapplicantIncome</th>\n",
              "      <th>LoanAmount</th>\n",
              "      <th>Loan_Amount_Term</th>\n",
              "      <th>Credit_History</th>\n",
              "      <th>Property_Area</th>\n",
              "      <th>Loan_Status</th>\n",
              "    </tr>\n",
              "  </thead>\n",
              "  <tbody>\n",
              "    <tr>\n",
              "      <th>Gender</th>\n",
              "      <td>1.000000</td>\n",
              "      <td>0.369612</td>\n",
              "      <td>0.168347</td>\n",
              "      <td>-0.049258</td>\n",
              "      <td>-0.009829</td>\n",
              "      <td>0.053989</td>\n",
              "      <td>0.083946</td>\n",
              "      <td>0.106947</td>\n",
              "      <td>-0.075117</td>\n",
              "      <td>0.016337</td>\n",
              "      <td>-0.024556</td>\n",
              "      <td>0.019857</td>\n",
              "    </tr>\n",
              "    <tr>\n",
              "      <th>Married</th>\n",
              "      <td>0.369612</td>\n",
              "      <td>1.000000</td>\n",
              "      <td>0.316592</td>\n",
              "      <td>-0.014223</td>\n",
              "      <td>0.001909</td>\n",
              "      <td>0.051332</td>\n",
              "      <td>0.077770</td>\n",
              "      <td>0.149519</td>\n",
              "      <td>-0.103810</td>\n",
              "      <td>0.004381</td>\n",
              "      <td>0.002918</td>\n",
              "      <td>0.089280</td>\n",
              "    </tr>\n",
              "    <tr>\n",
              "      <th>Dependents</th>\n",
              "      <td>0.168347</td>\n",
              "      <td>0.316592</td>\n",
              "      <td>1.000000</td>\n",
              "      <td>-0.062254</td>\n",
              "      <td>0.048433</td>\n",
              "      <td>0.134625</td>\n",
              "      <td>0.031882</td>\n",
              "      <td>0.171972</td>\n",
              "      <td>-0.101388</td>\n",
              "      <td>-0.056637</td>\n",
              "      <td>-0.005676</td>\n",
              "      <td>-0.000760</td>\n",
              "    </tr>\n",
              "    <tr>\n",
              "      <th>Education</th>\n",
              "      <td>-0.049258</td>\n",
              "      <td>-0.014223</td>\n",
              "      <td>-0.062254</td>\n",
              "      <td>1.000000</td>\n",
              "      <td>0.012333</td>\n",
              "      <td>0.140760</td>\n",
              "      <td>0.062290</td>\n",
              "      <td>0.171133</td>\n",
              "      <td>0.078784</td>\n",
              "      <td>0.081822</td>\n",
              "      <td>0.065243</td>\n",
              "      <td>0.085884</td>\n",
              "    </tr>\n",
              "    <tr>\n",
              "      <th>Self_Employed</th>\n",
              "      <td>-0.009829</td>\n",
              "      <td>0.001909</td>\n",
              "      <td>0.048433</td>\n",
              "      <td>0.012333</td>\n",
              "      <td>1.000000</td>\n",
              "      <td>0.140826</td>\n",
              "      <td>-0.011152</td>\n",
              "      <td>0.123931</td>\n",
              "      <td>-0.037069</td>\n",
              "      <td>0.003883</td>\n",
              "      <td>-0.031214</td>\n",
              "      <td>-0.002303</td>\n",
              "    </tr>\n",
              "    <tr>\n",
              "      <th>ApplicantIncome</th>\n",
              "      <td>0.053989</td>\n",
              "      <td>0.051332</td>\n",
              "      <td>0.134625</td>\n",
              "      <td>0.140760</td>\n",
              "      <td>0.140826</td>\n",
              "      <td>1.000000</td>\n",
              "      <td>-0.116605</td>\n",
              "      <td>0.570909</td>\n",
              "      <td>-0.045306</td>\n",
              "      <td>-0.014715</td>\n",
              "      <td>-0.009500</td>\n",
              "      <td>-0.004710</td>\n",
              "    </tr>\n",
              "    <tr>\n",
              "      <th>CoapplicantIncome</th>\n",
              "      <td>0.083946</td>\n",
              "      <td>0.077770</td>\n",
              "      <td>0.031882</td>\n",
              "      <td>0.062290</td>\n",
              "      <td>-0.011152</td>\n",
              "      <td>-0.116605</td>\n",
              "      <td>1.000000</td>\n",
              "      <td>0.188619</td>\n",
              "      <td>-0.059878</td>\n",
              "      <td>-0.002056</td>\n",
              "      <td>0.010522</td>\n",
              "      <td>-0.059187</td>\n",
              "    </tr>\n",
              "    <tr>\n",
              "      <th>LoanAmount</th>\n",
              "      <td>0.106947</td>\n",
              "      <td>0.149519</td>\n",
              "      <td>0.171972</td>\n",
              "      <td>0.171133</td>\n",
              "      <td>0.123931</td>\n",
              "      <td>0.570909</td>\n",
              "      <td>0.188619</td>\n",
              "      <td>1.000000</td>\n",
              "      <td>0.039447</td>\n",
              "      <td>-0.008433</td>\n",
              "      <td>-0.045792</td>\n",
              "      <td>-0.037318</td>\n",
              "    </tr>\n",
              "    <tr>\n",
              "      <th>Loan_Amount_Term</th>\n",
              "      <td>-0.075117</td>\n",
              "      <td>-0.103810</td>\n",
              "      <td>-0.101388</td>\n",
              "      <td>0.078784</td>\n",
              "      <td>-0.037069</td>\n",
              "      <td>-0.045306</td>\n",
              "      <td>-0.059878</td>\n",
              "      <td>0.039447</td>\n",
              "      <td>1.000000</td>\n",
              "      <td>0.001470</td>\n",
              "      <td>-0.078748</td>\n",
              "      <td>-0.021268</td>\n",
              "    </tr>\n",
              "    <tr>\n",
              "      <th>Credit_History</th>\n",
              "      <td>0.016337</td>\n",
              "      <td>0.004381</td>\n",
              "      <td>-0.056637</td>\n",
              "      <td>0.081822</td>\n",
              "      <td>0.003883</td>\n",
              "      <td>-0.014715</td>\n",
              "      <td>-0.002056</td>\n",
              "      <td>-0.008433</td>\n",
              "      <td>0.001470</td>\n",
              "      <td>1.000000</td>\n",
              "      <td>-0.001969</td>\n",
              "      <td>0.561678</td>\n",
              "    </tr>\n",
              "    <tr>\n",
              "      <th>Property_Area</th>\n",
              "      <td>-0.024556</td>\n",
              "      <td>0.002918</td>\n",
              "      <td>-0.005676</td>\n",
              "      <td>0.065243</td>\n",
              "      <td>-0.031214</td>\n",
              "      <td>-0.009500</td>\n",
              "      <td>0.010522</td>\n",
              "      <td>-0.045792</td>\n",
              "      <td>-0.078748</td>\n",
              "      <td>-0.001969</td>\n",
              "      <td>1.000000</td>\n",
              "      <td>0.032112</td>\n",
              "    </tr>\n",
              "    <tr>\n",
              "      <th>Loan_Status</th>\n",
              "      <td>0.019857</td>\n",
              "      <td>0.089280</td>\n",
              "      <td>-0.000760</td>\n",
              "      <td>0.085884</td>\n",
              "      <td>-0.002303</td>\n",
              "      <td>-0.004710</td>\n",
              "      <td>-0.059187</td>\n",
              "      <td>-0.037318</td>\n",
              "      <td>-0.021268</td>\n",
              "      <td>0.561678</td>\n",
              "      <td>0.032112</td>\n",
              "      <td>1.000000</td>\n",
              "    </tr>\n",
              "  </tbody>\n",
              "</table>\n",
              "</div>"
            ],
            "text/plain": [
              "                     Gender   Married  ...  Property_Area  Loan_Status\n",
              "Gender             1.000000  0.369612  ...      -0.024556     0.019857\n",
              "Married            0.369612  1.000000  ...       0.002918     0.089280\n",
              "Dependents         0.168347  0.316592  ...      -0.005676    -0.000760\n",
              "Education         -0.049258 -0.014223  ...       0.065243     0.085884\n",
              "Self_Employed     -0.009829  0.001909  ...      -0.031214    -0.002303\n",
              "ApplicantIncome    0.053989  0.051332  ...      -0.009500    -0.004710\n",
              "CoapplicantIncome  0.083946  0.077770  ...       0.010522    -0.059187\n",
              "LoanAmount         0.106947  0.149519  ...      -0.045792    -0.037318\n",
              "Loan_Amount_Term  -0.075117 -0.103810  ...      -0.078748    -0.021268\n",
              "Credit_History     0.016337  0.004381  ...      -0.001969     0.561678\n",
              "Property_Area     -0.024556  0.002918  ...       1.000000     0.032112\n",
              "Loan_Status        0.019857  0.089280  ...       0.032112     1.000000\n",
              "\n",
              "[12 rows x 12 columns]"
            ]
          },
          "metadata": {
            "tags": []
          },
          "execution_count": 50
        },
        {
          "output_type": "display_data",
          "data": {
            "image/png": "[encoded data removed]",
            "text/plain": [
              "<Figure size 648x432 with 2 Axes>"
            ]
          },
          "metadata": {
            "tags": [],
            "needs_background": "light"
          }
        }
      ]
    },
    {
      "cell_type": "markdown",
      "metadata": {
        "colab_type": "text",
        "id": "cjebdLDMQUx9"
      },
      "source": [
        ""
      ]
    },
    {
      "cell_type": "markdown",
      "metadata": {
        "colab_type": "text",
        "id": "E4CJkfsnQUx-"
      },
      "source": [
        "**Note: ** We see that the most correlated variables are\n",
        "- Gender has highest correlation with Married\n",
        "- Dependants has highest correlation with Married\n",
        "- Self Employed has highest correlation with Applicant Income\n",
        "- ApplicantIncome - LoanAmount with correlation coefficient of 0.57\n",
        "- LoanAmount is also correlated with CoapplicantIncome with correlation coefficient of 0.19.\n",
        "- Credit History is highly correlated with Loan Status "
      ]
    },
    {
      "cell_type": "markdown",
      "metadata": {
        "colab_type": "text",
        "id": "A48aDmU8QUx-"
      },
      "source": [
        "# Data Preprocessing \n",
        "Transformation of Raw Data into understandable Format, in simple term we can say this is the process called Data Mining. "
      ]
    },
    {
      "cell_type": "markdown",
      "metadata": {
        "colab_type": "text",
        "id": "hYoirhvEQUx-"
      },
      "source": [
        "# Missing Value And Outlier Treatment\n",
        "After exploring all the variables in our data, we can now impute the missing values and treat the outliers because missing data and outliers can have adverse effect on the model performance."
      ]
    },
    {
      "cell_type": "code",
      "metadata": {
        "colab_type": "code",
        "id": "rstcyVRuQUyA",
        "colab": {
          "base_uri": "https://localhost:8080/",
          "height": 0
        },
        "outputId": "9176b88e-7b5c-4e70-acf4-76070f1f5962"
      },
      "source": [
        "train_original.head()"
      ],
      "execution_count": 51,
      "outputs": [
        {
          "output_type": "execute_result",
          "data": {
            "text/html": [
              "<div>\n",
              "<style scoped>\n",
              "    .dataframe tbody tr th:only-of-type {\n",
              "        vertical-align: middle;\n",
              "    }\n",
              "\n",
              "    .dataframe tbody tr th {\n",
              "        vertical-align: top;\n",
              "    }\n",
              "\n",
              "    .dataframe thead th {\n",
              "        text-align: right;\n",
              "    }\n",
              "</style>\n",
              "<table border=\"1\" class=\"dataframe\">\n",
              "  <thead>\n",
              "    <tr style=\"text-align: right;\">\n",
              "      <th></th>\n",
              "      <th>Loan_ID</th>\n",
              "      <th>Gender</th>\n",
              "      <th>Married</th>\n",
              "      <th>Dependents</th>\n",
              "      <th>Education</th>\n",
              "      <th>Self_Employed</th>\n",
              "      <th>ApplicantIncome</th>\n",
              "      <th>CoapplicantIncome</th>\n",
              "      <th>LoanAmount</th>\n",
              "      <th>Loan_Amount_Term</th>\n",
              "      <th>Credit_History</th>\n",
              "      <th>Property_Area</th>\n",
              "      <th>Loan_Status</th>\n",
              "    </tr>\n",
              "  </thead>\n",
              "  <tbody>\n",
              "    <tr>\n",
              "      <th>0</th>\n",
              "      <td>LP001002</td>\n",
              "      <td>Male</td>\n",
              "      <td>No</td>\n",
              "      <td>0</td>\n",
              "      <td>Graduate</td>\n",
              "      <td>No</td>\n",
              "      <td>5849</td>\n",
              "      <td>0.0</td>\n",
              "      <td>NaN</td>\n",
              "      <td>360.0</td>\n",
              "      <td>1.0</td>\n",
              "      <td>Urban</td>\n",
              "      <td>Y</td>\n",
              "    </tr>\n",
              "    <tr>\n",
              "      <th>1</th>\n",
              "      <td>LP001003</td>\n",
              "      <td>Male</td>\n",
              "      <td>Yes</td>\n",
              "      <td>1</td>\n",
              "      <td>Graduate</td>\n",
              "      <td>No</td>\n",
              "      <td>4583</td>\n",
              "      <td>1508.0</td>\n",
              "      <td>128.0</td>\n",
              "      <td>360.0</td>\n",
              "      <td>1.0</td>\n",
              "      <td>Rural</td>\n",
              "      <td>N</td>\n",
              "    </tr>\n",
              "    <tr>\n",
              "      <th>2</th>\n",
              "      <td>LP001005</td>\n",
              "      <td>Male</td>\n",
              "      <td>Yes</td>\n",
              "      <td>0</td>\n",
              "      <td>Graduate</td>\n",
              "      <td>Yes</td>\n",
              "      <td>3000</td>\n",
              "      <td>0.0</td>\n",
              "      <td>66.0</td>\n",
              "      <td>360.0</td>\n",
              "      <td>1.0</td>\n",
              "      <td>Urban</td>\n",
              "      <td>Y</td>\n",
              "    </tr>\n",
              "    <tr>\n",
              "      <th>3</th>\n",
              "      <td>LP001006</td>\n",
              "      <td>Male</td>\n",
              "      <td>Yes</td>\n",
              "      <td>0</td>\n",
              "      <td>Not Graduate</td>\n",
              "      <td>No</td>\n",
              "      <td>2583</td>\n",
              "      <td>2358.0</td>\n",
              "      <td>120.0</td>\n",
              "      <td>360.0</td>\n",
              "      <td>1.0</td>\n",
              "      <td>Urban</td>\n",
              "      <td>Y</td>\n",
              "    </tr>\n",
              "    <tr>\n",
              "      <th>4</th>\n",
              "      <td>LP001008</td>\n",
              "      <td>Male</td>\n",
              "      <td>No</td>\n",
              "      <td>0</td>\n",
              "      <td>Graduate</td>\n",
              "      <td>No</td>\n",
              "      <td>6000</td>\n",
              "      <td>0.0</td>\n",
              "      <td>141.0</td>\n",
              "      <td>360.0</td>\n",
              "      <td>1.0</td>\n",
              "      <td>Urban</td>\n",
              "      <td>Y</td>\n",
              "    </tr>\n",
              "  </tbody>\n",
              "</table>\n",
              "</div>"
            ],
            "text/plain": [
              "    Loan_ID Gender Married  ... Credit_History Property_Area Loan_Status\n",
              "0  LP001002   Male      No  ...            1.0         Urban           Y\n",
              "1  LP001003   Male     Yes  ...            1.0         Rural           N\n",
              "2  LP001005   Male     Yes  ...            1.0         Urban           Y\n",
              "3  LP001006   Male     Yes  ...            1.0         Urban           Y\n",
              "4  LP001008   Male      No  ...            1.0         Urban           Y\n",
              "\n",
              "[5 rows x 13 columns]"
            ]
          },
          "metadata": {
            "tags": []
          },
          "execution_count": 51
        }
      ]
    },
    {
      "cell_type": "markdown",
      "metadata": {
        "colab_type": "text",
        "id": "EViUjmRrQUyD"
      },
      "source": [
        "### As gender and Married are highly correlated, so filled missing value in Gender by using married feature"
      ]
    },
    {
      "cell_type": "code",
      "metadata": {
        "colab_type": "code",
        "id": "NG8wz6LwQUyD",
        "colab": {}
      },
      "source": [
        "# Missing value in Gender columns for train data\n",
        "train_original.loc[(train_original['Gender'].isnull()) & (train_original['Married']== 'Yes'),'Gender']= 'Male'\n",
        "train_original.loc[(train_original['Gender'].isnull()) & (train_original['Married']== 'No'),'Gender']= 'Female'"
      ],
      "execution_count": 52,
      "outputs": []
    },
    {
      "cell_type": "code",
      "metadata": {
        "colab_type": "code",
        "id": "gq5xVWDpQUyH",
        "colab": {
          "base_uri": "https://localhost:8080/",
          "height": 0
        },
        "outputId": "4477e928-c6d4-4c18-82f4-584f678eb74f"
      },
      "source": [
        "train_original[\"Gender\"].isnull().sum()"
      ],
      "execution_count": 53,
      "outputs": [
        {
          "output_type": "execute_result",
          "data": {
            "text/plain": [
              "0"
            ]
          },
          "metadata": {
            "tags": []
          },
          "execution_count": 53
        }
      ]
    },
    {
      "cell_type": "code",
      "metadata": {
        "colab_type": "code",
        "id": "oZryz3P7QUyJ",
        "colab": {}
      },
      "source": [
        "# Missing value in Gender columns for test data\n",
        "test.loc[(test['Gender'].isnull()) & (test['Married'] == 'Yes'),'Gender']= 'Male'\n",
        "test.loc[(test['Gender'].isnull()) & (test['Married']== 'No'),'Gender']= 'Female'"
      ],
      "execution_count": 54,
      "outputs": []
    },
    {
      "cell_type": "code",
      "metadata": {
        "colab_type": "code",
        "id": "csrOWKJNQUyK",
        "colab": {}
      },
      "source": [
        "# Missing value in MArried columns for train data\n",
        "train_original.loc[(train_original[\"Married\"].isnull()) & (train_original[\"Gender\"]==\"Male\"),\"Married\"]=\"Yes\"\n",
        "train_original.loc[(train_original[\"Married\"].isnull()) & (train_original[\"Gender\"]==\"Female\"),\"Married\"]=\"No\""
      ],
      "execution_count": 55,
      "outputs": []
    },
    {
      "cell_type": "code",
      "metadata": {
        "colab_type": "code",
        "id": "suIkypagQUyM",
        "colab": {
          "base_uri": "https://localhost:8080/",
          "height": 0
        },
        "outputId": "821f409e-c691-44e6-97ca-e7aa3efb690b"
      },
      "source": [
        "train_original['Married'].isnull().sum()"
      ],
      "execution_count": 56,
      "outputs": [
        {
          "output_type": "execute_result",
          "data": {
            "text/plain": [
              "0"
            ]
          },
          "metadata": {
            "tags": []
          },
          "execution_count": 56
        }
      ]
    },
    {
      "cell_type": "markdown",
      "metadata": {
        "colab_type": "text",
        "id": "ZpnVTCRgQUyN"
      },
      "source": [
        "### Dependent"
      ]
    },
    {
      "cell_type": "code",
      "metadata": {
        "colab_type": "code",
        "id": "aIA5_NXFQUyO",
        "colab": {
          "base_uri": "https://localhost:8080/",
          "height": 0
        },
        "outputId": "027cff39-5890-4a65-cea0-84465a92e316"
      },
      "source": [
        "# Dependent\n",
        "train_original['Dependents'].value_counts()"
      ],
      "execution_count": 57,
      "outputs": [
        {
          "output_type": "execute_result",
          "data": {
            "text/plain": [
              "0     345\n",
              "1     102\n",
              "2     101\n",
              "3+     51\n",
              "Name: Dependents, dtype: int64"
            ]
          },
          "metadata": {
            "tags": []
          },
          "execution_count": 57
        }
      ]
    },
    {
      "cell_type": "code",
      "metadata": {
        "colab_type": "code",
        "id": "yChV2IA9QUyP",
        "colab": {
          "base_uri": "https://localhost:8080/",
          "height": 0
        },
        "outputId": "81850a05-0d0c-4617-8785-250fea5f9978"
      },
      "source": [
        "test['Dependents'].value_counts()"
      ],
      "execution_count": 58,
      "outputs": [
        {
          "output_type": "execute_result",
          "data": {
            "text/plain": [
              "0     200\n",
              "2      59\n",
              "1      58\n",
              "3+     40\n",
              "Name: Dependents, dtype: int64"
            ]
          },
          "metadata": {
            "tags": []
          },
          "execution_count": 58
        }
      ]
    },
    {
      "cell_type": "code",
      "metadata": {
        "colab_type": "code",
        "id": "ljpD_qHbQUyR",
        "colab": {}
      },
      "source": [
        "# fill zero in place of missing value\n",
        "train_original['Dependents']= train_original['Dependents'].fillna('0')\n",
        "test['Dependents']= test['Dependents'].fillna('0')"
      ],
      "execution_count": 59,
      "outputs": []
    },
    {
      "cell_type": "code",
      "metadata": {
        "colab_type": "code",
        "id": "5DaleGxTQUyT",
        "colab": {
          "base_uri": "https://localhost:8080/",
          "height": 0
        },
        "outputId": "293e0b35-185e-4cbb-9765-3fff92539522"
      },
      "source": [
        "test['Dependents'].unique()"
      ],
      "execution_count": 60,
      "outputs": [
        {
          "output_type": "execute_result",
          "data": {
            "text/plain": [
              "array(['0', '1', '2', '3+'], dtype=object)"
            ]
          },
          "metadata": {
            "tags": []
          },
          "execution_count": 60
        }
      ]
    },
    {
      "cell_type": "code",
      "metadata": {
        "colab_type": "code",
        "id": "-_5Za6r5QUyV",
        "colab": {}
      },
      "source": [
        "train_original['Dependents']= train_original['Dependents'].map({\"0\":0,\"1\":1,\"2\":2,\"3+\":4})\n",
        "test['Dependents']= test['Dependents'].map({\"0\":0,\"1\":1,\"2\":2,\"3+\":4})"
      ],
      "execution_count": 61,
      "outputs": []
    },
    {
      "cell_type": "code",
      "metadata": {
        "colab_type": "code",
        "id": "_4n0m6LtQUyY",
        "colab": {}
      },
      "source": [
        "# Label Encoder for dependents \n",
        "from sklearn.preprocessing import LabelEncoder\n",
        "le = LabelEncoder()\n",
        "train_original['Dependents']= le.fit_transform(train_original['Dependents'])\n",
        "test['Dependents']= le.fit_transform(test['Dependents'])"
      ],
      "execution_count": 62,
      "outputs": []
    },
    {
      "cell_type": "markdown",
      "metadata": {
        "colab_type": "text",
        "id": "NFlhH6XtQUya"
      },
      "source": [
        "### Self employed vs Education  are highly correlated missing value filled  "
      ]
    },
    {
      "cell_type": "code",
      "metadata": {
        "colab_type": "code",
        "id": "VsRu0Gr1QUya",
        "colab": {
          "base_uri": "https://localhost:8080/",
          "height": 0
        },
        "outputId": "6c6a46b3-b53c-4c47-ee45-ac539862fe07"
      },
      "source": [
        "train_original['Self_Employed'].isnull().sum()"
      ],
      "execution_count": 63,
      "outputs": [
        {
          "output_type": "execute_result",
          "data": {
            "text/plain": [
              "32"
            ]
          },
          "metadata": {
            "tags": []
          },
          "execution_count": 63
        }
      ]
    },
    {
      "cell_type": "code",
      "metadata": {
        "colab_type": "code",
        "id": "HIPnHyrkQUyc",
        "colab": {}
      },
      "source": [
        "# Missing value in Self Employed columns for train data\n",
        "train_original.loc[(train_original[\"Self_Employed\"].isnull()) & (train_original[\"Education\"]==\"Graduate\"),\"Self_Employed\"]=\"No\"\n",
        "train_original.loc[(train_original[\"Self_Employed\"].isnull()) & (train_original[\"Education\"]==\"Not Graduate\"),\"Self_Employed\"]=\"Yes\""
      ],
      "execution_count": 64,
      "outputs": []
    },
    {
      "cell_type": "code",
      "metadata": {
        "colab_type": "code",
        "id": "JpSOHrloQUyd",
        "colab": {
          "base_uri": "https://localhost:8080/",
          "height": 0
        },
        "outputId": "2ea3278a-a019-4550-e356-ca1141a6e72e"
      },
      "source": [
        "train_original['Self_Employed'].isnull().sum()"
      ],
      "execution_count": 65,
      "outputs": [
        {
          "output_type": "execute_result",
          "data": {
            "text/plain": [
              "0"
            ]
          },
          "metadata": {
            "tags": []
          },
          "execution_count": 65
        }
      ]
    },
    {
      "cell_type": "code",
      "metadata": {
        "colab_type": "code",
        "id": "hmpCjPTwQUyg",
        "colab": {}
      },
      "source": [
        "# Missing value in Self Employed columns for test data\n",
        "test.loc[(test[\"Self_Employed\"].isnull()) & (test[\"Education\"]==\"Graduate\"),\"Self_Employed\"]=\"No\"\n",
        "test.loc[(test[\"Self_Employed\"].isnull()) & (test[\"Education\"]==\"Not Graduate\"),\"Self_Employed\"]=\"Yes\""
      ],
      "execution_count": 66,
      "outputs": []
    },
    {
      "cell_type": "code",
      "metadata": {
        "colab_type": "code",
        "id": "_uu-wzAyQUyl",
        "colab": {
          "base_uri": "https://localhost:8080/",
          "height": 0
        },
        "outputId": "cd241a32-7cde-4202-9c59-83b92591955e"
      },
      "source": [
        "test['Self_Employed'].isnull().sum()"
      ],
      "execution_count": 67,
      "outputs": [
        {
          "output_type": "execute_result",
          "data": {
            "text/plain": [
              "0"
            ]
          },
          "metadata": {
            "tags": []
          },
          "execution_count": 67
        }
      ]
    },
    {
      "cell_type": "code",
      "metadata": {
        "colab_type": "code",
        "id": "wGRKLJnMQUyo",
        "colab": {
          "base_uri": "https://localhost:8080/",
          "height": 0
        },
        "outputId": "24676701-574e-47db-bfd6-c83c32737221"
      },
      "source": [
        "# check whether all the missing values are filled in the Train dataset\n",
        "train_original.isnull().sum()"
      ],
      "execution_count": 68,
      "outputs": [
        {
          "output_type": "execute_result",
          "data": {
            "text/plain": [
              "Loan_ID               0\n",
              "Gender                0\n",
              "Married               0\n",
              "Dependents            0\n",
              "Education             0\n",
              "Self_Employed         0\n",
              "ApplicantIncome       0\n",
              "CoapplicantIncome     0\n",
              "LoanAmount           22\n",
              "Loan_Amount_Term     14\n",
              "Credit_History       50\n",
              "Property_Area         0\n",
              "Loan_Status           0\n",
              "dtype: int64"
            ]
          },
          "metadata": {
            "tags": []
          },
          "execution_count": 68
        }
      ]
    },
    {
      "cell_type": "markdown",
      "metadata": {
        "colab_type": "text",
        "id": "5zRHpHCVQUyq"
      },
      "source": [
        "### Outlier treatment and Detection"
      ]
    },
    {
      "cell_type": "code",
      "metadata": {
        "colab_type": "code",
        "id": "mYmzjgKtQUyq",
        "colab": {
          "base_uri": "https://localhost:8080/",
          "height": 0
        },
        "outputId": "c1858afb-c17f-4964-d42f-ab1262e8bf60"
      },
      "source": [
        "sns.scatterplot(x=\"LoanAmount\",y=\"ApplicantIncome\",data=train_original)"
      ],
      "execution_count": 69,
      "outputs": [
        {
          "output_type": "execute_result",
          "data": {
            "text/plain": [
              "<matplotlib.axes._subplots.AxesSubplot at 0x7f9b9cb04710>"
            ]
          },
          "metadata": {
            "tags": []
          },
          "execution_count": 69
        },
        {
          "output_type": "display_data",
          "data": {
            "image/png": "[encoded data removed]",
            "text/plain": [
              "<Figure size 432x288 with 1 Axes>"
            ]
          },
          "metadata": {
            "tags": [],
            "needs_background": "light"
          }
        }
      ]
    },
    {
      "cell_type": "markdown",
      "metadata": {
        "colab_type": "text",
        "id": "GgqHkhGZQUyt"
      },
      "source": [
        "From Above it can be seen there is lots of out lier"
      ]
    },
    {
      "cell_type": "code",
      "metadata": {
        "colab_type": "code",
        "id": "bCQHWrmGQUyt",
        "colab": {
          "base_uri": "https://localhost:8080/",
          "height": 0
        },
        "outputId": "7e20a213-bf95-482e-ce92-ee9593872172"
      },
      "source": [
        "# Outlier Detection\n",
        "train_original['LoanAmount'].quantile([0.1,0.2,0.3]) #checking for outliers"
      ],
      "execution_count": 70,
      "outputs": [
        {
          "output_type": "execute_result",
          "data": {
            "text/plain": [
              "0.1     71.0\n",
              "0.2     95.0\n",
              "0.3    108.0\n",
              "Name: LoanAmount, dtype: float64"
            ]
          },
          "metadata": {
            "tags": []
          },
          "execution_count": 70
        }
      ]
    },
    {
      "cell_type": "code",
      "metadata": {
        "colab_type": "code",
        "id": "CO5WVV9fQUyv",
        "colab": {
          "base_uri": "https://localhost:8080/",
          "height": 0
        },
        "outputId": "a5e4e3a4-74e2-4111-b9a8-68a82d609720"
      },
      "source": [
        "# Outlier Detection\n",
        "train_original['LoanAmount'].quantile([1.0,0.99,0.98])"
      ],
      "execution_count": 71,
      "outputs": [
        {
          "output_type": "execute_result",
          "data": {
            "text/plain": [
              "1.00    700.00\n",
              "0.99    496.36\n",
              "0.98    443.92\n",
              "Name: LoanAmount, dtype: float64"
            ]
          },
          "metadata": {
            "tags": []
          },
          "execution_count": 71
        }
      ]
    },
    {
      "cell_type": "code",
      "metadata": {
        "colab_type": "code",
        "id": "3NRgVnv_QUy0",
        "colab": {}
      },
      "source": [
        "train_original.drop(train_original[train_original[\"LoanAmount\"]>496.36].index,axis=0,inplace=True) #removing outliers"
      ],
      "execution_count": 72,
      "outputs": []
    },
    {
      "cell_type": "code",
      "metadata": {
        "colab_type": "code",
        "id": "hr61gbN6QUy4",
        "colab": {
          "base_uri": "https://localhost:8080/",
          "height": 0
        },
        "outputId": "437aa85a-08e3-49bf-ba60-7afd217e7971"
      },
      "source": [
        "train_original.shape"
      ],
      "execution_count": 73,
      "outputs": [
        {
          "output_type": "execute_result",
          "data": {
            "text/plain": [
              "(608, 13)"
            ]
          },
          "metadata": {
            "tags": []
          },
          "execution_count": 73
        }
      ]
    },
    {
      "cell_type": "code",
      "metadata": {
        "colab_type": "code",
        "id": "LJ1vdDytQUy7",
        "colab": {}
      },
      "source": [
        "# We'll use fast_knn from impyute library to fill the missing values in loan amount \n",
        "\n",
        "#missing_data = train_original[[\"LoanAmount\",\"ApplicantIncome\"]]\n",
        "#missing_data\n",
        "\n",
        "#missing_data.isnull().sum()\n",
        "\n",
        "#! pip install impyute\n",
        "\n",
        "#import impyute as imp\n",
        "\n",
        "#missing_data = imp.fast_knn(missing_data)"
      ],
      "execution_count": 74,
      "outputs": []
    },
    {
      "cell_type": "markdown",
      "metadata": {
        "colab_type": "text",
        "id": "hT8MekrwQUy9"
      },
      "source": [
        "### LoanAmount"
      ]
    },
    {
      "cell_type": "code",
      "metadata": {
        "colab_type": "code",
        "id": "ts9FEJBRQUy9",
        "colab": {}
      },
      "source": [
        "# Removing skewness in LoanAmount variable by log transformation\n",
        "train_original['LoanAmount'] = np.log(train['LoanAmount'])\n",
        "test['LoanAmount'] = np.log(test['LoanAmount'])"
      ],
      "execution_count": 75,
      "outputs": []
    },
    {
      "cell_type": "code",
      "metadata": {
        "colab_type": "code",
        "id": "0GVGJUxLQUy_",
        "colab": {}
      },
      "source": [
        "train_original['LoanAmount'] = train_original['LoanAmount'].fillna(train_original['LoanAmount'].median())\n",
        "test['LoanAmount'] = test['LoanAmount'].fillna(test['LoanAmount'].median())"
      ],
      "execution_count": 76,
      "outputs": []
    },
    {
      "cell_type": "code",
      "metadata": {
        "colab_type": "code",
        "id": "hJ12BG71QUzB",
        "colab": {
          "base_uri": "https://localhost:8080/",
          "height": 0
        },
        "outputId": "300d852a-87d8-4380-cfd9-db6f01592823"
      },
      "source": [
        "train_original['LoanAmount'].isnull().sum(), test['LoanAmount'].isnull().sum()"
      ],
      "execution_count": 77,
      "outputs": [
        {
          "output_type": "execute_result",
          "data": {
            "text/plain": [
              "(0, 0)"
            ]
          },
          "metadata": {
            "tags": []
          },
          "execution_count": 77
        }
      ]
    },
    {
      "cell_type": "code",
      "metadata": {
        "colab_type": "code",
        "id": "CIGSseAsQUzC",
        "colab": {
          "base_uri": "https://localhost:8080/",
          "height": 0
        },
        "outputId": "3ee6a0a5-2f32-4997-e3bb-e0fad57562dd"
      },
      "source": [
        "# after log transformation\n",
        "ax1 = plt.subplot(121)\n",
        "train_original['LoanAmount'].hist(bins=20, figsize=(12,4))\n",
        "ax1.set_title(\"Train\")\n",
        "ax2 = plt.subplot(122)\n",
        "test['LoanAmount'].hist(bins=20)\n",
        "ax2.set_title(\"Test\")"
      ],
      "execution_count": 78,
      "outputs": [
        {
          "output_type": "execute_result",
          "data": {
            "text/plain": [
              "Text(0.5, 1.0, 'Test')"
            ]
          },
          "metadata": {
            "tags": []
          },
          "execution_count": 78
        },
        {
          "output_type": "display_data",
          "data": {
            "image/png": "[encoded data removed]",
            "text/plain": [
              "<Figure size 864x288 with 2 Axes>"
            ]
          },
          "metadata": {
            "tags": [],
            "needs_background": "light"
          }
        }
      ]
    },
    {
      "cell_type": "code",
      "metadata": {
        "colab_type": "code",
        "id": "YG_FE850QUzE",
        "colab": {}
      },
      "source": [
        "train_original['Loan_Amount_Term'] = train_original['Loan_Amount_Term'].fillna(360.0)\n",
        "test['Loan_Amount_Term'] = test['Loan_Amount_Term'].fillna(360.0)"
      ],
      "execution_count": 79,
      "outputs": []
    },
    {
      "cell_type": "markdown",
      "metadata": {
        "colab_type": "text",
        "id": "Enn5tWK-QUzG"
      },
      "source": [
        "### Credit history and Loan Status are corelated so filled missing value using Loan Status"
      ]
    },
    {
      "cell_type": "code",
      "metadata": {
        "colab_type": "code",
        "id": "tbKSDRWMQUzG",
        "colab": {}
      },
      "source": [
        "train_original.loc[(train_original[\"Credit_History\"].isnull()) & (train_original[\"Loan_Status\"]==\"Y\"),\"Credit_History\"]=1.0\n",
        "train_original.loc[(train_original[\"Credit_History\"].isnull()) & (train_original[\"Loan_Status\"]==\"N\"),\"Credit_History\"]=0.0"
      ],
      "execution_count": 80,
      "outputs": []
    },
    {
      "cell_type": "code",
      "metadata": {
        "colab_type": "code",
        "id": "Wcj-eG5RQUzI",
        "colab": {}
      },
      "source": [
        "test['Credit_History'] = test['Credit_History'].fillna(1.0)"
      ],
      "execution_count": 81,
      "outputs": []
    },
    {
      "cell_type": "markdown",
      "metadata": {
        "colab_type": "text",
        "id": "9PeVUUl2QUzJ"
      },
      "source": [
        "# 2. Feature Engineering "
      ]
    },
    {
      "cell_type": "code",
      "metadata": {
        "colab_type": "code",
        "id": "h1rEkLkLQUzK",
        "colab": {}
      },
      "source": [
        "# combine Applicant Income and Coapplicant Income into a new variable\n",
        "train_original['Total_Income'] = train_original['ApplicantIncome'] + train_original['CoapplicantIncome']\n",
        "test['Total_Income'] = test['ApplicantIncome'] + test['CoapplicantIncome']"
      ],
      "execution_count": 82,
      "outputs": []
    },
    {
      "cell_type": "code",
      "metadata": {
        "colab_type": "code",
        "id": "RvcQjHqiQUzL",
        "colab": {
          "base_uri": "https://localhost:8080/",
          "height": 0
        },
        "outputId": "dd7028ba-ae4f-4649-c1c3-365b83c88e1e"
      },
      "source": [
        "# check the distribution of Total Income\n",
        "# before log transformation\n",
        "\n",
        "fig = plt.figure(figsize=(14, 4))\n",
        "ax1 = plt.subplot(121)\n",
        "sns.distplot(train_original['Total_Income'])\n",
        " \n",
        "ax1.set_title(\"Train\")\n",
        "\n",
        "ax1 = plt.subplot(122)\n",
        "sns.distplot(test['Total_Income'])\n",
        "ax1.set_title(\"Test\")"
      ],
      "execution_count": 83,
      "outputs": [
        {
          "output_type": "execute_result",
          "data": {
            "text/plain": [
              "Text(0.5, 1.0, 'Test')"
            ]
          },
          "metadata": {
            "tags": []
          },
          "execution_count": 83
        },
        {
          "output_type": "display_data",
          "data": {
            "image/png": "[encoded data removed]",
            "text/plain": [
              "<Figure size 1008x288 with 2 Axes>"
            ]
          },
          "metadata": {
            "tags": [],
            "needs_background": "light"
          }
        }
      ]
    },
    {
      "cell_type": "code",
      "metadata": {
        "colab_type": "code",
        "id": "lF3eLVOBQUzN",
        "colab": {}
      },
      "source": [
        "# log transformation\n",
        "train_original['Total_Income_log'] = np.log(train_original['Total_Income'])\n",
        "test['Total_Income_log']  =  np.log(test['Total_Income'])"
      ],
      "execution_count": 84,
      "outputs": []
    },
    {
      "cell_type": "code",
      "metadata": {
        "colab_type": "code",
        "id": "SL8X4PoMQUzO",
        "colab": {
          "base_uri": "https://localhost:8080/",
          "height": 0
        },
        "outputId": "c556fd9a-c7ed-4d4f-9694-c7f4a7e7e7b7"
      },
      "source": [
        "# after log transformation\n",
        "fig = plt.figure(figsize=(14, 4))\n",
        "ax1 = plt.subplot(121)\n",
        "sns.distplot(train_original['Total_Income_log'])\n",
        "ax1.set_title(\"Train\")\n",
        "\n",
        "ax1 = plt.subplot(122)\n",
        "sns.distplot(test['Total_Income_log'])\n",
        "ax1.set_title(\"Test\")"
      ],
      "execution_count": 85,
      "outputs": [
        {
          "output_type": "execute_result",
          "data": {
            "text/plain": [
              "Text(0.5, 1.0, 'Test')"
            ]
          },
          "metadata": {
            "tags": []
          },
          "execution_count": 85
        },
        {
          "output_type": "display_data",
          "data": {
            "image/png": "[encoded data removed]",
            "text/plain": [
              "<Figure size 1008x288 with 2 Axes>"
            ]
          },
          "metadata": {
            "tags": [],
            "needs_background": "light"
          }
        }
      ]
    },
    {
      "cell_type": "markdown",
      "metadata": {
        "colab_type": "text",
        "id": "W3c2ixuoQUzS"
      },
      "source": [
        "Now the distribution looks much closer to normal and effect of extreme values has been significantly subsided. Let’s create the EMI feature now. We can calculate the EMI by taking the ratio of loan amount with respect to loan amount term. It is just an approximation of actual EMI."
      ]
    },
    {
      "cell_type": "code",
      "metadata": {
        "colab_type": "code",
        "id": "yN1EF1JvQUzS",
        "colab": {}
      },
      "source": [
        "# create EMI feature\n",
        "train_original['EMI'] = (train_original['LoanAmount']*0.09*(1.09**train_original['Loan_Amount_Term']))/(1.09**(train_original['Loan_Amount_Term']-1))\n",
        "test['EMI'] = (test['LoanAmount']*0.09*(1.09**test['Loan_Amount_Term']))/(1.09**(test['Loan_Amount_Term']-1))"
      ],
      "execution_count": 86,
      "outputs": []
    },
    {
      "cell_type": "code",
      "metadata": {
        "colab_type": "code",
        "id": "zinPymKAQUzU",
        "colab": {
          "base_uri": "https://localhost:8080/",
          "height": 0
        },
        "outputId": "36c68901-324c-4898-b8ba-f7ca533c6626"
      },
      "source": [
        "# check the distribution of EMI\n",
        "\n",
        "fig = plt.figure(figsize=(14, 4))\n",
        "ax1 = plt.subplot(121)\n",
        "sns.distplot(train_original['EMI'])\n",
        "ax1.set_title(\"Train\")\n",
        "\n",
        "ax1 = plt.subplot(122)\n",
        "sns.distplot(test['EMI'])\n",
        "ax1.set_title(\"Test\")"
      ],
      "execution_count": 87,
      "outputs": [
        {
          "output_type": "execute_result",
          "data": {
            "text/plain": [
              "Text(0.5, 1.0, 'Test')"
            ]
          },
          "metadata": {
            "tags": []
          },
          "execution_count": 87
        },
        {
          "output_type": "display_data",
          "data": {
            "image/png": "[encoded data removed]",
            "text/plain": [
              "<Figure size 1008x288 with 2 Axes>"
            ]
          },
          "metadata": {
            "tags": [],
            "needs_background": "light"
          }
        }
      ]
    },
    {
      "cell_type": "markdown",
      "metadata": {
        "colab_type": "text",
        "id": "68W8C6jYQUzX"
      },
      "source": [
        "Let us create Balance Income feature now and check its distribution. This is the income left after the EMI has been paid."
      ]
    },
    {
      "cell_type": "code",
      "metadata": {
        "colab_type": "code",
        "id": "vjG1hxAuQUzY",
        "colab": {}
      },
      "source": [
        ""
      ],
      "execution_count": 87,
      "outputs": []
    },
    {
      "cell_type": "markdown",
      "metadata": {
        "colab_type": "text",
        "id": "3s_wwg-nQUzZ"
      },
      "source": [
        "# 3. Feature Selection"
      ]
    },
    {
      "cell_type": "code",
      "metadata": {
        "colab_type": "code",
        "id": "f8gOpp7VQUza",
        "colab": {}
      },
      "source": [
        "# drop the variables\n",
        "train_original = train_original.drop(['ApplicantIncome','CoapplicantIncome','LoanAmount','Total_Income','Loan_Amount_Term'], axis=1)\n",
        "test = test.drop(['ApplicantIncome', 'CoapplicantIncome','LoanAmount','Total_Income','Loan_Amount_Term'], axis=1)"
      ],
      "execution_count": 88,
      "outputs": []
    },
    {
      "cell_type": "code",
      "metadata": {
        "colab_type": "code",
        "id": "B_OojHXqQUzb",
        "colab": {
          "base_uri": "https://localhost:8080/",
          "height": 0
        },
        "outputId": "ca588890-e1d9-422e-b6cf-3663db79be73"
      },
      "source": [
        "train_original.isnull().sum(), test.isnull().sum() "
      ],
      "execution_count": 89,
      "outputs": [
        {
          "output_type": "execute_result",
          "data": {
            "text/plain": [
              "(Loan_ID             0\n",
              " Gender              0\n",
              " Married             0\n",
              " Dependents          0\n",
              " Education           0\n",
              " Self_Employed       0\n",
              " Credit_History      0\n",
              " Property_Area       0\n",
              " Loan_Status         0\n",
              " Total_Income_log    0\n",
              " EMI                 0\n",
              " dtype: int64, Loan_ID             0\n",
              " Gender              0\n",
              " Married             0\n",
              " Dependents          0\n",
              " Education           0\n",
              " Self_Employed       0\n",
              " Credit_History      0\n",
              " Property_Area       0\n",
              " Total_Income_log    0\n",
              " EMI                 0\n",
              " dtype: int64)"
            ]
          },
          "metadata": {
            "tags": []
          },
          "execution_count": 89
        }
      ]
    },
    {
      "cell_type": "markdown",
      "metadata": {
        "colab_type": "text",
        "id": "Q9psHbLyQUzd"
      },
      "source": [
        "We can see that all the missing values have been filled in the Train dataset as well as test dataset."
      ]
    },
    {
      "cell_type": "code",
      "metadata": {
        "colab_type": "code",
        "id": "D7bYgmDiQUzd",
        "colab": {}
      },
      "source": [
        "#dropping loan id\n",
        "train_df = train_original.drop([\"Loan_ID\"],axis=1) "
      ],
      "execution_count": 90,
      "outputs": []
    },
    {
      "cell_type": "code",
      "metadata": {
        "colab_type": "code",
        "id": "1WylCIhzQUze",
        "colab": {}
      },
      "source": [
        "train_df = pd.get_dummies(train_df,drop_first=True) # one hot encoding"
      ],
      "execution_count": 91,
      "outputs": []
    },
    {
      "cell_type": "code",
      "metadata": {
        "colab_type": "code",
        "id": "U_q-KWAVQUzh",
        "colab": {
          "base_uri": "https://localhost:8080/",
          "height": 0
        },
        "outputId": "0212eeae-a8f9-4bf1-82fd-f423a8853906"
      },
      "source": [
        "train_df.drop(['Education_Not Graduate'],axis = 1)"
      ],
      "execution_count": 92,
      "outputs": [
        {
          "output_type": "execute_result",
          "data": {
            "text/html": [
              "<div>\n",
              "<style scoped>\n",
              "    .dataframe tbody tr th:only-of-type {\n",
              "        vertical-align: middle;\n",
              "    }\n",
              "\n",
              "    .dataframe tbody tr th {\n",
              "        vertical-align: top;\n",
              "    }\n",
              "\n",
              "    .dataframe thead th {\n",
              "        text-align: right;\n",
              "    }\n",
              "</style>\n",
              "<table border=\"1\" class=\"dataframe\">\n",
              "  <thead>\n",
              "    <tr style=\"text-align: right;\">\n",
              "      <th></th>\n",
              "      <th>Dependents</th>\n",
              "      <th>Credit_History</th>\n",
              "      <th>Total_Income_log</th>\n",
              "      <th>EMI</th>\n",
              "      <th>Gender_Male</th>\n",
              "      <th>Married_Yes</th>\n",
              "      <th>Self_Employed_Yes</th>\n",
              "      <th>Property_Area_Semiurban</th>\n",
              "      <th>Property_Area_Urban</th>\n",
              "      <th>Loan_Status_Y</th>\n",
              "    </tr>\n",
              "  </thead>\n",
              "  <tbody>\n",
              "    <tr>\n",
              "      <th>0</th>\n",
              "      <td>0</td>\n",
              "      <td>1.0</td>\n",
              "      <td>8.674026</td>\n",
              "      <td>0.475215</td>\n",
              "      <td>1</td>\n",
              "      <td>0</td>\n",
              "      <td>0</td>\n",
              "      <td>0</td>\n",
              "      <td>1</td>\n",
              "      <td>1</td>\n",
              "    </tr>\n",
              "    <tr>\n",
              "      <th>1</th>\n",
              "      <td>1</td>\n",
              "      <td>1.0</td>\n",
              "      <td>8.714568</td>\n",
              "      <td>0.475984</td>\n",
              "      <td>1</td>\n",
              "      <td>1</td>\n",
              "      <td>0</td>\n",
              "      <td>0</td>\n",
              "      <td>0</td>\n",
              "      <td>0</td>\n",
              "    </tr>\n",
              "    <tr>\n",
              "      <th>2</th>\n",
              "      <td>0</td>\n",
              "      <td>1.0</td>\n",
              "      <td>8.006368</td>\n",
              "      <td>0.411005</td>\n",
              "      <td>1</td>\n",
              "      <td>1</td>\n",
              "      <td>1</td>\n",
              "      <td>0</td>\n",
              "      <td>1</td>\n",
              "      <td>1</td>\n",
              "    </tr>\n",
              "    <tr>\n",
              "      <th>3</th>\n",
              "      <td>0</td>\n",
              "      <td>1.0</td>\n",
              "      <td>8.505323</td>\n",
              "      <td>0.469653</td>\n",
              "      <td>1</td>\n",
              "      <td>1</td>\n",
              "      <td>0</td>\n",
              "      <td>0</td>\n",
              "      <td>1</td>\n",
              "      <td>1</td>\n",
              "    </tr>\n",
              "    <tr>\n",
              "      <th>4</th>\n",
              "      <td>0</td>\n",
              "      <td>1.0</td>\n",
              "      <td>8.699515</td>\n",
              "      <td>0.485473</td>\n",
              "      <td>1</td>\n",
              "      <td>0</td>\n",
              "      <td>0</td>\n",
              "      <td>0</td>\n",
              "      <td>1</td>\n",
              "      <td>1</td>\n",
              "    </tr>\n",
              "    <tr>\n",
              "      <th>...</th>\n",
              "      <td>...</td>\n",
              "      <td>...</td>\n",
              "      <td>...</td>\n",
              "      <td>...</td>\n",
              "      <td>...</td>\n",
              "      <td>...</td>\n",
              "      <td>...</td>\n",
              "      <td>...</td>\n",
              "      <td>...</td>\n",
              "      <td>...</td>\n",
              "    </tr>\n",
              "    <tr>\n",
              "      <th>609</th>\n",
              "      <td>0</td>\n",
              "      <td>1.0</td>\n",
              "      <td>7.972466</td>\n",
              "      <td>0.418169</td>\n",
              "      <td>0</td>\n",
              "      <td>0</td>\n",
              "      <td>0</td>\n",
              "      <td>0</td>\n",
              "      <td>0</td>\n",
              "      <td>1</td>\n",
              "    </tr>\n",
              "    <tr>\n",
              "      <th>610</th>\n",
              "      <td>3</td>\n",
              "      <td>1.0</td>\n",
              "      <td>8.320205</td>\n",
              "      <td>0.361879</td>\n",
              "      <td>1</td>\n",
              "      <td>1</td>\n",
              "      <td>0</td>\n",
              "      <td>0</td>\n",
              "      <td>0</td>\n",
              "      <td>1</td>\n",
              "    </tr>\n",
              "    <tr>\n",
              "      <th>611</th>\n",
              "      <td>1</td>\n",
              "      <td>1.0</td>\n",
              "      <td>9.025456</td>\n",
              "      <td>0.542826</td>\n",
              "      <td>1</td>\n",
              "      <td>1</td>\n",
              "      <td>0</td>\n",
              "      <td>0</td>\n",
              "      <td>1</td>\n",
              "      <td>1</td>\n",
              "    </tr>\n",
              "    <tr>\n",
              "      <th>612</th>\n",
              "      <td>2</td>\n",
              "      <td>1.0</td>\n",
              "      <td>8.933664</td>\n",
              "      <td>0.513172</td>\n",
              "      <td>1</td>\n",
              "      <td>1</td>\n",
              "      <td>0</td>\n",
              "      <td>0</td>\n",
              "      <td>1</td>\n",
              "      <td>1</td>\n",
              "    </tr>\n",
              "    <tr>\n",
              "      <th>613</th>\n",
              "      <td>0</td>\n",
              "      <td>0.0</td>\n",
              "      <td>8.430109</td>\n",
              "      <td>0.479743</td>\n",
              "      <td>0</td>\n",
              "      <td>0</td>\n",
              "      <td>1</td>\n",
              "      <td>1</td>\n",
              "      <td>0</td>\n",
              "      <td>0</td>\n",
              "    </tr>\n",
              "  </tbody>\n",
              "</table>\n",
              "<p>608 rows × 10 columns</p>\n",
              "</div>"
            ],
            "text/plain": [
              "     Dependents  Credit_History  ...  Property_Area_Urban  Loan_Status_Y\n",
              "0             0             1.0  ...                    1              1\n",
              "1             1             1.0  ...                    0              0\n",
              "2             0             1.0  ...                    1              1\n",
              "3             0             1.0  ...                    1              1\n",
              "4             0             1.0  ...                    1              1\n",
              "..          ...             ...  ...                  ...            ...\n",
              "609           0             1.0  ...                    0              1\n",
              "610           3             1.0  ...                    0              1\n",
              "611           1             1.0  ...                    1              1\n",
              "612           2             1.0  ...                    1              1\n",
              "613           0             0.0  ...                    0              0\n",
              "\n",
              "[608 rows x 10 columns]"
            ]
          },
          "metadata": {
            "tags": []
          },
          "execution_count": 92
        }
      ]
    },
    {
      "cell_type": "markdown",
      "metadata": {
        "colab_type": "text",
        "id": "HEN_spTYQUzi"
      },
      "source": [
        "### We are not using train test split as the dataset is too small so we'll use complete dataset for training"
      ]
    },
    {
      "cell_type": "code",
      "metadata": {
        "colab_type": "code",
        "id": "1lR4TCyTQUzj",
        "colab": {}
      },
      "source": [
        "X_train = train_df.drop([\"Loan_Status_Y\", \"Education_Not Graduate\",'Self_Employed_Yes', 'Property_Area_Urban'],axis=1)\n",
        "y_train = train_df[\"Loan_Status_Y\"]\n",
        "#X_test=test.drop([\"Loan_ID\"],axis=1)"
      ],
      "execution_count": 93,
      "outputs": []
    },
    {
      "cell_type": "code",
      "metadata": {
        "colab_type": "code",
        "id": "l7OMT1OCQUzk",
        "colab": {}
      },
      "source": [
        "test_df = test.drop([\"Loan_ID\"],axis=1)\n",
        "X_test=pd.get_dummies(test_df,drop_first=True)\n"
      ],
      "execution_count": 94,
      "outputs": []
    },
    {
      "cell_type": "markdown",
      "metadata": {
        "colab_type": "text",
        "id": "RbRUcJOjQUzm"
      },
      "source": [
        "### Removing \"Education_Not Graduate\", 'Self_Employed_Yes','Property_Area_Urban' from test data as well"
      ]
    },
    {
      "cell_type": "code",
      "metadata": {
        "colab_type": "code",
        "id": "n3IRhfJhQUzn",
        "colab": {}
      },
      "source": [
        "X_test = X_test.drop([\"Education_Not Graduate\", 'Self_Employed_Yes','Property_Area_Urban'],axis=1)"
      ],
      "execution_count": 95,
      "outputs": []
    },
    {
      "cell_type": "markdown",
      "metadata": {
        "colab_type": "text",
        "id": "1UDHgYXAQUzp"
      },
      "source": [
        "### Finally lets have Final look over X_train, y_train, X_test shape"
      ]
    },
    {
      "cell_type": "code",
      "metadata": {
        "colab_type": "code",
        "id": "2JXYrJhcQUzq",
        "colab": {
          "base_uri": "https://localhost:8080/",
          "height": 0
        },
        "outputId": "31f314da-1199-4be7-d6dc-56f999a63b21"
      },
      "source": [
        "X_train.shape,y_train.shape, X_test.shape"
      ],
      "execution_count": 96,
      "outputs": [
        {
          "output_type": "execute_result",
          "data": {
            "text/plain": [
              "((608, 7), (608,), (367, 7))"
            ]
          },
          "metadata": {
            "tags": []
          },
          "execution_count": 96
        }
      ]
    },
    {
      "cell_type": "markdown",
      "metadata": {
        "colab_type": "text",
        "id": "YtJzOz-UQUzu"
      },
      "source": [
        ""
      ]
    },
    {
      "cell_type": "code",
      "metadata": {
        "colab_type": "code",
        "id": "XzWGtFJnQUzy",
        "colab": {
          "base_uri": "https://localhost:8080/",
          "height": 0
        },
        "outputId": "65faa884-83a4-4a64-e990-967dc8f4827b"
      },
      "source": [
        "X_train.head()"
      ],
      "execution_count": 97,
      "outputs": [
        {
          "output_type": "execute_result",
          "data": {
            "text/html": [
              "<div>\n",
              "<style scoped>\n",
              "    .dataframe tbody tr th:only-of-type {\n",
              "        vertical-align: middle;\n",
              "    }\n",
              "\n",
              "    .dataframe tbody tr th {\n",
              "        vertical-align: top;\n",
              "    }\n",
              "\n",
              "    .dataframe thead th {\n",
              "        text-align: right;\n",
              "    }\n",
              "</style>\n",
              "<table border=\"1\" class=\"dataframe\">\n",
              "  <thead>\n",
              "    <tr style=\"text-align: right;\">\n",
              "      <th></th>\n",
              "      <th>Dependents</th>\n",
              "      <th>Credit_History</th>\n",
              "      <th>Total_Income_log</th>\n",
              "      <th>EMI</th>\n",
              "      <th>Gender_Male</th>\n",
              "      <th>Married_Yes</th>\n",
              "      <th>Property_Area_Semiurban</th>\n",
              "    </tr>\n",
              "  </thead>\n",
              "  <tbody>\n",
              "    <tr>\n",
              "      <th>0</th>\n",
              "      <td>0</td>\n",
              "      <td>1.0</td>\n",
              "      <td>8.674026</td>\n",
              "      <td>0.475215</td>\n",
              "      <td>1</td>\n",
              "      <td>0</td>\n",
              "      <td>0</td>\n",
              "    </tr>\n",
              "    <tr>\n",
              "      <th>1</th>\n",
              "      <td>1</td>\n",
              "      <td>1.0</td>\n",
              "      <td>8.714568</td>\n",
              "      <td>0.475984</td>\n",
              "      <td>1</td>\n",
              "      <td>1</td>\n",
              "      <td>0</td>\n",
              "    </tr>\n",
              "    <tr>\n",
              "      <th>2</th>\n",
              "      <td>0</td>\n",
              "      <td>1.0</td>\n",
              "      <td>8.006368</td>\n",
              "      <td>0.411005</td>\n",
              "      <td>1</td>\n",
              "      <td>1</td>\n",
              "      <td>0</td>\n",
              "    </tr>\n",
              "    <tr>\n",
              "      <th>3</th>\n",
              "      <td>0</td>\n",
              "      <td>1.0</td>\n",
              "      <td>8.505323</td>\n",
              "      <td>0.469653</td>\n",
              "      <td>1</td>\n",
              "      <td>1</td>\n",
              "      <td>0</td>\n",
              "    </tr>\n",
              "    <tr>\n",
              "      <th>4</th>\n",
              "      <td>0</td>\n",
              "      <td>1.0</td>\n",
              "      <td>8.699515</td>\n",
              "      <td>0.485473</td>\n",
              "      <td>1</td>\n",
              "      <td>0</td>\n",
              "      <td>0</td>\n",
              "    </tr>\n",
              "  </tbody>\n",
              "</table>\n",
              "</div>"
            ],
            "text/plain": [
              "   Dependents  Credit_History  ...  Married_Yes  Property_Area_Semiurban\n",
              "0           0             1.0  ...            0                        0\n",
              "1           1             1.0  ...            1                        0\n",
              "2           0             1.0  ...            1                        0\n",
              "3           0             1.0  ...            1                        0\n",
              "4           0             1.0  ...            0                        0\n",
              "\n",
              "[5 rows x 7 columns]"
            ]
          },
          "metadata": {
            "tags": []
          },
          "execution_count": 97
        }
      ]
    },
    {
      "cell_type": "code",
      "metadata": {
        "colab_type": "code",
        "id": "6jx3MNjeQUz3",
        "colab": {
          "base_uri": "https://localhost:8080/",
          "height": 0
        },
        "outputId": "17155aaf-5abe-417b-9e27-f1bf6a28d572"
      },
      "source": [
        "X_test.head()"
      ],
      "execution_count": 98,
      "outputs": [
        {
          "output_type": "execute_result",
          "data": {
            "text/html": [
              "<div>\n",
              "<style scoped>\n",
              "    .dataframe tbody tr th:only-of-type {\n",
              "        vertical-align: middle;\n",
              "    }\n",
              "\n",
              "    .dataframe tbody tr th {\n",
              "        vertical-align: top;\n",
              "    }\n",
              "\n",
              "    .dataframe thead th {\n",
              "        text-align: right;\n",
              "    }\n",
              "</style>\n",
              "<table border=\"1\" class=\"dataframe\">\n",
              "  <thead>\n",
              "    <tr style=\"text-align: right;\">\n",
              "      <th></th>\n",
              "      <th>Dependents</th>\n",
              "      <th>Credit_History</th>\n",
              "      <th>Total_Income_log</th>\n",
              "      <th>EMI</th>\n",
              "      <th>Gender_Male</th>\n",
              "      <th>Married_Yes</th>\n",
              "      <th>Property_Area_Semiurban</th>\n",
              "    </tr>\n",
              "  </thead>\n",
              "  <tbody>\n",
              "    <tr>\n",
              "      <th>0</th>\n",
              "      <td>0</td>\n",
              "      <td>1.0</td>\n",
              "      <td>8.651724</td>\n",
              "      <td>0.461117</td>\n",
              "      <td>1</td>\n",
              "      <td>1</td>\n",
              "      <td>0</td>\n",
              "    </tr>\n",
              "    <tr>\n",
              "      <th>1</th>\n",
              "      <td>1</td>\n",
              "      <td>1.0</td>\n",
              "      <td>8.428581</td>\n",
              "      <td>0.474439</td>\n",
              "      <td>1</td>\n",
              "      <td>1</td>\n",
              "      <td>0</td>\n",
              "    </tr>\n",
              "    <tr>\n",
              "      <th>2</th>\n",
              "      <td>2</td>\n",
              "      <td>1.0</td>\n",
              "      <td>8.824678</td>\n",
              "      <td>0.523612</td>\n",
              "      <td>1</td>\n",
              "      <td>1</td>\n",
              "      <td>0</td>\n",
              "    </tr>\n",
              "    <tr>\n",
              "      <th>3</th>\n",
              "      <td>2</td>\n",
              "      <td>1.0</td>\n",
              "      <td>8.494129</td>\n",
              "      <td>0.451767</td>\n",
              "      <td>1</td>\n",
              "      <td>1</td>\n",
              "      <td>0</td>\n",
              "    </tr>\n",
              "    <tr>\n",
              "      <th>4</th>\n",
              "      <td>0</td>\n",
              "      <td>1.0</td>\n",
              "      <td>8.094378</td>\n",
              "      <td>0.427393</td>\n",
              "      <td>1</td>\n",
              "      <td>0</td>\n",
              "      <td>0</td>\n",
              "    </tr>\n",
              "  </tbody>\n",
              "</table>\n",
              "</div>"
            ],
            "text/plain": [
              "   Dependents  Credit_History  ...  Married_Yes  Property_Area_Semiurban\n",
              "0           0             1.0  ...            1                        0\n",
              "1           1             1.0  ...            1                        0\n",
              "2           2             1.0  ...            1                        0\n",
              "3           2             1.0  ...            1                        0\n",
              "4           0             1.0  ...            0                        0\n",
              "\n",
              "[5 rows x 7 columns]"
            ]
          },
          "metadata": {
            "tags": []
          },
          "execution_count": 98
        }
      ]
    },
    {
      "cell_type": "markdown",
      "metadata": {
        "colab_type": "text",
        "id": "ZiV9ckGPQUz-"
      },
      "source": [
        "# 4. Model Selection"
      ]
    },
    {
      "cell_type": "code",
      "metadata": {
        "colab_type": "code",
        "id": "pgwY6vMLQUz-",
        "colab": {}
      },
      "source": [
        "# import libraries\n",
        "from sklearn.linear_model import LogisticRegression\n",
        "from sklearn.metrics import accuracy_score\n",
        "# Importing Classifier Modules\n",
        "from sklearn.neighbors import KNeighborsClassifier\n",
        "from sklearn.tree import DecisionTreeClassifier\n",
        "from sklearn.ensemble import RandomForestClassifier\n",
        "from sklearn.naive_bayes import GaussianNB\n",
        "from sklearn.svm import SVC"
      ],
      "execution_count": 99,
      "outputs": []
    },
    {
      "cell_type": "markdown",
      "metadata": {
        "colab_type": "text",
        "id": "wDfDbUrZQU0C"
      },
      "source": [
        "# 1. Logistic Regression"
      ]
    },
    {
      "cell_type": "code",
      "metadata": {
        "colab_type": "code",
        "id": "ZfTz12HpQU0C",
        "colab": {
          "base_uri": "https://localhost:8080/",
          "height": 0
        },
        "outputId": "5c4b5e2b-835d-41ed-a7ec-5670691257db"
      },
      "source": [
        "from sklearn.model_selection import cross_val_score\n",
        "clf = LogisticRegression()\n",
        "scoring = 'accuracy'\n",
        "score = cross_val_score(clf, X_train, y_train, n_jobs=1, scoring=scoring)\n",
        "print(score)"
      ],
      "execution_count": 100,
      "outputs": [
        {
          "output_type": "stream",
          "text": [
            "[0.8442623  0.80327869 0.79508197 0.87603306 0.85123967]\n"
          ],
          "name": "stdout"
        }
      ]
    },
    {
      "cell_type": "code",
      "metadata": {
        "colab_type": "code",
        "id": "YNTvAjWBQU0F",
        "colab": {
          "base_uri": "https://localhost:8080/",
          "height": 0
        },
        "outputId": "5887c2b8-992d-4531-9605-eb88a09f9797"
      },
      "source": [
        "round(np.mean(score)*100, 2)"
      ],
      "execution_count": 101,
      "outputs": [
        {
          "output_type": "execute_result",
          "data": {
            "text/plain": [
              "83.4"
            ]
          },
          "metadata": {
            "tags": []
          },
          "execution_count": 101
        }
      ]
    },
    {
      "cell_type": "markdown",
      "metadata": {
        "colab_type": "text",
        "id": "7RhGLnAVQU0H"
      },
      "source": [
        "# 2. K-Nearest Neighbour"
      ]
    },
    {
      "cell_type": "code",
      "metadata": {
        "colab_type": "code",
        "id": "MvvkdReeQU0H",
        "colab": {}
      },
      "source": [
        "from sklearn.model_selection import KFold\n",
        "k_fold = KFold(n_splits=10, shuffle=True, random_state=0)"
      ],
      "execution_count": 102,
      "outputs": []
    },
    {
      "cell_type": "code",
      "metadata": {
        "colab_type": "code",
        "id": "2KOJJObeQU0I",
        "colab": {
          "base_uri": "https://localhost:8080/",
          "height": 0
        },
        "outputId": "689220e5-5d5e-4900-a9d5-a3ae5b1d5872"
      },
      "source": [
        "clf = KNeighborsClassifier(n_neighbors = 14)\n",
        "scoring = 'accuracy'\n",
        "score = cross_val_score(clf, X_train, y_train, cv=k_fold, n_jobs=1, scoring=scoring)\n",
        "print(score)"
      ],
      "execution_count": 103,
      "outputs": [
        {
          "output_type": "stream",
          "text": [
            "[0.73770492 0.85245902 0.86885246 0.7704918  0.86885246 0.90163934\n",
            " 0.7704918  0.78688525 0.83333333 0.83333333]\n"
          ],
          "name": "stdout"
        }
      ]
    },
    {
      "cell_type": "code",
      "metadata": {
        "colab_type": "code",
        "id": "3cvEHggTQU0L",
        "colab": {
          "base_uri": "https://localhost:8080/",
          "height": 0
        },
        "outputId": "f9c7e1f8-efe4-4673-95e4-00560e7d2847"
      },
      "source": [
        "# kNN Score\n",
        "round(np.mean(score)*100, 2)"
      ],
      "execution_count": 104,
      "outputs": [
        {
          "output_type": "execute_result",
          "data": {
            "text/plain": [
              "82.24"
            ]
          },
          "metadata": {
            "tags": []
          },
          "execution_count": 104
        }
      ]
    },
    {
      "cell_type": "markdown",
      "metadata": {
        "colab_type": "text",
        "id": "fyWtaFIdQU0M"
      },
      "source": [
        "# 3. Decision Tree"
      ]
    },
    {
      "cell_type": "code",
      "metadata": {
        "colab_type": "code",
        "id": "9SI_mKqTQU0N",
        "colab": {
          "base_uri": "https://localhost:8080/",
          "height": 0
        },
        "outputId": "5ec3d010-7806-4e1b-e099-de85822a6f1a"
      },
      "source": [
        "clf = DecisionTreeClassifier()\n",
        "scoring = 'accuracy'\n",
        "score = cross_val_score(clf, X_train, y_train, cv=k_fold, n_jobs=1, scoring=scoring)\n",
        "print(score)\n"
      ],
      "execution_count": 105,
      "outputs": [
        {
          "output_type": "stream",
          "text": [
            "[0.73770492 0.73770492 0.7704918  0.75409836 0.75409836 0.68852459\n",
            " 0.63934426 0.68852459 0.78333333 0.76666667]\n"
          ],
          "name": "stdout"
        }
      ]
    },
    {
      "cell_type": "code",
      "metadata": {
        "colab_type": "code",
        "id": "5X3KoO1kQU0P",
        "colab": {
          "base_uri": "https://localhost:8080/",
          "height": 0
        },
        "outputId": "2891ab51-6566-446b-8ccf-e4f966118c56"
      },
      "source": [
        "# decision tree Score\n",
        "round(np.mean(score)*100, 2)"
      ],
      "execution_count": 106,
      "outputs": [
        {
          "output_type": "execute_result",
          "data": {
            "text/plain": [
              "73.2"
            ]
          },
          "metadata": {
            "tags": []
          },
          "execution_count": 106
        }
      ]
    },
    {
      "cell_type": "markdown",
      "metadata": {
        "colab_type": "text",
        "id": "f-5hwMN_QU0Q"
      },
      "source": [
        "# 4. Random Forest"
      ]
    },
    {
      "cell_type": "code",
      "metadata": {
        "colab_type": "code",
        "id": "r895GP7YQU0Q",
        "colab": {
          "base_uri": "https://localhost:8080/",
          "height": 0
        },
        "outputId": "4b7ab622-d65d-47d6-d634-c6062d802c02"
      },
      "source": [
        "clf = RandomForestClassifier(n_estimators=13)\n",
        "scoring = 'accuracy'\n",
        "score = cross_val_score(clf, X_train, y_train, cv=k_fold, n_jobs=1, scoring=scoring)\n",
        "print(score)\n"
      ],
      "execution_count": 107,
      "outputs": [
        {
          "output_type": "stream",
          "text": [
            "[0.70491803 0.80327869 0.81967213 0.75409836 0.83606557 0.83606557\n",
            " 0.72131148 0.70491803 0.9        0.75      ]\n"
          ],
          "name": "stdout"
        }
      ]
    },
    {
      "cell_type": "code",
      "metadata": {
        "colab_type": "code",
        "id": "kaxGuJgxQU0S",
        "colab": {
          "base_uri": "https://localhost:8080/",
          "height": 0
        },
        "outputId": "e1fb2e9a-2611-4a26-aac4-e9190b27e615"
      },
      "source": [
        "# Random Forest Score\n",
        "round(np.mean(score)*100, 2)"
      ],
      "execution_count": 108,
      "outputs": [
        {
          "output_type": "execute_result",
          "data": {
            "text/plain": [
              "78.3"
            ]
          },
          "metadata": {
            "tags": []
          },
          "execution_count": 108
        }
      ]
    },
    {
      "cell_type": "markdown",
      "metadata": {
        "colab_type": "text",
        "id": "01ikpfo3QU0T"
      },
      "source": [
        "# 5. Naive Bayes"
      ]
    },
    {
      "cell_type": "code",
      "metadata": {
        "colab_type": "code",
        "id": "uvmyU568QU0U",
        "colab": {
          "base_uri": "https://localhost:8080/",
          "height": 0
        },
        "outputId": "40b19128-986b-4d1c-a525-15e6e06ed1ad"
      },
      "source": [
        "clf = GaussianNB()\n",
        "scoring = 'accuracy'\n",
        "score = cross_val_score(clf, X_train, y_train, cv=k_fold, n_jobs=1, scoring=scoring)\n",
        "print(score)"
      ],
      "execution_count": 109,
      "outputs": [
        {
          "output_type": "stream",
          "text": [
            "[0.75409836 0.85245902 0.86885246 0.78688525 0.8852459  0.90163934\n",
            " 0.7704918  0.78688525 0.9        0.81666667]\n"
          ],
          "name": "stdout"
        }
      ]
    },
    {
      "cell_type": "code",
      "metadata": {
        "colab_type": "code",
        "id": "RnHr_gewQU0V",
        "colab": {
          "base_uri": "https://localhost:8080/",
          "height": 0
        },
        "outputId": "91513898-fceb-4d22-a98c-6b597fe5ea2e"
      },
      "source": [
        "# Naive Bayes Score\n",
        "round(np.mean(score)*100, 2)"
      ],
      "execution_count": 110,
      "outputs": [
        {
          "output_type": "execute_result",
          "data": {
            "text/plain": [
              "83.23"
            ]
          },
          "metadata": {
            "tags": []
          },
          "execution_count": 110
        }
      ]
    },
    {
      "cell_type": "markdown",
      "metadata": {
        "colab_type": "text",
        "id": "xQAut4JkQU0Z"
      },
      "source": [
        "# 6. Support Vector Classifier"
      ]
    },
    {
      "cell_type": "code",
      "metadata": {
        "colab_type": "code",
        "id": "fiMRSmRqQU0Z",
        "colab": {
          "base_uri": "https://localhost:8080/",
          "height": 50
        },
        "outputId": "ecd13d86-749d-4746-bd8d-71e0f8b409f3"
      },
      "source": [
        "clf = SVC()\n",
        "scoring = 'accuracy'\n",
        "score = cross_val_score(clf, X_train, y_train, cv=k_fold, n_jobs=1, scoring=scoring)\n",
        "print(score)"
      ],
      "execution_count": 111,
      "outputs": [
        {
          "output_type": "stream",
          "text": [
            "[0.75409836 0.85245902 0.86885246 0.78688525 0.90163934 0.90163934\n",
            " 0.7704918  0.78688525 0.9        0.81666667]\n"
          ],
          "name": "stdout"
        }
      ]
    },
    {
      "cell_type": "code",
      "metadata": {
        "colab_type": "code",
        "id": "106vzSEeQU0c",
        "colab": {
          "base_uri": "https://localhost:8080/",
          "height": 33
        },
        "outputId": "f99f2071-bf81-41d7-9a54-a24dc4cf629c"
      },
      "source": [
        "round(np.mean(score)*100,2)"
      ],
      "execution_count": 112,
      "outputs": [
        {
          "output_type": "execute_result",
          "data": {
            "text/plain": [
              "83.4"
            ]
          },
          "metadata": {
            "tags": []
          },
          "execution_count": 112
        }
      ]
    },
    {
      "cell_type": "code",
      "metadata": {
        "colab_type": "code",
        "id": "9RFei7H7QU0g",
        "colab": {}
      },
      "source": [
        ""
      ],
      "execution_count": 112,
      "outputs": []
    },
    {
      "cell_type": "code",
      "metadata": {
        "colab_type": "code",
        "id": "kEvKsxFiQU0j",
        "colab": {}
      },
      "source": [
        "# Artificial Neural Network"
      ],
      "execution_count": 113,
      "outputs": []
    },
    {
      "cell_type": "code",
      "metadata": {
        "colab_type": "code",
        "id": "EGzYhO2gQU0n",
        "colab": {
          "base_uri": "https://localhost:8080/",
          "height": 33
        },
        "outputId": "15f32172-faa7-4800-a843-078e891a8e55"
      },
      "source": [
        "from keras.models import Sequential\n",
        "from keras.layers import Dense\n",
        "from keras.layers import LeakyReLU, PReLU, ELU\n",
        "from keras.layers import Dropout"
      ],
      "execution_count": 114,
      "outputs": [
        {
          "output_type": "stream",
          "text": [
            "Using TensorFlow backend.\n"
          ],
          "name": "stderr"
        }
      ]
    },
    {
      "cell_type": "code",
      "metadata": {
        "colab_type": "code",
        "id": "0RIpmkZEQU0q",
        "colab": {
          "base_uri": "https://localhost:8080/",
          "height": 1000
        },
        "outputId": "11a75e2b-f88f-442d-f766-cc1bf3f08f74"
      },
      "source": [
        "#initailsing \n",
        "classifier = Sequential()\n",
        "\n",
        "# Adding input leyer and First h layer\n",
        "classifier.add(Dense(output_dim=5,init = 'he_uniform',activation = 'relu', input_dim=7))\n",
        "\n",
        "# Adding the second hidden layer\n",
        "classifier.add(Dense(output_dim = 7, init = 'he_uniform',activation='relu'))\n",
        "\n",
        "#Adding the output layer\n",
        "classifier.add(Dense(output_dim = 1, init = 'glorot_uniform', activation = 'sigmoid'))\n",
        "\n",
        "classifier.compile(optimizer = 'Adamax', loss = 'binary_crossentropy', metrics = ['accuracy'])\n",
        "\n",
        "# Fitting the ANN to the Training set\n",
        "model_history=classifier.fit(X_train, y_train,validation_split=0.35, batch_size = 8, nb_epoch = 300)"
      ],
      "execution_count": 115,
      "outputs": [
        {
          "output_type": "stream",
          "text": [
            "/usr/local/lib/python3.6/dist-packages/ipykernel_launcher.py:5: UserWarning: Update your `Dense` call to the Keras 2 API: `Dense(activation=\"relu\", input_dim=7, units=5, kernel_initializer=\"he_uniform\")`\n",
            "  \"\"\"\n",
            "/usr/local/lib/python3.6/dist-packages/ipykernel_launcher.py:8: UserWarning: Update your `Dense` call to the Keras 2 API: `Dense(activation=\"relu\", units=7, kernel_initializer=\"he_uniform\")`\n",
            "  \n",
            "/usr/local/lib/python3.6/dist-packages/ipykernel_launcher.py:11: UserWarning: Update your `Dense` call to the Keras 2 API: `Dense(activation=\"sigmoid\", units=1, kernel_initializer=\"glorot_uniform\")`\n",
            "  # This is added back by InteractiveShellApp.init_path()\n",
            "/usr/local/lib/python3.6/dist-packages/ipykernel_launcher.py:16: UserWarning: The `nb_epoch` argument in `fit` has been renamed `epochs`.\n",
            "  app.launch_new_instance()\n"
          ],
          "name": "stderr"
        },
        {
          "output_type": "stream",
          "text": [
            "Train on 395 samples, validate on 213 samples\n",
            "Epoch 1/300\n",
            "395/395 [==============================] - 0s 883us/step - loss: 1.0780 - accuracy: 0.3038 - val_loss: 0.9045 - val_accuracy: 0.3286\n",
            "Epoch 2/300\n",
            "395/395 [==============================] - 0s 174us/step - loss: 0.8537 - accuracy: 0.3063 - val_loss: 0.7841 - val_accuracy: 0.3897\n",
            "Epoch 3/300\n",
            "395/395 [==============================] - 0s 177us/step - loss: 0.7629 - accuracy: 0.3494 - val_loss: 0.7288 - val_accuracy: 0.4413\n",
            "Epoch 4/300\n",
            "395/395 [==============================] - 0s 206us/step - loss: 0.7165 - accuracy: 0.4228 - val_loss: 0.6977 - val_accuracy: 0.4695\n",
            "Epoch 5/300\n",
            "395/395 [==============================] - 0s 171us/step - loss: 0.6885 - accuracy: 0.4861 - val_loss: 0.6788 - val_accuracy: 0.5540\n",
            "Epoch 6/300\n",
            "395/395 [==============================] - 0s 176us/step - loss: 0.6696 - accuracy: 0.6076 - val_loss: 0.6671 - val_accuracy: 0.6338\n",
            "Epoch 7/300\n",
            "395/395 [==============================] - 0s 175us/step - loss: 0.6566 - accuracy: 0.7165 - val_loss: 0.6576 - val_accuracy: 0.7136\n",
            "Epoch 8/300\n",
            "395/395 [==============================] - 0s 175us/step - loss: 0.6461 - accuracy: 0.7316 - val_loss: 0.6496 - val_accuracy: 0.6901\n",
            "Epoch 9/300\n",
            "395/395 [==============================] - 0s 184us/step - loss: 0.6373 - accuracy: 0.7139 - val_loss: 0.6430 - val_accuracy: 0.6714\n",
            "Epoch 10/300\n",
            "395/395 [==============================] - 0s 178us/step - loss: 0.6292 - accuracy: 0.6987 - val_loss: 0.6368 - val_accuracy: 0.6714\n",
            "Epoch 11/300\n",
            "395/395 [==============================] - 0s 175us/step - loss: 0.6229 - accuracy: 0.6962 - val_loss: 0.6328 - val_accuracy: 0.6714\n",
            "Epoch 12/300\n",
            "395/395 [==============================] - 0s 196us/step - loss: 0.6185 - accuracy: 0.6962 - val_loss: 0.6291 - val_accuracy: 0.6714\n",
            "Epoch 13/300\n",
            "395/395 [==============================] - 0s 174us/step - loss: 0.6143 - accuracy: 0.6962 - val_loss: 0.6268 - val_accuracy: 0.6714\n",
            "Epoch 14/300\n",
            "395/395 [==============================] - 0s 179us/step - loss: 0.6106 - accuracy: 0.6962 - val_loss: 0.6243 - val_accuracy: 0.6714\n",
            "Epoch 15/300\n",
            "395/395 [==============================] - 0s 175us/step - loss: 0.6066 - accuracy: 0.6962 - val_loss: 0.6221 - val_accuracy: 0.6714\n",
            "Epoch 16/300\n",
            "395/395 [==============================] - 0s 180us/step - loss: 0.6024 - accuracy: 0.6962 - val_loss: 0.6184 - val_accuracy: 0.6714\n",
            "Epoch 17/300\n",
            "395/395 [==============================] - 0s 174us/step - loss: 0.5979 - accuracy: 0.6962 - val_loss: 0.6167 - val_accuracy: 0.6714\n",
            "Epoch 18/300\n",
            "395/395 [==============================] - 0s 183us/step - loss: 0.5956 - accuracy: 0.6962 - val_loss: 0.6154 - val_accuracy: 0.6714\n",
            "Epoch 19/300\n",
            "395/395 [==============================] - 0s 176us/step - loss: 0.5940 - accuracy: 0.6962 - val_loss: 0.6144 - val_accuracy: 0.6714\n",
            "Epoch 20/300\n",
            "395/395 [==============================] - 0s 171us/step - loss: 0.5922 - accuracy: 0.6962 - val_loss: 0.6128 - val_accuracy: 0.6714\n",
            "Epoch 21/300\n",
            "395/395 [==============================] - 0s 178us/step - loss: 0.5908 - accuracy: 0.6962 - val_loss: 0.6117 - val_accuracy: 0.6714\n",
            "Epoch 22/300\n",
            "395/395 [==============================] - 0s 172us/step - loss: 0.5893 - accuracy: 0.6962 - val_loss: 0.6103 - val_accuracy: 0.6714\n",
            "Epoch 23/300\n",
            "395/395 [==============================] - 0s 178us/step - loss: 0.5876 - accuracy: 0.6962 - val_loss: 0.6089 - val_accuracy: 0.6714\n",
            "Epoch 24/300\n",
            "395/395 [==============================] - 0s 174us/step - loss: 0.5860 - accuracy: 0.6962 - val_loss: 0.6081 - val_accuracy: 0.6714\n",
            "Epoch 25/300\n",
            "395/395 [==============================] - 0s 173us/step - loss: 0.5846 - accuracy: 0.6962 - val_loss: 0.6071 - val_accuracy: 0.6714\n",
            "Epoch 26/300\n",
            "395/395 [==============================] - 0s 209us/step - loss: 0.5837 - accuracy: 0.6962 - val_loss: 0.6063 - val_accuracy: 0.6714\n",
            "Epoch 27/300\n",
            "395/395 [==============================] - 0s 176us/step - loss: 0.5829 - accuracy: 0.6962 - val_loss: 0.6052 - val_accuracy: 0.6714\n",
            "Epoch 28/300\n",
            "395/395 [==============================] - 0s 176us/step - loss: 0.5820 - accuracy: 0.6962 - val_loss: 0.6043 - val_accuracy: 0.6714\n",
            "Epoch 29/300\n",
            "395/395 [==============================] - 0s 176us/step - loss: 0.5813 - accuracy: 0.6962 - val_loss: 0.6040 - val_accuracy: 0.6714\n",
            "Epoch 30/300\n",
            "395/395 [==============================] - 0s 178us/step - loss: 0.5801 - accuracy: 0.6962 - val_loss: 0.6027 - val_accuracy: 0.6714\n",
            "Epoch 31/300\n",
            "395/395 [==============================] - 0s 175us/step - loss: 0.5788 - accuracy: 0.6987 - val_loss: 0.6021 - val_accuracy: 0.6714\n",
            "Epoch 32/300\n",
            "395/395 [==============================] - 0s 192us/step - loss: 0.5778 - accuracy: 0.7013 - val_loss: 0.6008 - val_accuracy: 0.6714\n",
            "Epoch 33/300\n",
            "395/395 [==============================] - 0s 177us/step - loss: 0.5761 - accuracy: 0.7089 - val_loss: 0.5992 - val_accuracy: 0.6714\n",
            "Epoch 34/300\n",
            "395/395 [==============================] - 0s 197us/step - loss: 0.5748 - accuracy: 0.7139 - val_loss: 0.5978 - val_accuracy: 0.6808\n",
            "Epoch 35/300\n",
            "395/395 [==============================] - 0s 170us/step - loss: 0.5734 - accuracy: 0.7139 - val_loss: 0.5959 - val_accuracy: 0.6854\n",
            "Epoch 36/300\n",
            "395/395 [==============================] - 0s 173us/step - loss: 0.5729 - accuracy: 0.7165 - val_loss: 0.5938 - val_accuracy: 0.6948\n",
            "Epoch 37/300\n",
            "395/395 [==============================] - 0s 177us/step - loss: 0.5698 - accuracy: 0.7316 - val_loss: 0.5933 - val_accuracy: 0.6901\n",
            "Epoch 38/300\n",
            "395/395 [==============================] - 0s 176us/step - loss: 0.5683 - accuracy: 0.7266 - val_loss: 0.5914 - val_accuracy: 0.6995\n",
            "Epoch 39/300\n",
            "395/395 [==============================] - 0s 193us/step - loss: 0.5671 - accuracy: 0.7367 - val_loss: 0.5893 - val_accuracy: 0.7089\n",
            "Epoch 40/300\n",
            "395/395 [==============================] - 0s 194us/step - loss: 0.5652 - accuracy: 0.7468 - val_loss: 0.5872 - val_accuracy: 0.7136\n",
            "Epoch 41/300\n",
            "395/395 [==============================] - 0s 175us/step - loss: 0.5633 - accuracy: 0.7443 - val_loss: 0.5855 - val_accuracy: 0.7136\n",
            "Epoch 42/300\n",
            "395/395 [==============================] - 0s 188us/step - loss: 0.5610 - accuracy: 0.7544 - val_loss: 0.5829 - val_accuracy: 0.7136\n",
            "Epoch 43/300\n",
            "395/395 [==============================] - 0s 173us/step - loss: 0.5590 - accuracy: 0.7519 - val_loss: 0.5807 - val_accuracy: 0.7230\n",
            "Epoch 44/300\n",
            "395/395 [==============================] - 0s 172us/step - loss: 0.5569 - accuracy: 0.7544 - val_loss: 0.5776 - val_accuracy: 0.7277\n",
            "Epoch 45/300\n",
            "395/395 [==============================] - 0s 172us/step - loss: 0.5546 - accuracy: 0.7595 - val_loss: 0.5759 - val_accuracy: 0.7277\n",
            "Epoch 46/300\n",
            "395/395 [==============================] - 0s 170us/step - loss: 0.5527 - accuracy: 0.7595 - val_loss: 0.5730 - val_accuracy: 0.7277\n",
            "Epoch 47/300\n",
            "395/395 [==============================] - 0s 177us/step - loss: 0.5505 - accuracy: 0.7620 - val_loss: 0.5699 - val_accuracy: 0.7324\n",
            "Epoch 48/300\n",
            "395/395 [==============================] - 0s 174us/step - loss: 0.5485 - accuracy: 0.7646 - val_loss: 0.5671 - val_accuracy: 0.7324\n",
            "Epoch 49/300\n",
            "395/395 [==============================] - 0s 173us/step - loss: 0.5466 - accuracy: 0.7696 - val_loss: 0.5644 - val_accuracy: 0.7324\n",
            "Epoch 50/300\n",
            "395/395 [==============================] - 0s 176us/step - loss: 0.5450 - accuracy: 0.7696 - val_loss: 0.5607 - val_accuracy: 0.7324\n",
            "Epoch 51/300\n",
            "395/395 [==============================] - 0s 178us/step - loss: 0.5422 - accuracy: 0.7696 - val_loss: 0.5582 - val_accuracy: 0.7324\n",
            "Epoch 52/300\n",
            "395/395 [==============================] - 0s 175us/step - loss: 0.5397 - accuracy: 0.7696 - val_loss: 0.5546 - val_accuracy: 0.7418\n",
            "Epoch 53/300\n",
            "395/395 [==============================] - 0s 173us/step - loss: 0.5379 - accuracy: 0.7747 - val_loss: 0.5512 - val_accuracy: 0.7559\n",
            "Epoch 54/300\n",
            "395/395 [==============================] - 0s 182us/step - loss: 0.5357 - accuracy: 0.7747 - val_loss: 0.5497 - val_accuracy: 0.7465\n",
            "Epoch 55/300\n",
            "395/395 [==============================] - 0s 199us/step - loss: 0.5338 - accuracy: 0.7747 - val_loss: 0.5471 - val_accuracy: 0.7465\n",
            "Epoch 56/300\n",
            "395/395 [==============================] - 0s 172us/step - loss: 0.5320 - accuracy: 0.7772 - val_loss: 0.5436 - val_accuracy: 0.7606\n",
            "Epoch 57/300\n",
            "395/395 [==============================] - 0s 209us/step - loss: 0.5299 - accuracy: 0.7797 - val_loss: 0.5421 - val_accuracy: 0.7559\n",
            "Epoch 58/300\n",
            "395/395 [==============================] - 0s 196us/step - loss: 0.5283 - accuracy: 0.7823 - val_loss: 0.5384 - val_accuracy: 0.7606\n",
            "Epoch 59/300\n",
            "395/395 [==============================] - 0s 191us/step - loss: 0.5266 - accuracy: 0.7823 - val_loss: 0.5345 - val_accuracy: 0.7653\n",
            "Epoch 60/300\n",
            "395/395 [==============================] - 0s 171us/step - loss: 0.5243 - accuracy: 0.7823 - val_loss: 0.5310 - val_accuracy: 0.7700\n",
            "Epoch 61/300\n",
            "395/395 [==============================] - 0s 176us/step - loss: 0.5224 - accuracy: 0.7823 - val_loss: 0.5287 - val_accuracy: 0.7700\n",
            "Epoch 62/300\n",
            "395/395 [==============================] - 0s 176us/step - loss: 0.5204 - accuracy: 0.7823 - val_loss: 0.5254 - val_accuracy: 0.7700\n",
            "Epoch 63/300\n",
            "395/395 [==============================] - 0s 171us/step - loss: 0.5185 - accuracy: 0.7797 - val_loss: 0.5216 - val_accuracy: 0.7700\n",
            "Epoch 64/300\n",
            "395/395 [==============================] - 0s 172us/step - loss: 0.5166 - accuracy: 0.7772 - val_loss: 0.5174 - val_accuracy: 0.7887\n",
            "Epoch 65/300\n",
            "395/395 [==============================] - 0s 177us/step - loss: 0.5145 - accuracy: 0.7848 - val_loss: 0.5159 - val_accuracy: 0.7840\n",
            "Epoch 66/300\n",
            "395/395 [==============================] - 0s 179us/step - loss: 0.5130 - accuracy: 0.7797 - val_loss: 0.5126 - val_accuracy: 0.7887\n",
            "Epoch 67/300\n",
            "395/395 [==============================] - 0s 172us/step - loss: 0.5117 - accuracy: 0.7848 - val_loss: 0.5106 - val_accuracy: 0.7887\n",
            "Epoch 68/300\n",
            "395/395 [==============================] - 0s 189us/step - loss: 0.5106 - accuracy: 0.7873 - val_loss: 0.5079 - val_accuracy: 0.7887\n",
            "Epoch 69/300\n",
            "395/395 [==============================] - 0s 171us/step - loss: 0.5087 - accuracy: 0.7899 - val_loss: 0.5039 - val_accuracy: 0.7981\n",
            "Epoch 70/300\n",
            "395/395 [==============================] - 0s 179us/step - loss: 0.5074 - accuracy: 0.7873 - val_loss: 0.5015 - val_accuracy: 0.8028\n",
            "Epoch 71/300\n",
            "395/395 [==============================] - 0s 176us/step - loss: 0.5059 - accuracy: 0.7873 - val_loss: 0.4981 - val_accuracy: 0.7981\n",
            "Epoch 72/300\n",
            "395/395 [==============================] - 0s 176us/step - loss: 0.5044 - accuracy: 0.7873 - val_loss: 0.4968 - val_accuracy: 0.8028\n",
            "Epoch 73/300\n",
            "395/395 [==============================] - 0s 172us/step - loss: 0.5035 - accuracy: 0.7924 - val_loss: 0.4937 - val_accuracy: 0.8075\n",
            "Epoch 74/300\n",
            "395/395 [==============================] - 0s 195us/step - loss: 0.5020 - accuracy: 0.7924 - val_loss: 0.4911 - val_accuracy: 0.8122\n",
            "Epoch 75/300\n",
            "395/395 [==============================] - 0s 175us/step - loss: 0.5004 - accuracy: 0.7924 - val_loss: 0.4897 - val_accuracy: 0.8122\n",
            "Epoch 76/300\n",
            "395/395 [==============================] - 0s 176us/step - loss: 0.5000 - accuracy: 0.7949 - val_loss: 0.4871 - val_accuracy: 0.8122\n",
            "Epoch 77/300\n",
            "395/395 [==============================] - 0s 173us/step - loss: 0.4981 - accuracy: 0.7924 - val_loss: 0.4854 - val_accuracy: 0.8122\n",
            "Epoch 78/300\n",
            "395/395 [==============================] - 0s 176us/step - loss: 0.4972 - accuracy: 0.7924 - val_loss: 0.4823 - val_accuracy: 0.8122\n",
            "Epoch 79/300\n",
            "395/395 [==============================] - 0s 174us/step - loss: 0.4959 - accuracy: 0.7924 - val_loss: 0.4817 - val_accuracy: 0.8169\n",
            "Epoch 80/300\n",
            "395/395 [==============================] - 0s 175us/step - loss: 0.4954 - accuracy: 0.7975 - val_loss: 0.4786 - val_accuracy: 0.8169\n",
            "Epoch 81/300\n",
            "395/395 [==============================] - 0s 175us/step - loss: 0.4950 - accuracy: 0.7975 - val_loss: 0.4760 - val_accuracy: 0.8216\n",
            "Epoch 82/300\n",
            "395/395 [==============================] - 0s 193us/step - loss: 0.4934 - accuracy: 0.7975 - val_loss: 0.4744 - val_accuracy: 0.8263\n",
            "Epoch 83/300\n",
            "395/395 [==============================] - 0s 191us/step - loss: 0.4919 - accuracy: 0.7975 - val_loss: 0.4718 - val_accuracy: 0.8263\n",
            "Epoch 84/300\n",
            "395/395 [==============================] - 0s 175us/step - loss: 0.4905 - accuracy: 0.8000 - val_loss: 0.4686 - val_accuracy: 0.8310\n",
            "Epoch 85/300\n",
            "395/395 [==============================] - 0s 172us/step - loss: 0.4894 - accuracy: 0.7975 - val_loss: 0.4662 - val_accuracy: 0.8310\n",
            "Epoch 86/300\n",
            "395/395 [==============================] - 0s 171us/step - loss: 0.4879 - accuracy: 0.8000 - val_loss: 0.4633 - val_accuracy: 0.8310\n",
            "Epoch 87/300\n",
            "395/395 [==============================] - 0s 174us/step - loss: 0.4865 - accuracy: 0.8025 - val_loss: 0.4607 - val_accuracy: 0.8310\n",
            "Epoch 88/300\n",
            "395/395 [==============================] - 0s 175us/step - loss: 0.4855 - accuracy: 0.8000 - val_loss: 0.4586 - val_accuracy: 0.8310\n",
            "Epoch 89/300\n",
            "395/395 [==============================] - 0s 173us/step - loss: 0.4851 - accuracy: 0.8025 - val_loss: 0.4566 - val_accuracy: 0.8357\n",
            "Epoch 90/300\n",
            "395/395 [==============================] - 0s 175us/step - loss: 0.4829 - accuracy: 0.8025 - val_loss: 0.4544 - val_accuracy: 0.8357\n",
            "Epoch 91/300\n",
            "395/395 [==============================] - 0s 199us/step - loss: 0.4818 - accuracy: 0.8051 - val_loss: 0.4522 - val_accuracy: 0.8357\n",
            "Epoch 92/300\n",
            "395/395 [==============================] - 0s 180us/step - loss: 0.4811 - accuracy: 0.8000 - val_loss: 0.4502 - val_accuracy: 0.8357\n",
            "Epoch 93/300\n",
            "395/395 [==============================] - 0s 175us/step - loss: 0.4790 - accuracy: 0.8051 - val_loss: 0.4487 - val_accuracy: 0.8404\n",
            "Epoch 94/300\n",
            "395/395 [==============================] - 0s 175us/step - loss: 0.4780 - accuracy: 0.8051 - val_loss: 0.4465 - val_accuracy: 0.8404\n",
            "Epoch 95/300\n",
            "395/395 [==============================] - 0s 175us/step - loss: 0.4768 - accuracy: 0.8051 - val_loss: 0.4450 - val_accuracy: 0.8404\n",
            "Epoch 96/300\n",
            "395/395 [==============================] - 0s 193us/step - loss: 0.4750 - accuracy: 0.8025 - val_loss: 0.4433 - val_accuracy: 0.8404\n",
            "Epoch 97/300\n",
            "395/395 [==============================] - 0s 173us/step - loss: 0.4743 - accuracy: 0.8025 - val_loss: 0.4419 - val_accuracy: 0.8451\n",
            "Epoch 98/300\n",
            "395/395 [==============================] - 0s 176us/step - loss: 0.4720 - accuracy: 0.8025 - val_loss: 0.4399 - val_accuracy: 0.8404\n",
            "Epoch 99/300\n",
            "395/395 [==============================] - 0s 181us/step - loss: 0.4712 - accuracy: 0.8025 - val_loss: 0.4381 - val_accuracy: 0.8404\n",
            "Epoch 100/300\n",
            "395/395 [==============================] - 0s 185us/step - loss: 0.4701 - accuracy: 0.8076 - val_loss: 0.4377 - val_accuracy: 0.8451\n",
            "Epoch 101/300\n",
            "395/395 [==============================] - 0s 177us/step - loss: 0.4688 - accuracy: 0.8076 - val_loss: 0.4355 - val_accuracy: 0.8404\n",
            "Epoch 102/300\n",
            "395/395 [==============================] - 0s 177us/step - loss: 0.4670 - accuracy: 0.8051 - val_loss: 0.4339 - val_accuracy: 0.8404\n",
            "Epoch 103/300\n",
            "395/395 [==============================] - 0s 174us/step - loss: 0.4664 - accuracy: 0.8051 - val_loss: 0.4325 - val_accuracy: 0.8404\n",
            "Epoch 104/300\n",
            "395/395 [==============================] - 0s 176us/step - loss: 0.4649 - accuracy: 0.8051 - val_loss: 0.4311 - val_accuracy: 0.8451\n",
            "Epoch 105/300\n",
            "395/395 [==============================] - 0s 171us/step - loss: 0.4637 - accuracy: 0.8025 - val_loss: 0.4302 - val_accuracy: 0.8451\n",
            "Epoch 106/300\n",
            "395/395 [==============================] - 0s 181us/step - loss: 0.4626 - accuracy: 0.8076 - val_loss: 0.4288 - val_accuracy: 0.8451\n",
            "Epoch 107/300\n",
            "395/395 [==============================] - 0s 175us/step - loss: 0.4615 - accuracy: 0.8076 - val_loss: 0.4279 - val_accuracy: 0.8451\n",
            "Epoch 108/300\n",
            "395/395 [==============================] - 0s 179us/step - loss: 0.4607 - accuracy: 0.8076 - val_loss: 0.4270 - val_accuracy: 0.8451\n",
            "Epoch 109/300\n",
            "395/395 [==============================] - 0s 173us/step - loss: 0.4605 - accuracy: 0.8076 - val_loss: 0.4259 - val_accuracy: 0.8451\n",
            "Epoch 110/300\n",
            "395/395 [==============================] - 0s 182us/step - loss: 0.4590 - accuracy: 0.8101 - val_loss: 0.4249 - val_accuracy: 0.8451\n",
            "Epoch 111/300\n",
            "395/395 [==============================] - 0s 171us/step - loss: 0.4585 - accuracy: 0.8101 - val_loss: 0.4244 - val_accuracy: 0.8451\n",
            "Epoch 112/300\n",
            "395/395 [==============================] - 0s 179us/step - loss: 0.4579 - accuracy: 0.8127 - val_loss: 0.4236 - val_accuracy: 0.8498\n",
            "Epoch 113/300\n",
            "395/395 [==============================] - 0s 171us/step - loss: 0.4574 - accuracy: 0.8101 - val_loss: 0.4231 - val_accuracy: 0.8498\n",
            "Epoch 114/300\n",
            "395/395 [==============================] - 0s 204us/step - loss: 0.4560 - accuracy: 0.8127 - val_loss: 0.4221 - val_accuracy: 0.8498\n",
            "Epoch 115/300\n",
            "395/395 [==============================] - 0s 176us/step - loss: 0.4555 - accuracy: 0.8152 - val_loss: 0.4217 - val_accuracy: 0.8498\n",
            "Epoch 116/300\n",
            "395/395 [==============================] - 0s 173us/step - loss: 0.4555 - accuracy: 0.8203 - val_loss: 0.4209 - val_accuracy: 0.8498\n",
            "Epoch 117/300\n",
            "395/395 [==============================] - 0s 177us/step - loss: 0.4549 - accuracy: 0.8203 - val_loss: 0.4199 - val_accuracy: 0.8451\n",
            "Epoch 118/300\n",
            "395/395 [==============================] - 0s 176us/step - loss: 0.4540 - accuracy: 0.8177 - val_loss: 0.4194 - val_accuracy: 0.8498\n",
            "Epoch 119/300\n",
            "395/395 [==============================] - 0s 172us/step - loss: 0.4545 - accuracy: 0.8152 - val_loss: 0.4188 - val_accuracy: 0.8498\n",
            "Epoch 120/300\n",
            "395/395 [==============================] - 0s 204us/step - loss: 0.4530 - accuracy: 0.8228 - val_loss: 0.4187 - val_accuracy: 0.8498\n",
            "Epoch 121/300\n",
            "395/395 [==============================] - 0s 180us/step - loss: 0.4529 - accuracy: 0.8228 - val_loss: 0.4178 - val_accuracy: 0.8498\n",
            "Epoch 122/300\n",
            "395/395 [==============================] - 0s 177us/step - loss: 0.4525 - accuracy: 0.8203 - val_loss: 0.4176 - val_accuracy: 0.8498\n",
            "Epoch 123/300\n",
            "395/395 [==============================] - 0s 179us/step - loss: 0.4524 - accuracy: 0.8203 - val_loss: 0.4167 - val_accuracy: 0.8451\n",
            "Epoch 124/300\n",
            "395/395 [==============================] - 0s 234us/step - loss: 0.4522 - accuracy: 0.8203 - val_loss: 0.4166 - val_accuracy: 0.8451\n",
            "Epoch 125/300\n",
            "395/395 [==============================] - 0s 172us/step - loss: 0.4513 - accuracy: 0.8203 - val_loss: 0.4165 - val_accuracy: 0.8498\n",
            "Epoch 126/300\n",
            "395/395 [==============================] - 0s 172us/step - loss: 0.4518 - accuracy: 0.8203 - val_loss: 0.4163 - val_accuracy: 0.8498\n",
            "Epoch 127/300\n",
            "395/395 [==============================] - 0s 178us/step - loss: 0.4510 - accuracy: 0.8228 - val_loss: 0.4153 - val_accuracy: 0.8451\n",
            "Epoch 128/300\n",
            "395/395 [==============================] - 0s 181us/step - loss: 0.4507 - accuracy: 0.8203 - val_loss: 0.4153 - val_accuracy: 0.8451\n",
            "Epoch 129/300\n",
            "395/395 [==============================] - 0s 177us/step - loss: 0.4506 - accuracy: 0.8203 - val_loss: 0.4150 - val_accuracy: 0.8451\n",
            "Epoch 130/300\n",
            "395/395 [==============================] - 0s 176us/step - loss: 0.4504 - accuracy: 0.8203 - val_loss: 0.4147 - val_accuracy: 0.8451\n",
            "Epoch 131/300\n",
            "395/395 [==============================] - 0s 177us/step - loss: 0.4498 - accuracy: 0.8203 - val_loss: 0.4145 - val_accuracy: 0.8451\n",
            "Epoch 132/300\n",
            "395/395 [==============================] - 0s 170us/step - loss: 0.4499 - accuracy: 0.8203 - val_loss: 0.4149 - val_accuracy: 0.8498\n",
            "Epoch 133/300\n",
            "395/395 [==============================] - 0s 174us/step - loss: 0.4496 - accuracy: 0.8203 - val_loss: 0.4145 - val_accuracy: 0.8498\n",
            "Epoch 134/300\n",
            "395/395 [==============================] - 0s 197us/step - loss: 0.4495 - accuracy: 0.8203 - val_loss: 0.4139 - val_accuracy: 0.8451\n",
            "Epoch 135/300\n",
            "395/395 [==============================] - 0s 174us/step - loss: 0.4495 - accuracy: 0.8203 - val_loss: 0.4136 - val_accuracy: 0.8451\n",
            "Epoch 136/300\n",
            "395/395 [==============================] - 0s 177us/step - loss: 0.4493 - accuracy: 0.8203 - val_loss: 0.4136 - val_accuracy: 0.8451\n",
            "Epoch 137/300\n",
            "395/395 [==============================] - 0s 177us/step - loss: 0.4493 - accuracy: 0.8203 - val_loss: 0.4133 - val_accuracy: 0.8498\n",
            "Epoch 138/300\n",
            "395/395 [==============================] - 0s 194us/step - loss: 0.4490 - accuracy: 0.8203 - val_loss: 0.4134 - val_accuracy: 0.8451\n",
            "Epoch 139/300\n",
            "395/395 [==============================] - 0s 181us/step - loss: 0.4489 - accuracy: 0.8203 - val_loss: 0.4132 - val_accuracy: 0.8451\n",
            "Epoch 140/300\n",
            "395/395 [==============================] - 0s 194us/step - loss: 0.4488 - accuracy: 0.8203 - val_loss: 0.4134 - val_accuracy: 0.8451\n",
            "Epoch 141/300\n",
            "395/395 [==============================] - 0s 190us/step - loss: 0.4493 - accuracy: 0.8203 - val_loss: 0.4127 - val_accuracy: 0.8498\n",
            "Epoch 142/300\n",
            "395/395 [==============================] - 0s 191us/step - loss: 0.4486 - accuracy: 0.8203 - val_loss: 0.4128 - val_accuracy: 0.8498\n",
            "Epoch 143/300\n",
            "395/395 [==============================] - 0s 179us/step - loss: 0.4486 - accuracy: 0.8203 - val_loss: 0.4128 - val_accuracy: 0.8451\n",
            "Epoch 144/300\n",
            "395/395 [==============================] - 0s 193us/step - loss: 0.4486 - accuracy: 0.8203 - val_loss: 0.4129 - val_accuracy: 0.8451\n",
            "Epoch 145/300\n",
            "395/395 [==============================] - 0s 179us/step - loss: 0.4486 - accuracy: 0.8203 - val_loss: 0.4128 - val_accuracy: 0.8498\n",
            "Epoch 146/300\n",
            "395/395 [==============================] - 0s 193us/step - loss: 0.4488 - accuracy: 0.8203 - val_loss: 0.4127 - val_accuracy: 0.8498\n",
            "Epoch 147/300\n",
            "395/395 [==============================] - 0s 197us/step - loss: 0.4484 - accuracy: 0.8203 - val_loss: 0.4130 - val_accuracy: 0.8451\n",
            "Epoch 148/300\n",
            "395/395 [==============================] - 0s 183us/step - loss: 0.4485 - accuracy: 0.8203 - val_loss: 0.4129 - val_accuracy: 0.8451\n",
            "Epoch 149/300\n",
            "395/395 [==============================] - 0s 181us/step - loss: 0.4487 - accuracy: 0.8203 - val_loss: 0.4128 - val_accuracy: 0.8451\n",
            "Epoch 150/300\n",
            "395/395 [==============================] - 0s 182us/step - loss: 0.4486 - accuracy: 0.8203 - val_loss: 0.4126 - val_accuracy: 0.8451\n",
            "Epoch 151/300\n",
            "395/395 [==============================] - 0s 190us/step - loss: 0.4484 - accuracy: 0.8203 - val_loss: 0.4125 - val_accuracy: 0.8451\n",
            "Epoch 152/300\n",
            "395/395 [==============================] - 0s 180us/step - loss: 0.4482 - accuracy: 0.8203 - val_loss: 0.4121 - val_accuracy: 0.8451\n",
            "Epoch 153/300\n",
            "395/395 [==============================] - 0s 184us/step - loss: 0.4480 - accuracy: 0.8203 - val_loss: 0.4123 - val_accuracy: 0.8451\n",
            "Epoch 154/300\n",
            "395/395 [==============================] - 0s 208us/step - loss: 0.4482 - accuracy: 0.8203 - val_loss: 0.4125 - val_accuracy: 0.8451\n",
            "Epoch 155/300\n",
            "395/395 [==============================] - 0s 178us/step - loss: 0.4486 - accuracy: 0.8203 - val_loss: 0.4126 - val_accuracy: 0.8498\n",
            "Epoch 156/300\n",
            "395/395 [==============================] - 0s 183us/step - loss: 0.4483 - accuracy: 0.8203 - val_loss: 0.4127 - val_accuracy: 0.8498\n",
            "Epoch 157/300\n",
            "395/395 [==============================] - 0s 186us/step - loss: 0.4485 - accuracy: 0.8203 - val_loss: 0.4125 - val_accuracy: 0.8498\n",
            "Epoch 158/300\n",
            "395/395 [==============================] - 0s 198us/step - loss: 0.4480 - accuracy: 0.8203 - val_loss: 0.4124 - val_accuracy: 0.8498\n",
            "Epoch 159/300\n",
            "395/395 [==============================] - 0s 183us/step - loss: 0.4478 - accuracy: 0.8203 - val_loss: 0.4122 - val_accuracy: 0.8451\n",
            "Epoch 160/300\n",
            "395/395 [==============================] - 0s 198us/step - loss: 0.4479 - accuracy: 0.8203 - val_loss: 0.4127 - val_accuracy: 0.8498\n",
            "Epoch 161/300\n",
            "395/395 [==============================] - 0s 197us/step - loss: 0.4475 - accuracy: 0.8203 - val_loss: 0.4122 - val_accuracy: 0.8498\n",
            "Epoch 162/300\n",
            "395/395 [==============================] - 0s 189us/step - loss: 0.4477 - accuracy: 0.8203 - val_loss: 0.4121 - val_accuracy: 0.8498\n",
            "Epoch 163/300\n",
            "395/395 [==============================] - 0s 184us/step - loss: 0.4480 - accuracy: 0.8203 - val_loss: 0.4122 - val_accuracy: 0.8451\n",
            "Epoch 164/300\n",
            "395/395 [==============================] - 0s 186us/step - loss: 0.4474 - accuracy: 0.8203 - val_loss: 0.4121 - val_accuracy: 0.8498\n",
            "Epoch 165/300\n",
            "395/395 [==============================] - 0s 202us/step - loss: 0.4475 - accuracy: 0.8203 - val_loss: 0.4122 - val_accuracy: 0.8498\n",
            "Epoch 166/300\n",
            "395/395 [==============================] - 0s 199us/step - loss: 0.4477 - accuracy: 0.8203 - val_loss: 0.4121 - val_accuracy: 0.8498\n",
            "Epoch 167/300\n",
            "395/395 [==============================] - 0s 179us/step - loss: 0.4487 - accuracy: 0.8203 - val_loss: 0.4120 - val_accuracy: 0.8498\n",
            "Epoch 168/300\n",
            "395/395 [==============================] - 0s 187us/step - loss: 0.4477 - accuracy: 0.8203 - val_loss: 0.4123 - val_accuracy: 0.8498\n",
            "Epoch 169/300\n",
            "395/395 [==============================] - 0s 194us/step - loss: 0.4472 - accuracy: 0.8203 - val_loss: 0.4121 - val_accuracy: 0.8498\n",
            "Epoch 170/300\n",
            "395/395 [==============================] - 0s 182us/step - loss: 0.4475 - accuracy: 0.8203 - val_loss: 0.4123 - val_accuracy: 0.8498\n",
            "Epoch 171/300\n",
            "395/395 [==============================] - 0s 185us/step - loss: 0.4478 - accuracy: 0.8203 - val_loss: 0.4125 - val_accuracy: 0.8498\n",
            "Epoch 172/300\n",
            "395/395 [==============================] - 0s 184us/step - loss: 0.4472 - accuracy: 0.8203 - val_loss: 0.4123 - val_accuracy: 0.8498\n",
            "Epoch 173/300\n",
            "395/395 [==============================] - 0s 199us/step - loss: 0.4491 - accuracy: 0.8203 - val_loss: 0.4124 - val_accuracy: 0.8498\n",
            "Epoch 174/300\n",
            "395/395 [==============================] - 0s 214us/step - loss: 0.4472 - accuracy: 0.8203 - val_loss: 0.4121 - val_accuracy: 0.8498\n",
            "Epoch 175/300\n",
            "395/395 [==============================] - 0s 189us/step - loss: 0.4475 - accuracy: 0.8203 - val_loss: 0.4121 - val_accuracy: 0.8498\n",
            "Epoch 176/300\n",
            "395/395 [==============================] - 0s 196us/step - loss: 0.4471 - accuracy: 0.8203 - val_loss: 0.4124 - val_accuracy: 0.8498\n",
            "Epoch 177/300\n",
            "395/395 [==============================] - 0s 189us/step - loss: 0.4476 - accuracy: 0.8203 - val_loss: 0.4121 - val_accuracy: 0.8498\n",
            "Epoch 178/300\n",
            "395/395 [==============================] - 0s 204us/step - loss: 0.4472 - accuracy: 0.8203 - val_loss: 0.4121 - val_accuracy: 0.8498\n",
            "Epoch 179/300\n",
            "395/395 [==============================] - 0s 183us/step - loss: 0.4475 - accuracy: 0.8203 - val_loss: 0.4125 - val_accuracy: 0.8498\n",
            "Epoch 180/300\n",
            "395/395 [==============================] - 0s 186us/step - loss: 0.4473 - accuracy: 0.8203 - val_loss: 0.4125 - val_accuracy: 0.8451\n",
            "Epoch 181/300\n",
            "395/395 [==============================] - 0s 190us/step - loss: 0.4478 - accuracy: 0.8203 - val_loss: 0.4123 - val_accuracy: 0.8498\n",
            "Epoch 182/300\n",
            "395/395 [==============================] - 0s 184us/step - loss: 0.4473 - accuracy: 0.8203 - val_loss: 0.4134 - val_accuracy: 0.8498\n",
            "Epoch 183/300\n",
            "395/395 [==============================] - 0s 186us/step - loss: 0.4474 - accuracy: 0.8203 - val_loss: 0.4122 - val_accuracy: 0.8498\n",
            "Epoch 184/300\n",
            "395/395 [==============================] - 0s 202us/step - loss: 0.4473 - accuracy: 0.8203 - val_loss: 0.4123 - val_accuracy: 0.8498\n",
            "Epoch 185/300\n",
            "395/395 [==============================] - 0s 186us/step - loss: 0.4466 - accuracy: 0.8203 - val_loss: 0.4127 - val_accuracy: 0.8498\n",
            "Epoch 186/300\n",
            "395/395 [==============================] - 0s 190us/step - loss: 0.4474 - accuracy: 0.8203 - val_loss: 0.4127 - val_accuracy: 0.8498\n",
            "Epoch 187/300\n",
            "395/395 [==============================] - 0s 193us/step - loss: 0.4469 - accuracy: 0.8203 - val_loss: 0.4123 - val_accuracy: 0.8498\n",
            "Epoch 188/300\n",
            "395/395 [==============================] - 0s 186us/step - loss: 0.4469 - accuracy: 0.8203 - val_loss: 0.4121 - val_accuracy: 0.8498\n",
            "Epoch 189/300\n",
            "395/395 [==============================] - 0s 193us/step - loss: 0.4479 - accuracy: 0.8203 - val_loss: 0.4123 - val_accuracy: 0.8498\n",
            "Epoch 190/300\n",
            "395/395 [==============================] - 0s 176us/step - loss: 0.4468 - accuracy: 0.8203 - val_loss: 0.4119 - val_accuracy: 0.8498\n",
            "Epoch 191/300\n",
            "395/395 [==============================] - 0s 188us/step - loss: 0.4474 - accuracy: 0.8203 - val_loss: 0.4121 - val_accuracy: 0.8498\n",
            "Epoch 192/300\n",
            "395/395 [==============================] - 0s 194us/step - loss: 0.4468 - accuracy: 0.8203 - val_loss: 0.4124 - val_accuracy: 0.8498\n",
            "Epoch 193/300\n",
            "395/395 [==============================] - 0s 181us/step - loss: 0.4469 - accuracy: 0.8203 - val_loss: 0.4124 - val_accuracy: 0.8498\n",
            "Epoch 194/300\n",
            "395/395 [==============================] - 0s 183us/step - loss: 0.4472 - accuracy: 0.8203 - val_loss: 0.4123 - val_accuracy: 0.8498\n",
            "Epoch 195/300\n",
            "395/395 [==============================] - 0s 195us/step - loss: 0.4468 - accuracy: 0.8203 - val_loss: 0.4124 - val_accuracy: 0.8498\n",
            "Epoch 196/300\n",
            "395/395 [==============================] - 0s 178us/step - loss: 0.4472 - accuracy: 0.8203 - val_loss: 0.4119 - val_accuracy: 0.8498\n",
            "Epoch 197/300\n",
            "395/395 [==============================] - 0s 195us/step - loss: 0.4472 - accuracy: 0.8203 - val_loss: 0.4121 - val_accuracy: 0.8498\n",
            "Epoch 198/300\n",
            "395/395 [==============================] - 0s 205us/step - loss: 0.4467 - accuracy: 0.8203 - val_loss: 0.4124 - val_accuracy: 0.8498\n",
            "Epoch 199/300\n",
            "395/395 [==============================] - 0s 206us/step - loss: 0.4467 - accuracy: 0.8203 - val_loss: 0.4120 - val_accuracy: 0.8498\n",
            "Epoch 200/300\n",
            "395/395 [==============================] - 0s 186us/step - loss: 0.4472 - accuracy: 0.8203 - val_loss: 0.4122 - val_accuracy: 0.8498\n",
            "Epoch 201/300\n",
            "395/395 [==============================] - 0s 199us/step - loss: 0.4467 - accuracy: 0.8203 - val_loss: 0.4123 - val_accuracy: 0.8498\n",
            "Epoch 202/300\n",
            "395/395 [==============================] - 0s 184us/step - loss: 0.4468 - accuracy: 0.8203 - val_loss: 0.4118 - val_accuracy: 0.8498\n",
            "Epoch 203/300\n",
            "395/395 [==============================] - 0s 185us/step - loss: 0.4467 - accuracy: 0.8203 - val_loss: 0.4122 - val_accuracy: 0.8498\n",
            "Epoch 204/300\n",
            "395/395 [==============================] - 0s 196us/step - loss: 0.4468 - accuracy: 0.8203 - val_loss: 0.4123 - val_accuracy: 0.8498\n",
            "Epoch 205/300\n",
            "395/395 [==============================] - 0s 182us/step - loss: 0.4467 - accuracy: 0.8203 - val_loss: 0.4119 - val_accuracy: 0.8498\n",
            "Epoch 206/300\n",
            "395/395 [==============================] - 0s 208us/step - loss: 0.4467 - accuracy: 0.8203 - val_loss: 0.4124 - val_accuracy: 0.8498\n",
            "Epoch 207/300\n",
            "395/395 [==============================] - 0s 187us/step - loss: 0.4466 - accuracy: 0.8203 - val_loss: 0.4125 - val_accuracy: 0.8498\n",
            "Epoch 208/300\n",
            "395/395 [==============================] - 0s 175us/step - loss: 0.4469 - accuracy: 0.8203 - val_loss: 0.4126 - val_accuracy: 0.8498\n",
            "Epoch 209/300\n",
            "395/395 [==============================] - 0s 173us/step - loss: 0.4464 - accuracy: 0.8203 - val_loss: 0.4122 - val_accuracy: 0.8498\n",
            "Epoch 210/300\n",
            "395/395 [==============================] - 0s 177us/step - loss: 0.4465 - accuracy: 0.8203 - val_loss: 0.4124 - val_accuracy: 0.8498\n",
            "Epoch 211/300\n",
            "395/395 [==============================] - 0s 173us/step - loss: 0.4472 - accuracy: 0.8203 - val_loss: 0.4125 - val_accuracy: 0.8498\n",
            "Epoch 212/300\n",
            "395/395 [==============================] - 0s 181us/step - loss: 0.4466 - accuracy: 0.8203 - val_loss: 0.4120 - val_accuracy: 0.8498\n",
            "Epoch 213/300\n",
            "395/395 [==============================] - 0s 176us/step - loss: 0.4465 - accuracy: 0.8203 - val_loss: 0.4125 - val_accuracy: 0.8498\n",
            "Epoch 214/300\n",
            "395/395 [==============================] - 0s 176us/step - loss: 0.4467 - accuracy: 0.8203 - val_loss: 0.4127 - val_accuracy: 0.8498\n",
            "Epoch 215/300\n",
            "395/395 [==============================] - 0s 167us/step - loss: 0.4466 - accuracy: 0.8203 - val_loss: 0.4122 - val_accuracy: 0.8498\n",
            "Epoch 216/300\n",
            "395/395 [==============================] - 0s 174us/step - loss: 0.4465 - accuracy: 0.8203 - val_loss: 0.4127 - val_accuracy: 0.8498\n",
            "Epoch 217/300\n",
            "395/395 [==============================] - 0s 174us/step - loss: 0.4464 - accuracy: 0.8203 - val_loss: 0.4127 - val_accuracy: 0.8498\n",
            "Epoch 218/300\n",
            "395/395 [==============================] - 0s 207us/step - loss: 0.4468 - accuracy: 0.8203 - val_loss: 0.4119 - val_accuracy: 0.8498\n",
            "Epoch 219/300\n",
            "395/395 [==============================] - 0s 175us/step - loss: 0.4470 - accuracy: 0.8203 - val_loss: 0.4121 - val_accuracy: 0.8498\n",
            "Epoch 220/300\n",
            "395/395 [==============================] - 0s 173us/step - loss: 0.4466 - accuracy: 0.8203 - val_loss: 0.4124 - val_accuracy: 0.8498\n",
            "Epoch 221/300\n",
            "395/395 [==============================] - 0s 176us/step - loss: 0.4463 - accuracy: 0.8203 - val_loss: 0.4130 - val_accuracy: 0.8498\n",
            "Epoch 222/300\n",
            "395/395 [==============================] - 0s 173us/step - loss: 0.4463 - accuracy: 0.8203 - val_loss: 0.4127 - val_accuracy: 0.8498\n",
            "Epoch 223/300\n",
            "395/395 [==============================] - 0s 178us/step - loss: 0.4464 - accuracy: 0.8203 - val_loss: 0.4125 - val_accuracy: 0.8498\n",
            "Epoch 224/300\n",
            "395/395 [==============================] - 0s 172us/step - loss: 0.4465 - accuracy: 0.8203 - val_loss: 0.4127 - val_accuracy: 0.8498\n",
            "Epoch 225/300\n",
            "395/395 [==============================] - 0s 178us/step - loss: 0.4460 - accuracy: 0.8203 - val_loss: 0.4123 - val_accuracy: 0.8498\n",
            "Epoch 226/300\n",
            "395/395 [==============================] - 0s 179us/step - loss: 0.4463 - accuracy: 0.8203 - val_loss: 0.4127 - val_accuracy: 0.8498\n",
            "Epoch 227/300\n",
            "395/395 [==============================] - 0s 200us/step - loss: 0.4464 - accuracy: 0.8203 - val_loss: 0.4128 - val_accuracy: 0.8498\n",
            "Epoch 228/300\n",
            "395/395 [==============================] - 0s 177us/step - loss: 0.4462 - accuracy: 0.8203 - val_loss: 0.4130 - val_accuracy: 0.8498\n",
            "Epoch 229/300\n",
            "395/395 [==============================] - 0s 175us/step - loss: 0.4468 - accuracy: 0.8203 - val_loss: 0.4128 - val_accuracy: 0.8498\n",
            "Epoch 230/300\n",
            "395/395 [==============================] - 0s 174us/step - loss: 0.4462 - accuracy: 0.8203 - val_loss: 0.4129 - val_accuracy: 0.8498\n",
            "Epoch 231/300\n",
            "395/395 [==============================] - 0s 173us/step - loss: 0.4461 - accuracy: 0.8203 - val_loss: 0.4132 - val_accuracy: 0.8498\n",
            "Epoch 232/300\n",
            "395/395 [==============================] - 0s 185us/step - loss: 0.4463 - accuracy: 0.8203 - val_loss: 0.4128 - val_accuracy: 0.8498\n",
            "Epoch 233/300\n",
            "395/395 [==============================] - 0s 175us/step - loss: 0.4467 - accuracy: 0.8203 - val_loss: 0.4127 - val_accuracy: 0.8498\n",
            "Epoch 234/300\n",
            "395/395 [==============================] - 0s 179us/step - loss: 0.4462 - accuracy: 0.8203 - val_loss: 0.4129 - val_accuracy: 0.8498\n",
            "Epoch 235/300\n",
            "395/395 [==============================] - 0s 177us/step - loss: 0.4460 - accuracy: 0.8203 - val_loss: 0.4125 - val_accuracy: 0.8498\n",
            "Epoch 236/300\n",
            "395/395 [==============================] - 0s 209us/step - loss: 0.4462 - accuracy: 0.8203 - val_loss: 0.4126 - val_accuracy: 0.8498\n",
            "Epoch 237/300\n",
            "395/395 [==============================] - 0s 175us/step - loss: 0.4464 - accuracy: 0.8203 - val_loss: 0.4125 - val_accuracy: 0.8498\n",
            "Epoch 238/300\n",
            "395/395 [==============================] - 0s 175us/step - loss: 0.4463 - accuracy: 0.8203 - val_loss: 0.4131 - val_accuracy: 0.8498\n",
            "Epoch 239/300\n",
            "395/395 [==============================] - 0s 175us/step - loss: 0.4462 - accuracy: 0.8203 - val_loss: 0.4128 - val_accuracy: 0.8498\n",
            "Epoch 240/300\n",
            "395/395 [==============================] - 0s 176us/step - loss: 0.4461 - accuracy: 0.8203 - val_loss: 0.4128 - val_accuracy: 0.8498\n",
            "Epoch 241/300\n",
            "395/395 [==============================] - 0s 177us/step - loss: 0.4463 - accuracy: 0.8203 - val_loss: 0.4124 - val_accuracy: 0.8498\n",
            "Epoch 242/300\n",
            "395/395 [==============================] - 0s 193us/step - loss: 0.4465 - accuracy: 0.8203 - val_loss: 0.4124 - val_accuracy: 0.8498\n",
            "Epoch 243/300\n",
            "395/395 [==============================] - 0s 176us/step - loss: 0.4469 - accuracy: 0.8203 - val_loss: 0.4124 - val_accuracy: 0.8498\n",
            "Epoch 244/300\n",
            "395/395 [==============================] - 0s 213us/step - loss: 0.4464 - accuracy: 0.8203 - val_loss: 0.4126 - val_accuracy: 0.8498\n",
            "Epoch 245/300\n",
            "395/395 [==============================] - 0s 178us/step - loss: 0.4462 - accuracy: 0.8203 - val_loss: 0.4132 - val_accuracy: 0.8498\n",
            "Epoch 246/300\n",
            "395/395 [==============================] - 0s 194us/step - loss: 0.4465 - accuracy: 0.8203 - val_loss: 0.4127 - val_accuracy: 0.8498\n",
            "Epoch 247/300\n",
            "395/395 [==============================] - 0s 179us/step - loss: 0.4462 - accuracy: 0.8203 - val_loss: 0.4128 - val_accuracy: 0.8498\n",
            "Epoch 248/300\n",
            "395/395 [==============================] - 0s 182us/step - loss: 0.4460 - accuracy: 0.8203 - val_loss: 0.4129 - val_accuracy: 0.8498\n",
            "Epoch 249/300\n",
            "395/395 [==============================] - 0s 195us/step - loss: 0.4464 - accuracy: 0.8203 - val_loss: 0.4127 - val_accuracy: 0.8498\n",
            "Epoch 250/300\n",
            "395/395 [==============================] - 0s 177us/step - loss: 0.4466 - accuracy: 0.8203 - val_loss: 0.4128 - val_accuracy: 0.8498\n",
            "Epoch 251/300\n",
            "395/395 [==============================] - 0s 175us/step - loss: 0.4461 - accuracy: 0.8203 - val_loss: 0.4130 - val_accuracy: 0.8498\n",
            "Epoch 252/300\n",
            "395/395 [==============================] - 0s 176us/step - loss: 0.4459 - accuracy: 0.8203 - val_loss: 0.4131 - val_accuracy: 0.8498\n",
            "Epoch 253/300\n",
            "395/395 [==============================] - 0s 170us/step - loss: 0.4463 - accuracy: 0.8203 - val_loss: 0.4124 - val_accuracy: 0.8498\n",
            "Epoch 254/300\n",
            "395/395 [==============================] - 0s 178us/step - loss: 0.4458 - accuracy: 0.8203 - val_loss: 0.4130 - val_accuracy: 0.8498\n",
            "Epoch 255/300\n",
            "395/395 [==============================] - 0s 175us/step - loss: 0.4469 - accuracy: 0.8203 - val_loss: 0.4135 - val_accuracy: 0.8498\n",
            "Epoch 256/300\n",
            "395/395 [==============================] - 0s 175us/step - loss: 0.4465 - accuracy: 0.8203 - val_loss: 0.4137 - val_accuracy: 0.8498\n",
            "Epoch 257/300\n",
            "395/395 [==============================] - 0s 174us/step - loss: 0.4460 - accuracy: 0.8203 - val_loss: 0.4128 - val_accuracy: 0.8498\n",
            "Epoch 258/300\n",
            "395/395 [==============================] - 0s 176us/step - loss: 0.4463 - accuracy: 0.8203 - val_loss: 0.4133 - val_accuracy: 0.8498\n",
            "Epoch 259/300\n",
            "395/395 [==============================] - 0s 178us/step - loss: 0.4457 - accuracy: 0.8203 - val_loss: 0.4132 - val_accuracy: 0.8498\n",
            "Epoch 260/300\n",
            "395/395 [==============================] - 0s 204us/step - loss: 0.4461 - accuracy: 0.8203 - val_loss: 0.4135 - val_accuracy: 0.8498\n",
            "Epoch 261/300\n",
            "395/395 [==============================] - 0s 177us/step - loss: 0.4462 - accuracy: 0.8203 - val_loss: 0.4125 - val_accuracy: 0.8498\n",
            "Epoch 262/300\n",
            "395/395 [==============================] - 0s 176us/step - loss: 0.4461 - accuracy: 0.8203 - val_loss: 0.4132 - val_accuracy: 0.8498\n",
            "Epoch 263/300\n",
            "395/395 [==============================] - 0s 178us/step - loss: 0.4460 - accuracy: 0.8203 - val_loss: 0.4133 - val_accuracy: 0.8498\n",
            "Epoch 264/300\n",
            "395/395 [==============================] - 0s 173us/step - loss: 0.4464 - accuracy: 0.8203 - val_loss: 0.4129 - val_accuracy: 0.8498\n",
            "Epoch 265/300\n",
            "395/395 [==============================] - 0s 178us/step - loss: 0.4478 - accuracy: 0.8203 - val_loss: 0.4130 - val_accuracy: 0.8498\n",
            "Epoch 266/300\n",
            "395/395 [==============================] - 0s 196us/step - loss: 0.4463 - accuracy: 0.8203 - val_loss: 0.4132 - val_accuracy: 0.8498\n",
            "Epoch 267/300\n",
            "395/395 [==============================] - 0s 206us/step - loss: 0.4461 - accuracy: 0.8203 - val_loss: 0.4134 - val_accuracy: 0.8498\n",
            "Epoch 268/300\n",
            "395/395 [==============================] - 0s 180us/step - loss: 0.4457 - accuracy: 0.8203 - val_loss: 0.4128 - val_accuracy: 0.8498\n",
            "Epoch 269/300\n",
            "395/395 [==============================] - 0s 192us/step - loss: 0.4459 - accuracy: 0.8203 - val_loss: 0.4129 - val_accuracy: 0.8498\n",
            "Epoch 270/300\n",
            "395/395 [==============================] - 0s 178us/step - loss: 0.4461 - accuracy: 0.8203 - val_loss: 0.4135 - val_accuracy: 0.8498\n",
            "Epoch 271/300\n",
            "395/395 [==============================] - 0s 179us/step - loss: 0.4468 - accuracy: 0.8203 - val_loss: 0.4142 - val_accuracy: 0.8498\n",
            "Epoch 272/300\n",
            "395/395 [==============================] - 0s 179us/step - loss: 0.4464 - accuracy: 0.8253 - val_loss: 0.4135 - val_accuracy: 0.8498\n",
            "Epoch 273/300\n",
            "395/395 [==============================] - 0s 176us/step - loss: 0.4460 - accuracy: 0.8203 - val_loss: 0.4132 - val_accuracy: 0.8498\n",
            "Epoch 274/300\n",
            "395/395 [==============================] - 0s 199us/step - loss: 0.4467 - accuracy: 0.8203 - val_loss: 0.4131 - val_accuracy: 0.8498\n",
            "Epoch 275/300\n",
            "395/395 [==============================] - 0s 178us/step - loss: 0.4460 - accuracy: 0.8203 - val_loss: 0.4136 - val_accuracy: 0.8498\n",
            "Epoch 276/300\n",
            "395/395 [==============================] - 0s 197us/step - loss: 0.4458 - accuracy: 0.8203 - val_loss: 0.4141 - val_accuracy: 0.8498\n",
            "Epoch 277/300\n",
            "395/395 [==============================] - 0s 182us/step - loss: 0.4469 - accuracy: 0.8228 - val_loss: 0.4133 - val_accuracy: 0.8498\n",
            "Epoch 278/300\n",
            "395/395 [==============================] - 0s 180us/step - loss: 0.4460 - accuracy: 0.8203 - val_loss: 0.4133 - val_accuracy: 0.8498\n",
            "Epoch 279/300\n",
            "395/395 [==============================] - 0s 176us/step - loss: 0.4472 - accuracy: 0.8203 - val_loss: 0.4138 - val_accuracy: 0.8498\n",
            "Epoch 280/300\n",
            "395/395 [==============================] - 0s 173us/step - loss: 0.4463 - accuracy: 0.8203 - val_loss: 0.4142 - val_accuracy: 0.8498\n",
            "Epoch 281/300\n",
            "395/395 [==============================] - 0s 177us/step - loss: 0.4460 - accuracy: 0.8203 - val_loss: 0.4132 - val_accuracy: 0.8498\n",
            "Epoch 282/300\n",
            "395/395 [==============================] - 0s 179us/step - loss: 0.4462 - accuracy: 0.8203 - val_loss: 0.4137 - val_accuracy: 0.8498\n",
            "Epoch 283/300\n",
            "395/395 [==============================] - 0s 174us/step - loss: 0.4461 - accuracy: 0.8203 - val_loss: 0.4139 - val_accuracy: 0.8498\n",
            "Epoch 284/300\n",
            "395/395 [==============================] - 0s 188us/step - loss: 0.4457 - accuracy: 0.8203 - val_loss: 0.4144 - val_accuracy: 0.8498\n",
            "Epoch 285/300\n",
            "395/395 [==============================] - 0s 200us/step - loss: 0.4465 - accuracy: 0.8203 - val_loss: 0.4132 - val_accuracy: 0.8498\n",
            "Epoch 286/300\n",
            "395/395 [==============================] - 0s 180us/step - loss: 0.4464 - accuracy: 0.8203 - val_loss: 0.4138 - val_accuracy: 0.8498\n",
            "Epoch 287/300\n",
            "395/395 [==============================] - 0s 179us/step - loss: 0.4459 - accuracy: 0.8203 - val_loss: 0.4143 - val_accuracy: 0.8498\n",
            "Epoch 288/300\n",
            "395/395 [==============================] - 0s 195us/step - loss: 0.4456 - accuracy: 0.8203 - val_loss: 0.4143 - val_accuracy: 0.8498\n",
            "Epoch 289/300\n",
            "395/395 [==============================] - 0s 174us/step - loss: 0.4457 - accuracy: 0.8203 - val_loss: 0.4144 - val_accuracy: 0.8498\n",
            "Epoch 290/300\n",
            "395/395 [==============================] - 0s 177us/step - loss: 0.4460 - accuracy: 0.8203 - val_loss: 0.4132 - val_accuracy: 0.8498\n",
            "Epoch 291/300\n",
            "395/395 [==============================] - 0s 179us/step - loss: 0.4458 - accuracy: 0.8203 - val_loss: 0.4137 - val_accuracy: 0.8498\n",
            "Epoch 292/300\n",
            "395/395 [==============================] - 0s 176us/step - loss: 0.4457 - accuracy: 0.8203 - val_loss: 0.4141 - val_accuracy: 0.8498\n",
            "Epoch 293/300\n",
            "395/395 [==============================] - 0s 180us/step - loss: 0.4461 - accuracy: 0.8203 - val_loss: 0.4139 - val_accuracy: 0.8498\n",
            "Epoch 294/300\n",
            "395/395 [==============================] - 0s 174us/step - loss: 0.4457 - accuracy: 0.8203 - val_loss: 0.4135 - val_accuracy: 0.8498\n",
            "Epoch 295/300\n",
            "395/395 [==============================] - 0s 177us/step - loss: 0.4458 - accuracy: 0.8203 - val_loss: 0.4138 - val_accuracy: 0.8498\n",
            "Epoch 296/300\n",
            "395/395 [==============================] - 0s 179us/step - loss: 0.4460 - accuracy: 0.8203 - val_loss: 0.4138 - val_accuracy: 0.8498\n",
            "Epoch 297/300\n",
            "395/395 [==============================] - 0s 178us/step - loss: 0.4459 - accuracy: 0.8203 - val_loss: 0.4143 - val_accuracy: 0.8498\n",
            "Epoch 298/300\n",
            "395/395 [==============================] - 0s 180us/step - loss: 0.4462 - accuracy: 0.8203 - val_loss: 0.4135 - val_accuracy: 0.8498\n",
            "Epoch 299/300\n",
            "395/395 [==============================] - 0s 174us/step - loss: 0.4465 - accuracy: 0.8203 - val_loss: 0.4135 - val_accuracy: 0.8498\n",
            "Epoch 300/300\n",
            "395/395 [==============================] - 0s 174us/step - loss: 0.4463 - accuracy: 0.8203 - val_loss: 0.4140 - val_accuracy: 0.8498\n"
          ],
          "name": "stdout"
        }
      ]
    },
    {
      "cell_type": "markdown",
      "metadata": {
        "colab_type": "text",
        "id": "9xCVV2U5QU0z"
      },
      "source": [
        "**Note**: From Above 6 Algorithms and one Artificial Neural Network(83.04%) it can be seen that Logistic Regression and SVC give mean score of 83.4% so we can use either of them to Test our result."
      ]
    },
    {
      "cell_type": "markdown",
      "metadata": {
        "colab_type": "text",
        "id": "FELsBsYBQU00"
      },
      "source": [
        "## Testing "
      ]
    },
    {
      "cell_type": "code",
      "metadata": {
        "colab_type": "code",
        "id": "paIyMd8mQU00",
        "colab": {}
      },
      "source": [
        "clf = LogisticRegression()\n",
        "clf.fit(X_train,y_train)\n",
        "#test_data = test.drop( \"Loan_ID\", axis=1).copy()\n",
        "prediction = clf.predict(X_test)"
      ],
      "execution_count": 116,
      "outputs": []
    },
    {
      "cell_type": "markdown",
      "metadata": {
        "colab_type": "text",
        "id": "AGk9_JKDQU02"
      },
      "source": [
        "### Preparing For the Submission"
      ]
    },
    {
      "cell_type": "code",
      "metadata": {
        "colab_type": "code",
        "id": "azXeYXNSQU02",
        "colab": {}
      },
      "source": [
        "submission = pd.DataFrame({\n",
        "        \"Loan_ID\": test[\"Loan_ID\"],\n",
        "        \"Loan_Status\": prediction\n",
        "    })"
      ],
      "execution_count": 117,
      "outputs": []
    },
    {
      "cell_type": "code",
      "metadata": {
        "colab_type": "code",
        "id": "7wH1LZGxQU05",
        "colab": {}
      },
      "source": [
        "# replacing 0 and 1 with N and Y\n",
        "submission['Loan_Status'].replace(0, 'N', inplace=True)\n",
        "submission['Loan_Status'].replace(1, 'Y', inplace=True)"
      ],
      "execution_count": 118,
      "outputs": []
    },
    {
      "cell_type": "code",
      "metadata": {
        "colab_type": "code",
        "id": "zFek6oC1QU07",
        "colab": {}
      },
      "source": [
        "submission.to_csv('submission.csv', index=False)"
      ],
      "execution_count": 119,
      "outputs": []
    },
    {
      "cell_type": "code",
      "metadata": {
        "colab_type": "code",
        "id": "4HbguEHjQU0-",
        "colab": {
          "base_uri": "https://localhost:8080/",
          "height": 947
        },
        "outputId": "82cc6d8b-8a04-4045-8be3-44658cb44b71"
      },
      "source": [
        "submission = pd.read_csv('submission.csv')\n",
        "submission[20:50]"
      ],
      "execution_count": 120,
      "outputs": [
        {
          "output_type": "execute_result",
          "data": {
            "text/html": [
              "<div>\n",
              "<style scoped>\n",
              "    .dataframe tbody tr th:only-of-type {\n",
              "        vertical-align: middle;\n",
              "    }\n",
              "\n",
              "    .dataframe tbody tr th {\n",
              "        vertical-align: top;\n",
              "    }\n",
              "\n",
              "    .dataframe thead th {\n",
              "        text-align: right;\n",
              "    }\n",
              "</style>\n",
              "<table border=\"1\" class=\"dataframe\">\n",
              "  <thead>\n",
              "    <tr style=\"text-align: right;\">\n",
              "      <th></th>\n",
              "      <th>Loan_ID</th>\n",
              "      <th>Loan_Status</th>\n",
              "    </tr>\n",
              "  </thead>\n",
              "  <tbody>\n",
              "    <tr>\n",
              "      <th>20</th>\n",
              "      <td>LP001121</td>\n",
              "      <td>Y</td>\n",
              "    </tr>\n",
              "    <tr>\n",
              "      <th>21</th>\n",
              "      <td>LP001124</td>\n",
              "      <td>Y</td>\n",
              "    </tr>\n",
              "    <tr>\n",
              "      <th>22</th>\n",
              "      <td>LP001128</td>\n",
              "      <td>Y</td>\n",
              "    </tr>\n",
              "    <tr>\n",
              "      <th>23</th>\n",
              "      <td>LP001135</td>\n",
              "      <td>Y</td>\n",
              "    </tr>\n",
              "    <tr>\n",
              "      <th>24</th>\n",
              "      <td>LP001149</td>\n",
              "      <td>Y</td>\n",
              "    </tr>\n",
              "    <tr>\n",
              "      <th>25</th>\n",
              "      <td>LP001153</td>\n",
              "      <td>N</td>\n",
              "    </tr>\n",
              "    <tr>\n",
              "      <th>26</th>\n",
              "      <td>LP001163</td>\n",
              "      <td>Y</td>\n",
              "    </tr>\n",
              "    <tr>\n",
              "      <th>27</th>\n",
              "      <td>LP001169</td>\n",
              "      <td>Y</td>\n",
              "    </tr>\n",
              "    <tr>\n",
              "      <th>28</th>\n",
              "      <td>LP001174</td>\n",
              "      <td>Y</td>\n",
              "    </tr>\n",
              "    <tr>\n",
              "      <th>29</th>\n",
              "      <td>LP001176</td>\n",
              "      <td>Y</td>\n",
              "    </tr>\n",
              "    <tr>\n",
              "      <th>30</th>\n",
              "      <td>LP001177</td>\n",
              "      <td>Y</td>\n",
              "    </tr>\n",
              "    <tr>\n",
              "      <th>31</th>\n",
              "      <td>LP001183</td>\n",
              "      <td>Y</td>\n",
              "    </tr>\n",
              "    <tr>\n",
              "      <th>32</th>\n",
              "      <td>LP001185</td>\n",
              "      <td>Y</td>\n",
              "    </tr>\n",
              "    <tr>\n",
              "      <th>33</th>\n",
              "      <td>LP001187</td>\n",
              "      <td>Y</td>\n",
              "    </tr>\n",
              "    <tr>\n",
              "      <th>34</th>\n",
              "      <td>LP001190</td>\n",
              "      <td>Y</td>\n",
              "    </tr>\n",
              "    <tr>\n",
              "      <th>35</th>\n",
              "      <td>LP001203</td>\n",
              "      <td>N</td>\n",
              "    </tr>\n",
              "    <tr>\n",
              "      <th>36</th>\n",
              "      <td>LP001208</td>\n",
              "      <td>Y</td>\n",
              "    </tr>\n",
              "    <tr>\n",
              "      <th>37</th>\n",
              "      <td>LP001210</td>\n",
              "      <td>Y</td>\n",
              "    </tr>\n",
              "    <tr>\n",
              "      <th>38</th>\n",
              "      <td>LP001211</td>\n",
              "      <td>Y</td>\n",
              "    </tr>\n",
              "    <tr>\n",
              "      <th>39</th>\n",
              "      <td>LP001219</td>\n",
              "      <td>Y</td>\n",
              "    </tr>\n",
              "    <tr>\n",
              "      <th>40</th>\n",
              "      <td>LP001220</td>\n",
              "      <td>Y</td>\n",
              "    </tr>\n",
              "    <tr>\n",
              "      <th>41</th>\n",
              "      <td>LP001221</td>\n",
              "      <td>Y</td>\n",
              "    </tr>\n",
              "    <tr>\n",
              "      <th>42</th>\n",
              "      <td>LP001226</td>\n",
              "      <td>Y</td>\n",
              "    </tr>\n",
              "    <tr>\n",
              "      <th>43</th>\n",
              "      <td>LP001230</td>\n",
              "      <td>Y</td>\n",
              "    </tr>\n",
              "    <tr>\n",
              "      <th>44</th>\n",
              "      <td>LP001231</td>\n",
              "      <td>Y</td>\n",
              "    </tr>\n",
              "    <tr>\n",
              "      <th>45</th>\n",
              "      <td>LP001232</td>\n",
              "      <td>Y</td>\n",
              "    </tr>\n",
              "    <tr>\n",
              "      <th>46</th>\n",
              "      <td>LP001237</td>\n",
              "      <td>Y</td>\n",
              "    </tr>\n",
              "    <tr>\n",
              "      <th>47</th>\n",
              "      <td>LP001242</td>\n",
              "      <td>Y</td>\n",
              "    </tr>\n",
              "    <tr>\n",
              "      <th>48</th>\n",
              "      <td>LP001268</td>\n",
              "      <td>Y</td>\n",
              "    </tr>\n",
              "    <tr>\n",
              "      <th>49</th>\n",
              "      <td>LP001270</td>\n",
              "      <td>Y</td>\n",
              "    </tr>\n",
              "  </tbody>\n",
              "</table>\n",
              "</div>"
            ],
            "text/plain": [
              "     Loan_ID Loan_Status\n",
              "20  LP001121           Y\n",
              "21  LP001124           Y\n",
              "22  LP001128           Y\n",
              "23  LP001135           Y\n",
              "24  LP001149           Y\n",
              "25  LP001153           N\n",
              "26  LP001163           Y\n",
              "27  LP001169           Y\n",
              "28  LP001174           Y\n",
              "29  LP001176           Y\n",
              "30  LP001177           Y\n",
              "31  LP001183           Y\n",
              "32  LP001185           Y\n",
              "33  LP001187           Y\n",
              "34  LP001190           Y\n",
              "35  LP001203           N\n",
              "36  LP001208           Y\n",
              "37  LP001210           Y\n",
              "38  LP001211           Y\n",
              "39  LP001219           Y\n",
              "40  LP001220           Y\n",
              "41  LP001221           Y\n",
              "42  LP001226           Y\n",
              "43  LP001230           Y\n",
              "44  LP001231           Y\n",
              "45  LP001232           Y\n",
              "46  LP001237           Y\n",
              "47  LP001242           Y\n",
              "48  LP001268           Y\n",
              "49  LP001270           Y"
            ]
          },
          "metadata": {
            "tags": []
          },
          "execution_count": 120
        }
      ]
    },
    {
      "cell_type": "markdown",
      "metadata": {
        "colab_type": "text",
        "id": "go0pWifUQU0_"
      },
      "source": [
        "We can Improve our model accuracy by spending some time in \n",
        "- Hyperparameter Tuning\n",
        "- Feature Engineering (Require some Domain Knowledge for that things).\n",
        "- Creating new Feature by observing Some Pattern.\n",
        "\n",
        "\n",
        "If you have any feedback for this project, feel free to contact me via my [LinkedIn](https://www.linkedin.com/in/ayush-kumar-26957b189/) or [GitHub Pages](https://github.com/ayushkesh).\n",
        "- Please fork this page in your github and Let me know if you end up with accuracy more than the above predicted."
      ]
    },
    {
      "cell_type": "markdown",
      "metadata": {
        "colab_type": "text",
        "id": "WxqFlb_wQU0_"
      },
      "source": [
        "### Happy Learning **\n",
        " **ML FOR ALL**"
      ]
    },
    {
      "cell_type": "code",
      "metadata": {
        "colab_type": "code",
        "id": "q-m3E0tXQU0_",
        "colab": {}
      },
      "source": [
        ""
      ],
      "execution_count": 120,
      "outputs": []
    }
  ]
}